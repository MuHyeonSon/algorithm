{
  "nbformat": 4,
  "nbformat_minor": 0,
  "metadata": {
    "colab": {
      "name": "Algorithm_report1.ipynb",
      "provenance": [],
      "collapsed_sections": [],
      "authorship_tag": "ABX9TyOw+3en45P3wRHjDTXbaBC3",
      "include_colab_link": true
    },
    "kernelspec": {
      "name": "python3",
      "display_name": "Python 3"
    },
    "language_info": {
      "name": "python"
    }
  },
  "cells": [
    {
      "cell_type": "markdown",
      "metadata": {
        "id": "view-in-github",
        "colab_type": "text"
      },
      "source": [
        "<a href=\"https://colab.research.google.com/github/MuHyeonSon/algorithm/blob/main/Algorithm_2022_1/Algorithm_report1.ipynb\" target=\"_parent\"><img src=\"https://colab.research.google.com/assets/colab-badge.svg\" alt=\"Open In Colab\"/></a>"
      ]
    },
    {
      "cell_type": "code",
      "execution_count": 12,
      "metadata": {
        "colab": {
          "base_uri": "https://localhost:8080/"
        },
        "id": "L32xyKV2ZTwI",
        "outputId": "91b00711-cfb4-4116-83f9-885a54577e9c"
      },
      "outputs": [
        {
          "output_type": "stream",
          "name": "stdout",
          "text": [
            "3\n",
            "prefixSum1의 수행시간 : 5.6586000027891714e-05\n",
            "prefixSum2의 수행시간 : 4.44490000290898e-05\n",
            "prefixSum1의 수행시간 : 0.000056586 sec\n",
            "prefixSum2의 수행시간 : 0.000044449 sec\n",
            "prefixsum2의 수행시간이 prefixsum1의 경우보다 1.273배 더 빠르다\n"
          ]
        }
      ],
      "source": [
        "#바이오메디컬공학부 손무현\n",
        "import time, random\n",
        "import matplotlib.pyplot as plt\n",
        "import numpy as np\n",
        "\n",
        "def prefixSum1(X, n):\n",
        "\t# code for prefixSum1\n",
        "\tfor i in range(n):\n",
        "\t\tX[i] = 0\n",
        "\t\tfor j in range(i+1):\n",
        "\t\t\tX[i] += A[j]\n",
        "\treturn X\t\t\n",
        "\t\n",
        "def prefixSum2(X, n):\n",
        "\t# code for prefixSum2\n",
        "\tfor i in range(1,n):\n",
        "\t\tX[i] = X[i-1] + A[i]\n",
        "\treturn X\t\n",
        "\t\n",
        "random.seed()\t\t# random 함수 초기화\n",
        "n = int(input()) # n 입력받음\n",
        "X = []\n",
        "for i in range(n):\n",
        "\tX.append(random.randint(-999,999))\t# 리스트 X를 randint를 호출하여 n개의 랜덤한 숫자로 채움\n",
        "A = X.copy()\n",
        "before = time.process_time()\n",
        "prefixSum1(X,n)\t# prefixSum1 호출\n",
        "after = time.process_time()\n",
        "time1 = after - before #prefixSum1의 수행시간\n",
        "\n",
        "before = time.process_time()\n",
        "prefixSum2(X,n)\t# prefixSum2 호출\n",
        "after = time.process_time()\n",
        "time2 = after - before #prefixSum2의 수행시간\n",
        "\n",
        "#start = time.time()\n",
        "#print(prefixSum1(X,n))\n",
        "#end = time.time()\n",
        "#print(f'time의 수행시간 : {end - start}')\n",
        "\n",
        "# 두 함수의 수행시간 출력\n",
        "print(f'prefixSum1의 수행시간 : {time1}')\n",
        "print(f'prefixSum2의 수행시간 : {time2}')\n",
        "# 초 단위로 소수점 5자리 까지 계산\n",
        "print(f'prefixSum1의 수행시간 : {time1:.9f} sec')\n",
        "print(f'prefixSum2의 수행시간 : {time2:.9f} sec')\n",
        "print(f'prefixsum2의 수행시간이 prefixsum1의 경우보다 {time1/time2:.3f}배 더 빠르다')"
      ]
    },
    {
      "cell_type": "code",
      "source": [
        "# 바이오메디컬공학부 손무현\n",
        "N = np.arange(1000, 9000, 100)\n",
        "list_time1 = []\n",
        "list_time2 = []\n",
        "\n",
        "for i in N:\n",
        "  X = []\n",
        "  for j in range(i):\n",
        "    X.append(random.randint(-999,999))\t# 리스트 X를 randint를 호출하여 n개의 랜덤한 숫자로 채움\n",
        "  A = X.copy()\n",
        "  before = time.process_time()\n",
        "  prefixSum1(X,i)\t# prefixSum1 호출\n",
        "  after = time.process_time()\n",
        "  time1 = after - before #prefixSum1의 수행시간\n",
        "  list_time1.append(time1)\n",
        "\n",
        "  before = time.process_time()\n",
        "  prefixSum2(X,i)\t# prefixSum2 호출\n",
        "  after = time.process_time()\n",
        "  time2 = after - before #prefixSum2의 수행시간\n",
        "  list_time2.append(time2)\n",
        "\n",
        "list_time_div = [list_time1[i]/list_time2[i] for i in range(len(list_time1))]\n",
        "list_time_avg =  np.mean(list_time_div)\n",
        "print(f'prefixSum1과 prefixsum2의 수행시간은 평균{list_time_avg:.3f}배 차이가 난다')\n",
        "\n",
        "# 그래프 출력을 통해 수행시간 변화 확인\n",
        "plt.plot(N, list_time1, 'r', label='prefixSum1')\n",
        "plt.plot(N, list_time2, 'b', label='prefixSum2')\n",
        "plt.xlabel('n')\n",
        "plt.ylabel('time')\n",
        "plt.legend(loc='upper left', ncol=1)\n",
        "plt.show()"
      ],
      "metadata": {
        "colab": {
          "base_uri": "https://localhost:8080/",
          "height": 298
        },
        "id": "mmpAqj3likmT",
        "outputId": "07da4266-7a38-446b-8b3e-ff1e164da753"
      },
      "execution_count": 47,
      "outputs": [
        {
          "output_type": "stream",
          "name": "stdout",
          "text": [
            "prefixSum1과 prefixsum2의 수행시간은 평균1726.777배 차이가 난다\n"
          ]
        },
        {
          "output_type": "display_data",
          "data": {
            "text/plain": [
              "<Figure size 432x288 with 1 Axes>"
            ],
            "image/png": "[encoded data removed]"
          },
          "metadata": {
            "needs_background": "light"
          }
        }
      ]
    },
    {
      "cell_type": "code",
      "source": [
        "plt.plot(N, list_time2, 'b', label='prefixSum2')\n",
        "plt.xlabel('n')\n",
        "plt.ylabel('time')\n",
        "plt.legend(loc='upper left', ncol=1)\n",
        "plt.show()"
      ],
      "metadata": {
        "colab": {
          "base_uri": "https://localhost:8080/",
          "height": 279
        },
        "id": "fORrScO6Fhhy",
        "outputId": "59e26ede-ef75-4666-c1ef-eb147b8ffefa"
      },
      "execution_count": 48,
      "outputs": [
        {
          "output_type": "display_data",
          "data": {
            "text/plain": [
              "<Figure size 432x288 with 1 Axes>"
            ],
            "image/png": "[encoded data removed]"
          },
          "metadata": {
            "needs_background": "light"
          }
        }
      ]
    }
  ]
}