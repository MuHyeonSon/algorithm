{
  "nbformat": 4,
  "nbformat_minor": 0,
  "metadata": {
    "colab": {
      "name": "Untitled60.ipynb",
      "provenance": [],
      "collapsed_sections": [],
      "authorship_tag": "ABX9TyNuiJf08i+Nymweh1Mfrm55",
      "include_colab_link": true
    },
    "kernelspec": {
      "name": "python3",
      "display_name": "Python 3"
    },
    "language_info": {
      "name": "python"
    }
  },
  "cells": [
    {
      "cell_type": "markdown",
      "metadata": {
        "id": "view-in-github",
        "colab_type": "text"
      },
      "source": [
        "<a href=\"https://colab.research.google.com/github/MuHyeonSon/algorithm/blob/main/knapsack.ipynb\" target=\"_parent\"><img src=\"https://colab.research.google.com/assets/colab-badge.svg\" alt=\"Open In Colab\"/></a>"
      ]
    },
    {
      "cell_type": "code",
      "execution_count": 2,
      "metadata": {
        "colab": {
          "base_uri": "https://localhost:8080/"
        },
        "id": "08fPutL_5saH",
        "outputId": "58077416-5ca6-47f5-936d-675ebe53fc57"
      },
      "outputs": [
        {
          "output_type": "stream",
          "name": "stdout",
          "text": [
            "[0, 0, 0, 0, 0, 0, 0, 0, 0, 0, 0, 0, 0, 0, 0, 0, 0, 0, 0, 0, 0, 0, 0, 0, 0, 0, 0, 0, 0, 0, 0, 0, 0, 0, 0, 0, 0, 0, 0, 0]\n"
          ]
        }
      ],
      "source": [
        "s = [0]*40\n",
        "print(s)"
      ]
    },
    {
      "cell_type": "code",
      "source": [
        "P = [10,2,35]\n",
        "S = [5,1,7]\n",
        "x = [1,1,1]\n",
        "\n",
        "i = 3\n",
        "#>>>  [x for x in range(1, 10+1) if x % 2 == 0]\n",
        "#[2, 4, 6, 8, 10]\n",
        "\n",
        "P_V =sum([P[j] for j in range(0,i-1) if x[j] == 1])\n",
        "\n",
        "print(P_V)"
      ],
      "metadata": {
        "colab": {
          "base_uri": "https://localhost:8080/"
        },
        "id": "mTYbfGFu6kII",
        "outputId": "6d7002a0-ae0b-42ab-e168-9568eb082c08"
      },
      "execution_count": 15,
      "outputs": [
        {
          "output_type": "stream",
          "name": "stdout",
          "text": [
            "12\n"
          ]
        }
      ]
    },
    {
      "cell_type": "code",
      "source": [
        "p(v) = 1\n",
        "\n",
        "print(p(v))"
      ],
      "metadata": {
        "colab": {
          "base_uri": "https://localhost:8080/",
          "height": 138
        },
        "id": "QftxX24O_MAv",
        "outputId": "07ae1c77-2c07-4db4-ce86-e7dc2fa0bc80"
      },
      "execution_count": 12,
      "outputs": [
        {
          "output_type": "error",
          "ename": "SyntaxError",
          "evalue": "ignored",
          "traceback": [
            "\u001b[0;36m  File \u001b[0;32m\"<ipython-input-12-9e333e369c13>\"\u001b[0;36m, line \u001b[0;32m1\u001b[0m\n\u001b[0;31m    p(v) = 1\u001b[0m\n\u001b[0m            ^\u001b[0m\n\u001b[0;31mSyntaxError\u001b[0m\u001b[0;31m:\u001b[0m can't assign to function call\n"
          ]
        }
      ]
    },
    {
      "cell_type": "code",
      "source": [
        "i = 0\n",
        "\n",
        "def frac_knapsack(i,size):\n",
        "  MP_f = 0\n",
        "\tS_F = P[i:]\n",
        "\tP_F = S[i:]\n",
        "  S_FF = []\n",
        "  P_FF = []\n",
        "\tka = []\n",
        "\tfor i in range(len(S_F)):\n",
        "   ka.append(P_F[i]//S_F[i])\n",
        "  for i in range(len(ka)): \n",
        "    tmp = max(ka)\n",
        "    index = ka.index(tmp)\n",
        "    S_FF.append(S_F[index])\n",
        "    P_FF.append(P_F[index])\n",
        "    ka[index] = 0\n",
        "  for i in range(len(S_F)):\n",
        "    for j in range(S_FF[i]):\n",
        "      if 1 > size:\n",
        "        break\n",
        "      size -= 1\n",
        "      MP_f += (P_FF[i]//S_FF[i])\n",
        "\n",
        " \n"
      ],
      "metadata": {
        "id": "cdLUqrX-KMLX"
      },
      "execution_count": null,
      "outputs": []
    },
    {
      "cell_type": "code",
      "source": [
        "\n",
        "\n",
        "for i in range(len(ka)): \n",
        "  tmp = max(ka)\n",
        "  index = ka.index(tmp)\n",
        "  S_FF.append(S_F[index])\n",
        "  P_FF.append(P_F[index])\n",
        "  ka[index] = 0"
      ],
      "metadata": {
        "id": "iPZ5cYPoPuST"
      },
      "execution_count": null,
      "outputs": []
    },
    {
      "cell_type": "code",
      "source": [
        "def frac_knapsack(h,size_f):\n",
        "  MP_f = 0\n",
        "  P_F = P[h:]\n",
        "  S_F = S[h:]\n",
        "  S_FF = []\n",
        "  P_FF = []\n",
        "  ka = []\n",
        "  for i in range(len(S_F)):\n",
        "    ka.append(P_F[i]//S_F[i])\n",
        "  for i in range(len(ka)): \n",
        "    tmp = max(ka)\n",
        "    index = ka.index(tmp)\n",
        "    S_FF.append(S_F[index])\n",
        "    P_FF.append(P_F[index])\n",
        "    ka[index] = 0\n",
        "  for i in range(len(S_FF)):\n",
        "    for j in range(S_FF[i]):\n",
        "      if 1 > size_f:\n",
        "        break\n",
        "      size_f -= 1\n",
        "      MP_f += (P_FF[i]//S_FF[i])\n",
        "  return MP_f     \t\t\n",
        "\n",
        "def knapsack(i,size): # x[i]=1 선택 x[i]=0 선택x , 남은 용량 = size\n",
        "  global MP\n",
        "  if i >= num_item or size <= 0: #바닥조건(0~n-1번쩨아이템을 모두 고려 했거나 더이상의 공간이 없을 때)\n",
        "    return\n",
        "  P_V = 0\n",
        "  S_V = 0\n",
        "  #for j in range(0,i):\n",
        "  #  if x[j] == 1:\n",
        "  #    P_V += P[j] \n",
        "     #노드 V에서 현재 선택한 물건의 가격의 합\n",
        "  #for j in range(0,i):\n",
        "  #  if x[j] == 1:\n",
        "  #    S_V += S[j] \n",
        "  P_V = sum([P[j] for j in range(0,i) if x[j] == 1]) #노드 V에서 현재 선택한 물건의 용량의 합\n",
        "  S_V = sum([S[j] for j in range(0,i) if x[j] == 1]) #노드 V에서 현재 선택한 물건의 용량의 합\n",
        "\t# x[i] = 1을 따라가야하는지 (i번째 아이템 선택하는 경우)\n",
        "  if S[i] <= size: # 물건 i가 현재 남은 용량보다 크기가 작다면\n",
        "    B = frac_knapsack(i+1,size-S[i]) #물건i+1~n에 대해 추가로 선택 가능한 최대 예상 이익\n",
        "    if MP < P_V + P[i] + B : #밑으로 내려가서 얻을 수 있을거라 예상 이익의 최대 값이 현재까지 가장 좋은 선택에 대한 가격의 합보다 크다면\n",
        "\t\t\t#Update MP\n",
        "      x[i] = 1\n",
        "      MP = max(MP,P_V+P[i])\n",
        "      knapsack(i+1,size-S[i])\n",
        "\t# x[i] = 0을 따라가야하는지 결정 (i번째 아이템 선택하지 않는 경우)\n",
        "  B = frac_knapsack(i+1,size)\t\n",
        "  if MP < P_V + B:\n",
        "    x[i] = 0\n",
        "    knapsack(i+1,size)\n",
        "\n",
        "\n",
        "K = int(input()) #배낭의 크기\n",
        "num_item = int(input()) #아이템 개수\n",
        "S = list(map(int,input().split())) #크기\n",
        "P = list(map(int,input().split())) #용량\n",
        "\n",
        "\n",
        "global MP\n",
        "MP = 0 #MaxProfit\n",
        "\n",
        "x = [0]*num_item # x를 우선 아이템 개수 만큼의 길이의 리스트 만들고 0으로 초기화\t\t\n",
        "\n",
        "# knapsack 실행\n",
        "knapsack(0,K)\n",
        "print(MP) #MaxProfit 출력"
      ],
      "metadata": {
        "colab": {
          "base_uri": "https://localhost:8080/"
        },
        "id": "nSiwoloJaSiQ",
        "outputId": "056ba448-908b-4e45-d3b4-09e9119fc5ee"
      },
      "execution_count": 29,
      "outputs": [
        {
          "output_type": "stream",
          "name": "stdout",
          "text": [
            "5\n",
            "3\n",
            "3 4 2\n",
            "15 16 6\n",
            "21\n"
          ]
        }
      ]
    },
    {
      "cell_type": "code",
      "source": [
        "def frac_knapsack(i,size):\n",
        "  MP_f = 0\n",
        "  print(f'frac_knapsack_i : {i}')\n",
        "  print(f'frac_knapsack_size : {size}')\n",
        "  S_F = S[i:]\n",
        "  P_F = P[i:]\n",
        "  S_FF = []\n",
        "  P_FF = []\n",
        "  ka = []\n",
        "  for i in range(len(S_F)):\n",
        "    ka.append(P_F[i]//S_F[i])\n",
        "  for i in range(len(ka)): \n",
        "    tmp = max(ka)\n",
        "    index = ka.index(tmp)\n",
        "    S_FF.append(S_F[index])\n",
        "    P_FF.append(P_F[index])\n",
        "    ka[index] = 0\n",
        "  for i in range(len(S_FF)):\n",
        "    for j in range(S_FF[i]):\n",
        "      if 1 > size:\n",
        "        break\n",
        "      size -= 1\n",
        "      MP_f += (P_FF[i]//S_FF[i])\n",
        "      print(f'MP_f : {MP_f} += P_FF[i] : {P_FF[i] } // S_FF[i] : {S_FF[i] }  ')\n",
        "  print(f'MP_f : {MP_f}')\n",
        "  print(f'S_FF : {S_FF}')\n",
        "  print(f'P_FF : {P_FF}')\n",
        "  return MP_f   \n",
        "\n",
        "S = [2,5,10,5]\n",
        "P = [40,30,50,10]\n",
        "print(frac_knapsack(0,16))"
      ],
      "metadata": {
        "colab": {
          "base_uri": "https://localhost:8080/"
        },
        "id": "LtMPNzDre4yf",
        "outputId": "496a4052-39be-422b-8b85-b328d4689645"
      },
      "execution_count": 20,
      "outputs": [
        {
          "output_type": "stream",
          "name": "stdout",
          "text": [
            "frac_knapsack_i : 0\n",
            "frac_knapsack_size : 16\n",
            "MP_f : 20 += P_FF[i] : 40 // S_FF[i] : 2  \n",
            "MP_f : 40 += P_FF[i] : 40 // S_FF[i] : 2  \n",
            "MP_f : 46 += P_FF[i] : 30 // S_FF[i] : 5  \n",
            "MP_f : 52 += P_FF[i] : 30 // S_FF[i] : 5  \n",
            "MP_f : 58 += P_FF[i] : 30 // S_FF[i] : 5  \n",
            "MP_f : 64 += P_FF[i] : 30 // S_FF[i] : 5  \n",
            "MP_f : 70 += P_FF[i] : 30 // S_FF[i] : 5  \n",
            "MP_f : 75 += P_FF[i] : 50 // S_FF[i] : 10  \n",
            "MP_f : 80 += P_FF[i] : 50 // S_FF[i] : 10  \n",
            "MP_f : 85 += P_FF[i] : 50 // S_FF[i] : 10  \n",
            "MP_f : 90 += P_FF[i] : 50 // S_FF[i] : 10  \n",
            "MP_f : 95 += P_FF[i] : 50 // S_FF[i] : 10  \n",
            "MP_f : 100 += P_FF[i] : 50 // S_FF[i] : 10  \n",
            "MP_f : 105 += P_FF[i] : 50 // S_FF[i] : 10  \n",
            "MP_f : 110 += P_FF[i] : 50 // S_FF[i] : 10  \n",
            "MP_f : 115 += P_FF[i] : 50 // S_FF[i] : 10  \n",
            "MP_f : 115\n",
            "S_FF : [2, 5, 10, 5]\n",
            "P_FF : [40, 30, 50, 10]\n",
            "115\n"
          ]
        }
      ]
    }
  ]
}