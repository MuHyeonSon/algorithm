{
  "cells": [
    {
      "cell_type": "markdown",
      "metadata": {
        "id": "vVia7FFegKiJ"
      },
      "source": [
        "바이오메디컬공학부_손무현_자료구조_HW2(번호맞추기 게임)"
      ]
    },
    {
      "cell_type": "code",
      "execution_count": 1,
      "metadata": {
        "id": "hKRxQ31GhOYf"
      },
      "outputs": [],
      "source": [
        "import random #random 모듈을 사용하기 위해 import"
      ]
    },
    {
      "cell_type": "code",
      "execution_count": 2,
      "metadata": {
        "id": "1FmWB2-hhVDn"
      },
      "outputs": [],
      "source": [
        "def compare_answer(answer,guess):  #정답과 입력값을 비교하기 위한 사용자 함수를 정의 (정답 : answer , 입력값 : guess)\n",
        "  if answer == guess :  # 입력값이 정답과 같으면 0 리턴\n",
        "    return 0\n",
        "  elif answer < guess :  #입력값이 정답보다 큰 값이면 1리턴\n",
        "    return 1\n",
        "  elif answer > guess :  #입력값이 정답보다 작은 값이면 -1리턴\n",
        "    return -1"
      ]
    },
    {
      "cell_type": "code",
      "execution_count": 12,
      "metadata": {
        "colab": {
          "base_uri": "https://localhost:8080/"
        },
        "id": "PHm_Iumx1NJn",
        "outputId": "5a571e84-dbdd-479a-9481-1ec8cc58c2cd"
      },
      "outputs": [
        {
          "name": "stdout",
          "output_type": "stream",
          "text": [
            "두자리 정수 입력 : 33\n",
            "아닙니다. 더 큰 숫자입니다!\n",
            "두자리 정수 입력 : 32\n",
            "아닙니다. 더 큰 숫자입니다!\n",
            "두자리 정수 입력 : 13\n",
            "아닙니다. 더 큰 숫자입니다!\n",
            "두자리 정수 입력 : 99\n",
            "아닙니다. 더 작은 숫자입니다!\n",
            "두자리 정수 입력 : 45\n",
            "아닙니다. 더 큰 숫자입니다!\n",
            "두자리 정수 입력 : 12\n",
            "아닙니다. 더 큰 숫자입니다!\n",
            "두자리 정수 입력 : 13\n",
            "아닙니다. 더 큰 숫자입니다!\n",
            "두자리 정수 입력 : 15\n",
            "아닙니다. 더 큰 숫자입니다!\n",
            "두자리 정수 입력 : 11\n",
            "아닙니다. 더 큰 숫자입니다!\n",
            "두자리 정수 입력 : 10\n",
            "아닙니다. 더 큰 숫자입니다!\n",
            "10번 안에 정답을 맞추지 못하였습니다\n",
            "게임 끝!!!\n"
          ]
        }
      ],
      "source": [
        "answer = random.randint(10,99)      # 10부터 99까지의 정수 하나를 임의로 생성하여 answer라는 변수에 할당\n",
        "result = 0                          # 위에서 정의한 사용자 함수의 return값을 할당할 변수 선언\n",
        "\n",
        "for count in range(1,11):           # 번호맞추기 게임을 하기 위해 10번 내로 정답을 맞출 때까지 반복하기 위한 반복문을 사용(1부터 10까지)\n",
        "  guess = int(input(\"두자리 정수 입력 : \"))   # 입력값을 입력받은 후 그것의 자료형을 정수형으로 바꾼 뒤 선언한 변수에 할당\n",
        "  result = compare_answer(answer,guess)       # 사용자 함수로부터 반환된 return 값을 가리키기 위한 변수를 선언하여 return 값을 그 변수에 할당\n",
        "  if result == 0 :                  # return값이 0이라면(입력값이 정답과 같으면) 메시지를 출력한뒤 반복문 탈출\n",
        "    print(f\"정답입니다. {count}번 만에 맞추셨습니다\") #반복문이 실행 될 때마다 count의 값은 1씩 증가하므로 count는 시도한 횟수를 나타내는 값으로 사용가능\n",
        "    print(\"게임 끝!!!\")\n",
        "    break\n",
        "  elif result == 1 :                # return값이 1이라면(입력값이 정답보다 큰 값이면) 힌트 메시지를 출력\n",
        "    print(\"아닙니다. 더 작은 숫자입니다!\")\n",
        "  elif result == -1 :               # return값이 -1이라면(입력값이 정답보다 작은 값이면) 힌트 메시지를 출력\n",
        "    print(\"아닙니다. 더 큰 숫자입니다!\")\n",
        "\n",
        "if count == 10 :                    # 정답을 맞추지 못하고 그대로 for문을 10번 돌았을 때 count변수는 10 이 되므로 정답을 맞추지 못했다는 메시지 출력 \n",
        "  print(\"10번 안에 정답을 맞추지 못하였습니다\")\n",
        "  print(\"게임 끝!!!\")\n",
        "  "
      ]
    }
  ],
  "metadata": {
    "colab": {
      "name": "자료구조_과제2.ipynb",
      "provenance": []
    },
    "kernelspec": {
      "display_name": "Python 3",
      "name": "python3"
    },
    "language_info": {
      "name": "python"
    }
  },
  "nbformat": 4,
  "nbformat_minor": 0
}
