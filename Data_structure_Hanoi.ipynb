{
  "nbformat": 4,
  "nbformat_minor": 0,
  "metadata": {
    "colab": {
      "name": "자료구조_과제1.ipynb",
      "provenance": []
    },
    "kernelspec": {
      "name": "python3",
      "display_name": "Python 3"
    },
    "language_info": {
      "name": "python"
    }
  },
  "cells": [
    {
      "cell_type": "markdown",
      "metadata": {
        "id": "oZO2IHUG8mJ_"
      },
      "source": [
        "자료구조_과제1 \n",
        "\n",
        "바이오메디컬공학부  손무현"
      ]
    },
    {
      "cell_type": "code",
      "metadata": {
        "id": "6pj0mrvU8kJe"
      },
      "source": [
        "# 자료구조_과제1\n",
        "# 바이오메디컬공학부 201804594 손무현\n",
        "\n",
        "def hanoi_tower(n,fr,tmp,to): # Hanoi Tower 순환 함수\n",
        "  global count\n",
        "  \n",
        "  if (n==1):                  # 종료조건\n",
        "    print(\"원판 1: %s --> %s\" % (fr,to)) # 가장 작은 원판을 옮김 \n",
        "    count += 1   # 원판을 옮길 때 마다 count에 1을 더함\n",
        "  else:\n",
        "    hanoi_tower(n - 1, fr, to ,tmp) # n-1개를 to를 이용해 tmp로\n",
        "    print(\"원판 %d: %s --> %s\" % (n,fr,to)) # 하나의 원판을 옮김\n",
        "    count += 1   # 원판을 옮길 때 마다 count에 1을 더함\n",
        "    hanoi_tower(n-1,tmp,fr,to) # n-1개를 fr을 이용해 to로\n"
      ],
      "execution_count": 39,
      "outputs": []
    },
    {
      "cell_type": "code",
      "metadata": {
        "colab": {
          "base_uri": "https://localhost:8080/"
        },
        "id": "zLfuLVOYIEtH",
        "outputId": "6b052394-fce6-49e0-cda1-536243035362"
      },
      "source": [
        "for n in range(4): #n=1,2,3,4 일 때를 모두 실행하기 위한 반복문\n",
        "  count = 0        # 함수를 호출할 때 마다 count = 0으로 초기화\n",
        "  hanoi_tower(n+1,'A','B','C')\n",
        "  print(f\"총횟수 : {count}\") #총횟수를 출력\n",
        "  print(\"=\"*20)"
      ],
      "execution_count": 40,
      "outputs": [
        {
          "output_type": "stream",
          "name": "stdout",
          "text": [
            "원판 1: A --> C\n",
            "총횟수 : 1\n",
            "====================\n",
            "원판 1: A --> B\n",
            "원판 2: A --> C\n",
            "원판 1: B --> C\n",
            "총횟수 : 3\n",
            "====================\n",
            "원판 1: A --> C\n",
            "원판 2: A --> B\n",
            "원판 1: C --> B\n",
            "원판 3: A --> C\n",
            "원판 1: B --> A\n",
            "원판 2: B --> C\n",
            "원판 1: A --> C\n",
            "총횟수 : 7\n",
            "====================\n",
            "원판 1: A --> B\n",
            "원판 2: A --> C\n",
            "원판 1: B --> C\n",
            "원판 3: A --> B\n",
            "원판 1: C --> A\n",
            "원판 2: C --> B\n",
            "원판 1: A --> B\n",
            "원판 4: A --> C\n",
            "원판 1: B --> C\n",
            "원판 2: B --> A\n",
            "원판 1: C --> A\n",
            "원판 3: B --> C\n",
            "원판 1: A --> B\n",
            "원판 2: A --> C\n",
            "원판 1: B --> C\n",
            "총횟수 : 15\n",
            "====================\n"
          ]
        }
      ]
    },
    {
      "cell_type": "code",
      "metadata": {
        "colab": {
          "base_uri": "https://localhost:8080/"
        },
        "id": "2x8Ea3AtGO3O",
        "outputId": "09252b7b-3ceb-4729-c67f-29f18394de43"
      },
      "source": [
        "a=4\n",
        "b=3\n",
        "c=6\n",
        "d=\"ASDAD\"\n",
        "\n",
        "print(\"%d,%d,%d,%s\" % (a,b,c,d))"
      ],
      "execution_count": 8,
      "outputs": [
        {
          "output_type": "stream",
          "name": "stdout",
          "text": [
            "4,3,6,ASDAD\n"
          ]
        }
      ]
    },
    {
      "cell_type": "code",
      "metadata": {
        "colab": {
          "base_uri": "https://localhost:8080/"
        },
        "id": "YBrQrb-hVwK2",
        "outputId": "70240c10-d9ad-45ca-f2d6-960aa148e894"
      },
      "source": [
        "print(\"p\"*4)"
      ],
      "execution_count": 11,
      "outputs": [
        {
          "output_type": "stream",
          "name": "stdout",
          "text": [
            "pppp\n"
          ]
        }
      ]
    }
  ]
}
