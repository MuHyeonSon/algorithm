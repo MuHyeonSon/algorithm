{
  "nbformat": 4,
  "nbformat_minor": 0,
  "metadata": {
    "colab": {
      "provenance": [],
      "authorship_tag": "ABX9TyPvV0pnqFEPAGXPVUOfvpYN",
      "include_colab_link": true
    },
    "kernelspec": {
      "name": "python3",
      "display_name": "Python 3"
    },
    "language_info": {
      "name": "python"
    }
  },
  "cells": [
    {
      "cell_type": "markdown",
      "metadata": {
        "id": "view-in-github",
        "colab_type": "text"
      },
      "source": [
        "<a href=\"https://colab.research.google.com/github/MuHyeonSon/algorithm/blob/main/codingtest_with_python/DFS%26BFS/%EC%97%B0%EA%B5%AC%EC%86%8C_%EC%88%98%ED%96%89%EC%8B%9C%EA%B0%84%EB%B9%84%EA%B5%90.ipynb\" target=\"_parent\"><img src=\"https://colab.research.google.com/assets/colab-badge.svg\" alt=\"Open In Colab\"/></a>"
      ]
    },
    {
      "cell_type": "markdown",
      "source": [
        "# 교재 풀이와 나의 풀이의 수행시간 비교\n",
        "## condingtest_with_python_part3_DFS/BFS_연구소"
      ],
      "metadata": {
        "id": "mPBEWORxfO0A"
      }
    },
    {
      "cell_type": "markdown",
      "source": [
        "나의 풀이"
      ],
      "metadata": {
        "id": "KPITd_ZAfKvq"
      }
    },
    {
      "cell_type": "code",
      "source": [
        "\n",
        "# 나의 풀이 (주어진 풀이 시간 : 40분, 풀이 시간  60분 초 )\n",
        "import copy\n",
        "from collections import deque\n",
        "import time\n",
        "\n",
        "n, m = map(int, input().split())\n",
        "Map = []\n",
        "\n",
        "for _ in range(n):\n",
        "    Map.append(list(map(int, input().split())))\n",
        "## bfs로 모두 탐색하다가 2를 발견하면 인접노드(상하좌우)가 1인 곳을 찾는다.\n",
        "## 2의 상하좌우인 곳 중 그 위치의 원소 값이 0인 곳은 모두 2로 갱신\n",
        "## 새로 벽을 세울 위치를 3중 반복문 돌려서 모든 경우 다 탐색 해봐?\n",
        "## 2의 인접노드를 볼거니까 BFS이용?\n",
        "start_time = time.time()\n",
        "\n",
        "max_value = 0\n",
        "\n",
        "zero_list = []\n",
        "\n",
        "temp_Map = copy.deepcopy(Map)\n",
        "\n",
        "def bfs(temp_Map, start):\n",
        "    #q = deque([start])\n",
        "    a, b = start # 2 인 곳(바이러스가 있는 곳)\n",
        "    # temp_Map[a][b] = -1 # 방문 표시\n",
        "    # 상하좌우 이동방향 벡터\n",
        "    dr = [-1, 1, 0, 0]\n",
        "    dc = [0, 0, -1, 1]\n",
        "    for i in range(4):\n",
        "        nr = a + dr[i]\n",
        "        nc = b + dc[i]\n",
        "        if 0 <= nr < n and 0 <= nc < m and temp_Map[nr][nc] != 1:\n",
        "            temp_Map[nr][nc] = 2\n",
        "        \n",
        "    \n",
        "\n",
        " \n",
        "for i in range(n):\n",
        "    for j in range(m):\n",
        "        if Map[i][j] == 0:\n",
        "            zero_list.append((i, j)) # 빈칸인 a행 b열을 빈칸 리스트에 추가\n",
        "\n",
        "for i in range(len(zero_list)):\n",
        "    for j in range(len(zero_list)):\n",
        "        for k in range(len(zero_list)):\n",
        "            if i == j or i == k or j == k:\n",
        "                continue\n",
        "            if temp_Map[zero_list[i][0]][zero_list[i][1]] != 0 or temp_Map[zero_list[j][0]][zero_list[j][1]] != 0 or temp_Map[zero_list[k][0]][zero_list[k][1]] != 0:\n",
        "                continue\n",
        "            else:\n",
        "                temp_Map[zero_list[i][0]][zero_list[i][1]] = 1\n",
        "                temp_Map[zero_list[j][0]][zero_list[j][1]] = 1\n",
        "                temp_Map[zero_list[k][0]][zero_list[k][1]] = 1\n",
        "                for row in range(n):\n",
        "                    for column in range(m):\n",
        "                        if temp_Map[row][column] == 2:\n",
        "                            bfs(temp_Map, (row, column))\n",
        "                count = 0\n",
        "                for r in range(n):\n",
        "                    for c in range(m):\n",
        "                        if temp_Map[r][c] == 0:\n",
        "                            count += 1\n",
        "                max_value = max(max_value, count)\n",
        "                temp_Map = copy.deepcopy(Map)\n",
        "\n",
        "print(max_value)\n",
        "                        \n",
        "end_time = time.time()\n",
        "\n",
        "print(f'수행시간 : {end_time - start_time}')            \n",
        "                "
      ],
      "metadata": {
        "colab": {
          "base_uri": "https://localhost:8080/"
        },
        "id": "vYUkDDhCfJyi",
        "outputId": "0292e5af-b837-4cee-e7da-d38a34dcd450"
      },
      "execution_count": 1,
      "outputs": [
        {
          "output_type": "stream",
          "name": "stdout",
          "text": [
            "7 7\n",
            "2 0 0 0 1 1 0\n",
            "0 0 1 0 1 2 0\n",
            "0 1 1 0 1 0 0\n",
            "0 1 0 0 0 0 0\n",
            "0 0 0 0 0 1 1\n",
            "0 1 0 0 0 0 0\n",
            "0 1 0 0 0 0 0\n",
            "27\n",
            "수행시간 : 4.632873773574829\n"
          ]
        }
      ]
    },
    {
      "cell_type": "markdown",
      "source": [
        "교재 풀이"
      ],
      "metadata": {
        "id": "oXz_o0flfFog"
      }
    },
    {
      "cell_type": "code",
      "execution_count": 2,
      "metadata": {
        "colab": {
          "base_uri": "https://localhost:8080/"
        },
        "id": "tFcBm_qTe9P0",
        "outputId": "6ab8f643-a28f-4721-815a-6ec829752935"
      },
      "outputs": [
        {
          "output_type": "stream",
          "name": "stdout",
          "text": [
            "7 7\n",
            "2 0 0 0 1 1 0\n",
            "0 0 1 0 1 2 0\n",
            "0 1 1 0 1 0 0\n",
            "0 1 0 0 0 0 0\n",
            "0 0 0 0 0 1 1\n",
            "0 1 0 0 0 0 0\n",
            "0 1 0 0 0 0 0\n",
            "27\n",
            "수행시간 : 4.966391086578369\n"
          ]
        }
      ],
      "source": [
        "import time\n",
        "# 교재 풀이\n",
        "n, m = map(int, input().split())\n",
        "data = [] # 초기 맵 리스트\n",
        "temp = [[0] * m for _ in range(n)]\n",
        "\n",
        "for _ in range(n):\n",
        "    data.append(list(map(int, input().split())))\n",
        "\n",
        "start_time = time.time()\n",
        "\n",
        "## 4가지 이동 방향에 대한 리스트\n",
        "dr = [-1, 0, 1, 0]\n",
        "dc = [0, 1, 0, -1]\n",
        "\n",
        "result = 0\n",
        "\n",
        "## 깊이 우선 탐색(DFS)를 이용해 각 바이러스가 사방으로 퍼지도록 하기\n",
        "def virus(r, c):\n",
        "    for i in range(4):\n",
        "        nr = r + dr[i]\n",
        "        nc = c + dc[i]\n",
        "        # 상, 하, 좌, 우 중에서 바이러스가 퍼질 수 있는 경우\n",
        "        if 0 <= nr < n and 0 <= nc < m:\n",
        "            if temp[nr][nc] == 0:\n",
        "                # 해당 위치에 바이러스 배치하고, 다시 재귀적으로 수행\n",
        "                temp[nr][nc] = 2\n",
        "                virus(nr, nc) \n",
        "    \n",
        "## 현재 맵에서 안전 영역의 크기를 계산하는 메서드\n",
        "def get_score():\n",
        "    score = 0\n",
        "    for i in range(n):\n",
        "        for j in range(m):\n",
        "            if temp[i][j] == 0:\n",
        "                score += 1\n",
        "    return score\n",
        "\n",
        "## 깊이 우선 탐색(DFS)을 이용해 울타리를 설치하면서, 매번 안전 영역의 크기를 계산\n",
        "def dfs(count):\n",
        "    global result\n",
        "    # 울타리가 3개 설치된 경우\n",
        "    if count == 3:\n",
        "        for i in range(n):\n",
        "            for j in range(m):\n",
        "                temp[i][j] = data[i][j]\n",
        "        # 각 바이러스의 위치에서 전파 진행\n",
        "        for i in range(n):\n",
        "            for j in range(m):\n",
        "                if temp[i][j] == 2:\n",
        "                    virus(i, j)\n",
        "        # 안전 영역의 최댓값 계산\n",
        "        result = max(result, get_score())\n",
        "        return\n",
        "    # 빈 공간에 울타리 설치\n",
        "    for i in range(n):\n",
        "        for j in range(m):\n",
        "            if data[i][j] == 0:\n",
        "                data[i][j] = 1\n",
        "                count += 1\n",
        "                dfs(count)\n",
        "                data[i][j] = 0\n",
        "                count -= 1\n",
        "\n",
        "dfs(0)\n",
        "print(result)\n",
        "\n",
        "end_time = time.time()\n",
        "\n",
        "print(f'수행시간 : {end_time - start_time}')  "
      ]
    },
    {
      "cell_type": "markdown",
      "source": [
        "###내가 비효율적으로 작성한 코드보다 교재 풀이 코드가 더 느린 것을 확인했는데 어떻게 해야하는지..\n",
        "\n",
        "다른 테스트케이스도 비교해보자"
      ],
      "metadata": {
        "id": "RD6nzhCKjEMg"
      }
    },
    {
      "cell_type": "markdown",
      "source": [
        "나의 풀이 (test case2)"
      ],
      "metadata": {
        "id": "Taetclyxj9j3"
      }
    },
    {
      "cell_type": "code",
      "source": [
        "\n",
        "# 나의 풀이 (주어진 풀이 시간 : 40분, 풀이 시간  60분 초 )\n",
        "import copy\n",
        "from collections import deque\n",
        "import time\n",
        "\n",
        "n, m = map(int, input().split())\n",
        "Map = []\n",
        "\n",
        "for _ in range(n):\n",
        "    Map.append(list(map(int, input().split())))\n",
        "## bfs로 모두 탐색하다가 2를 발견하면 인접노드(상하좌우)가 1인 곳을 찾는다.\n",
        "## 2의 상하좌우인 곳 중 그 위치의 원소 값이 0인 곳은 모두 2로 갱신\n",
        "## 새로 벽을 세울 위치를 3중 반복문 돌려서 모든 경우 다 탐색 해봐?\n",
        "## 2의 인접노드를 볼거니까 BFS이용?\n",
        "start_time = time.time()\n",
        "\n",
        "max_value = 0\n",
        "\n",
        "zero_list = []\n",
        "\n",
        "temp_Map = copy.deepcopy(Map)\n",
        "\n",
        "def bfs(temp_Map, start):\n",
        "    #q = deque([start])\n",
        "    a, b = start # 2 인 곳(바이러스가 있는 곳)\n",
        "    # temp_Map[a][b] = -1 # 방문 표시\n",
        "    # 상하좌우 이동방향 벡터\n",
        "    dr = [-1, 1, 0, 0]\n",
        "    dc = [0, 0, -1, 1]\n",
        "    for i in range(4):\n",
        "        nr = a + dr[i]\n",
        "        nc = b + dc[i]\n",
        "        if 0 <= nr < n and 0 <= nc < m and temp_Map[nr][nc] != 1:\n",
        "            temp_Map[nr][nc] = 2\n",
        "        \n",
        "    \n",
        "\n",
        " \n",
        "for i in range(n):\n",
        "    for j in range(m):\n",
        "        if Map[i][j] == 0:\n",
        "            zero_list.append((i, j)) # 빈칸인 a행 b열을 빈칸 리스트에 추가\n",
        "\n",
        "for i in range(len(zero_list)):\n",
        "    for j in range(len(zero_list)):\n",
        "        for k in range(len(zero_list)):\n",
        "            if i == j or i == k or j == k:\n",
        "                continue\n",
        "            if temp_Map[zero_list[i][0]][zero_list[i][1]] != 0 or temp_Map[zero_list[j][0]][zero_list[j][1]] != 0 or temp_Map[zero_list[k][0]][zero_list[k][1]] != 0:\n",
        "                continue\n",
        "            else:\n",
        "                temp_Map[zero_list[i][0]][zero_list[i][1]] = 1\n",
        "                temp_Map[zero_list[j][0]][zero_list[j][1]] = 1\n",
        "                temp_Map[zero_list[k][0]][zero_list[k][1]] = 1\n",
        "                for row in range(n):\n",
        "                    for column in range(m):\n",
        "                        if temp_Map[row][column] == 2:\n",
        "                            bfs(temp_Map, (row, column))\n",
        "                count = 0\n",
        "                for r in range(n):\n",
        "                    for c in range(m):\n",
        "                        if temp_Map[r][c] == 0:\n",
        "                            count += 1\n",
        "                max_value = max(max_value, count)\n",
        "                temp_Map = copy.deepcopy(Map)\n",
        "\n",
        "print(max_value)\n",
        "                        \n",
        "end_time = time.time()\n",
        "\n",
        "print(f'수행시간 : {end_time - start_time}')            \n",
        "                "
      ],
      "metadata": {
        "colab": {
          "base_uri": "https://localhost:8080/"
        },
        "id": "X2R7jNa9jQEl",
        "outputId": "ccdda859-3ed2-4915-b465-34f9b3f47476"
      },
      "execution_count": 5,
      "outputs": [
        {
          "output_type": "stream",
          "name": "stdout",
          "text": [
            "4 6\n",
            "0 0 0 0 0 0\n",
            "1 0 0 0 0 2\n",
            "1 1 1 0 0 2\n",
            "0 0 0 0 0 2\n",
            "13\n",
            "수행시간 : 0.17273497581481934\n"
          ]
        }
      ]
    },
    {
      "cell_type": "markdown",
      "source": [
        "교재 풀이 (test case2)"
      ],
      "metadata": {
        "id": "VvC17shfkEQK"
      }
    },
    {
      "cell_type": "code",
      "source": [
        "import time\n",
        "# 교재 풀이\n",
        "n, m = map(int, input().split())\n",
        "data = [] # 초기 맵 리스트\n",
        "temp = [[0] * m for _ in range(n)]\n",
        "\n",
        "for _ in range(n):\n",
        "    data.append(list(map(int, input().split())))\n",
        "\n",
        "start_time = time.time()\n",
        "\n",
        "## 4가지 이동 방향에 대한 리스트\n",
        "dr = [-1, 0, 1, 0]\n",
        "dc = [0, 1, 0, -1]\n",
        "\n",
        "result = 0\n",
        "\n",
        "## 깊이 우선 탐색(DFS)를 이용해 각 바이러스가 사방으로 퍼지도록 하기\n",
        "def virus(r, c):\n",
        "    for i in range(4):\n",
        "        nr = r + dr[i]\n",
        "        nc = c + dc[i]\n",
        "        # 상, 하, 좌, 우 중에서 바이러스가 퍼질 수 있는 경우\n",
        "        if 0 <= nr < n and 0 <= nc < m:\n",
        "            if temp[nr][nc] == 0:\n",
        "                # 해당 위치에 바이러스 배치하고, 다시 재귀적으로 수행\n",
        "                temp[nr][nc] = 2\n",
        "                virus(nr, nc) \n",
        "    \n",
        "## 현재 맵에서 안전 영역의 크기를 계산하는 메서드\n",
        "def get_score():\n",
        "    score = 0\n",
        "    for i in range(n):\n",
        "        for j in range(m):\n",
        "            if temp[i][j] == 0:\n",
        "                score += 1\n",
        "    return score\n",
        "\n",
        "## 깊이 우선 탐색(DFS)을 이용해 울타리를 설치하면서, 매번 안전 영역의 크기를 계산\n",
        "def dfs(count):\n",
        "    global result\n",
        "    # 울타리가 3개 설치된 경우\n",
        "    if count == 3:\n",
        "        for i in range(n):\n",
        "            for j in range(m):\n",
        "                temp[i][j] = data[i][j]\n",
        "        # 각 바이러스의 위치에서 전파 진행\n",
        "        for i in range(n):\n",
        "            for j in range(m):\n",
        "                if temp[i][j] == 2:\n",
        "                    virus(i, j)\n",
        "        # 안전 영역의 최댓값 계산\n",
        "        result = max(result, get_score())\n",
        "        return\n",
        "    # 빈 공간에 울타리 설치\n",
        "    for i in range(n):\n",
        "        for j in range(m):\n",
        "            if data[i][j] == 0:\n",
        "                data[i][j] = 1\n",
        "                count += 1\n",
        "                dfs(count)\n",
        "                data[i][j] = 0\n",
        "                count -= 1\n",
        "\n",
        "dfs(0)\n",
        "print(result)\n",
        "\n",
        "end_time = time.time()\n",
        "\n",
        "print(f'수행시간 : {end_time - start_time}')  "
      ],
      "metadata": {
        "colab": {
          "base_uri": "https://localhost:8080/"
        },
        "id": "A-NQO1Izj8Sc",
        "outputId": "70bd0367-b60b-4931-ba84-bc05b89eb5a3"
      },
      "execution_count": 6,
      "outputs": [
        {
          "output_type": "stream",
          "name": "stdout",
          "text": [
            "4 6\n",
            "0 0 0 0 0 0\n",
            "1 0 0 0 0 2\n",
            "1 1 1 0 0 2\n",
            "0 0 0 0 0 2\n",
            "9\n",
            "수행시간 : 0.18733453750610352\n"
          ]
        }
      ]
    },
    {
      "cell_type": "markdown",
      "source": [
        "나의 풀이 (test case3)"
      ],
      "metadata": {
        "id": "jM8kIbWkkUd3"
      }
    },
    {
      "cell_type": "code",
      "source": [
        "\n",
        "# 나의 풀이 (주어진 풀이 시간 : 40분, 풀이 시간  60분 초 )\n",
        "import copy\n",
        "from collections import deque\n",
        "import time\n",
        "\n",
        "n, m = map(int, input().split())\n",
        "Map = []\n",
        "\n",
        "for _ in range(n):\n",
        "    Map.append(list(map(int, input().split())))\n",
        "## bfs로 모두 탐색하다가 2를 발견하면 인접노드(상하좌우)가 1인 곳을 찾는다.\n",
        "## 2의 상하좌우인 곳 중 그 위치의 원소 값이 0인 곳은 모두 2로 갱신\n",
        "## 새로 벽을 세울 위치를 3중 반복문 돌려서 모든 경우 다 탐색 해봐?\n",
        "## 2의 인접노드를 볼거니까 BFS이용?\n",
        "start_time = time.time()\n",
        "\n",
        "max_value = 0\n",
        "\n",
        "zero_list = []\n",
        "\n",
        "temp_Map = copy.deepcopy(Map)\n",
        "\n",
        "def bfs(temp_Map, start):\n",
        "    #q = deque([start])\n",
        "    a, b = start # 2 인 곳(바이러스가 있는 곳)\n",
        "    # temp_Map[a][b] = -1 # 방문 표시\n",
        "    # 상하좌우 이동방향 벡터\n",
        "    dr = [-1, 1, 0, 0]\n",
        "    dc = [0, 0, -1, 1]\n",
        "    for i in range(4):\n",
        "        nr = a + dr[i]\n",
        "        nc = b + dc[i]\n",
        "        if 0 <= nr < n and 0 <= nc < m and temp_Map[nr][nc] != 1:\n",
        "            temp_Map[nr][nc] = 2\n",
        "        \n",
        "    \n",
        "\n",
        " \n",
        "for i in range(n):\n",
        "    for j in range(m):\n",
        "        if Map[i][j] == 0:\n",
        "            zero_list.append((i, j)) # 빈칸인 a행 b열을 빈칸 리스트에 추가\n",
        "\n",
        "for i in range(len(zero_list)):\n",
        "    for j in range(len(zero_list)):\n",
        "        for k in range(len(zero_list)):\n",
        "            if i == j or i == k or j == k:\n",
        "                continue\n",
        "            if temp_Map[zero_list[i][0]][zero_list[i][1]] != 0 or temp_Map[zero_list[j][0]][zero_list[j][1]] != 0 or temp_Map[zero_list[k][0]][zero_list[k][1]] != 0:\n",
        "                continue\n",
        "            else:\n",
        "                temp_Map[zero_list[i][0]][zero_list[i][1]] = 1\n",
        "                temp_Map[zero_list[j][0]][zero_list[j][1]] = 1\n",
        "                temp_Map[zero_list[k][0]][zero_list[k][1]] = 1\n",
        "                for row in range(n):\n",
        "                    for column in range(m):\n",
        "                        if temp_Map[row][column] == 2:\n",
        "                            bfs(temp_Map, (row, column))\n",
        "                count = 0\n",
        "                for r in range(n):\n",
        "                    for c in range(m):\n",
        "                        if temp_Map[r][c] == 0:\n",
        "                            count += 1\n",
        "                max_value = max(max_value, count)\n",
        "                temp_Map = copy.deepcopy(Map)\n",
        "\n",
        "print(max_value)\n",
        "                        \n",
        "end_time = time.time()\n",
        "\n",
        "print(f'수행시간 : {end_time - start_time}')            \n",
        "                "
      ],
      "metadata": {
        "colab": {
          "base_uri": "https://localhost:8080/"
        },
        "id": "_uC76NIgkPCf",
        "outputId": "8166ab5c-7965-45a9-d646-445bb22a7565"
      },
      "execution_count": 7,
      "outputs": [
        {
          "output_type": "stream",
          "name": "stdout",
          "text": [
            "8 8\n",
            "2 0 0 0 0 0 0 2\n",
            "2 0 0 0 0 0 0 2\n",
            "2 0 0 0 0 0 0 2\n",
            "2 0 0 0 0 0 0 2\n",
            "2 0 0 0 0 0 0 2\n",
            "0 0 0 0 0 0 0 0\n",
            "0 0 0 0 0 0 0 0\n",
            "0 0 0 0 0 0 0 0\n",
            "8\n",
            "수행시간 : 31.011623859405518\n"
          ]
        }
      ]
    },
    {
      "cell_type": "markdown",
      "source": [
        "교재 풀이 (test case3)"
      ],
      "metadata": {
        "id": "prpanK4skcQt"
      }
    },
    {
      "cell_type": "code",
      "source": [
        "import time\n",
        "# 교재 풀이\n",
        "n, m = map(int, input().split())\n",
        "data = [] # 초기 맵 리스트\n",
        "temp = [[0] * m for _ in range(n)]\n",
        "\n",
        "for _ in range(n):\n",
        "    data.append(list(map(int, input().split())))\n",
        "\n",
        "start_time = time.time()\n",
        "\n",
        "## 4가지 이동 방향에 대한 리스트\n",
        "dr = [-1, 0, 1, 0]\n",
        "dc = [0, 1, 0, -1]\n",
        "\n",
        "result = 0\n",
        "\n",
        "## 깊이 우선 탐색(DFS)를 이용해 각 바이러스가 사방으로 퍼지도록 하기\n",
        "def virus(r, c):\n",
        "    for i in range(4):\n",
        "        nr = r + dr[i]\n",
        "        nc = c + dc[i]\n",
        "        # 상, 하, 좌, 우 중에서 바이러스가 퍼질 수 있는 경우\n",
        "        if 0 <= nr < n and 0 <= nc < m:\n",
        "            if temp[nr][nc] == 0:\n",
        "                # 해당 위치에 바이러스 배치하고, 다시 재귀적으로 수행\n",
        "                temp[nr][nc] = 2\n",
        "                virus(nr, nc) \n",
        "    \n",
        "## 현재 맵에서 안전 영역의 크기를 계산하는 메서드\n",
        "def get_score():\n",
        "    score = 0\n",
        "    for i in range(n):\n",
        "        for j in range(m):\n",
        "            if temp[i][j] == 0:\n",
        "                score += 1\n",
        "    return score\n",
        "\n",
        "## 깊이 우선 탐색(DFS)을 이용해 울타리를 설치하면서, 매번 안전 영역의 크기를 계산\n",
        "def dfs(count):\n",
        "    global result\n",
        "    # 울타리가 3개 설치된 경우\n",
        "    if count == 3:\n",
        "        for i in range(n):\n",
        "            for j in range(m):\n",
        "                temp[i][j] = data[i][j]\n",
        "        # 각 바이러스의 위치에서 전파 진행\n",
        "        for i in range(n):\n",
        "            for j in range(m):\n",
        "                if temp[i][j] == 2:\n",
        "                    virus(i, j)\n",
        "        # 안전 영역의 최댓값 계산\n",
        "        result = max(result, get_score())\n",
        "        return\n",
        "    # 빈 공간에 울타리 설치\n",
        "    for i in range(n):\n",
        "        for j in range(m):\n",
        "            if data[i][j] == 0:\n",
        "                data[i][j] = 1\n",
        "                count += 1\n",
        "                dfs(count)\n",
        "                data[i][j] = 0\n",
        "                count -= 1\n",
        "\n",
        "dfs(0)\n",
        "print(result)\n",
        "\n",
        "end_time = time.time()\n",
        "\n",
        "print(f'수행시간 : {end_time - start_time}')  "
      ],
      "metadata": {
        "colab": {
          "base_uri": "https://localhost:8080/"
        },
        "id": "lhrjsRNxkd9n",
        "outputId": "648a1cd4-0eca-40f9-9ce4-6f9d2ea7d85e"
      },
      "execution_count": 10,
      "outputs": [
        {
          "output_type": "stream",
          "name": "stdout",
          "text": [
            "8 8\n",
            "2 0 0 0 0 0 0 2\n",
            "2 0 0 0 0 0 0 2\n",
            "2 0 0 0 0 0 0 2\n",
            "2 0 0 0 0 0 0 2\n",
            "2 0 0 0 0 0 0 2\n",
            "0 0 0 0 0 0 0 0\n",
            "0 0 0 0 0 0 0 0\n",
            "0 0 0 0 0 0 0 0\n",
            "3\n",
            "수행시간 : 31.01591444015503\n"
          ]
        }
      ]
    },
    {
      "cell_type": "markdown",
      "source": [
        "나의 풀이-----------------------------------------교재 풀이\n",
        "\n",
        "수행시간 : 4.632873773574829\n",
        "수행시간 : 4.966391086578369\n",
        "\n",
        "수행시간 : 0.17273497581481934\n",
        "수행시간 : 0.18733453750610352\n",
        "\n",
        "수행시간 : 31.011623859405518\n",
        "수행시간 : 31.01591444015503\n",
        "\n",
        "위와 같이 모든 테스트케이스에서 나의 풀이가 교재 풀이보다 더 빠른 성능을\n",
        "보였다.. 어떤 것이 잘 못된 것인지 모르겠다. 분명 vscode로 돌렸을 때도\n",
        "이러한 현상이 있었고, 수행시간 자체도 더 걸려서 코랩환경에서 돌려본 것인데,\n",
        "이렇게 되면 둘 다 수행시간 2초를 넘어가기 때문에 문제가 있다.. "
      ],
      "metadata": {
        "id": "41pOsYdivkIE"
      }
    }
  ]
}