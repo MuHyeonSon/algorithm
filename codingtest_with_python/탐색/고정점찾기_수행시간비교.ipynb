{
  "nbformat": 4,
  "nbformat_minor": 0,
  "metadata": {
    "colab": {
      "provenance": []
    },
    "kernelspec": {
      "name": "python3",
      "display_name": "Python 3"
    },
    "language_info": {
      "name": "python"
    }
  },
  "cells": [
    {
      "cell_type": "code",
      "source": [
        "import time"
      ],
      "metadata": {
        "id": "cYMMVPMIWbTB"
      },
      "execution_count": 1,
      "outputs": []
    },
    {
      "cell_type": "code",
      "execution_count": 2,
      "metadata": {
        "colab": {
          "base_uri": "https://localhost:8080/"
        },
        "id": "rurpj24KWBmr",
        "outputId": "dea2be14-ccb5-490b-96a4-71153af5d1c0"
      },
      "outputs": [
        {
          "output_type": "stream",
          "name": "stdout",
          "text": [
            "99999\n",
            "실행시간 : 0.0019154548645019531\n"
          ]
        }
      ],
      "source": [
        "# 교재 풀이\n",
        "def binary_search(array, start, end):\n",
        "    if start > end:\n",
        "        return None\n",
        "    mid = (start + end) // 2\n",
        "    # 고정점을 찾은 경우 인덱스 반환\n",
        "    if array[mid] == mid:\n",
        "        return mid\n",
        "    # 중간점이 가리키는 위치의 값보다 중간점이 작은 경우 왼쪽 확인\n",
        "    elif array[mid] > mid:\n",
        "        return binary_search(array, start, mid - 1)\n",
        "    # 중간점이 가리키는 위치의 값보다 중간점이 큰 경우 오른쪽 확인\n",
        "    else:\n",
        "        return binary_search(array, mid + 1, end)\n",
        "    \n",
        "#n = int(input())\n",
        "#array = list(map(int, input().split()))\n",
        "\n",
        "array = list(range(100000))\n",
        "for i in range(len(array)):\n",
        "    array[i] -= 1\n",
        "array[-1] += 1\n",
        "n = len(array)\n",
        "\n",
        "start_time = time.time()\n",
        "\n",
        "# 이진 탐색(Binary Search) tngod\n",
        "index = binary_search(array, 0, n - 1)\n",
        "\n",
        "# 고정점이 없는 경우 -1 출력\n",
        "if index == None:\n",
        "    print(-1)\n",
        "else:\n",
        "    print(index)\n",
        "\n",
        "end_time = time.time()\n",
        "\n",
        "print(f'실행시간 : {end_time - start_time}')"
      ]
    },
    {
      "cell_type": "code",
      "source": [
        "def binary_search(array, start, end):\n",
        "    while start <= end:\n",
        "        mid = (start + end) // 2\n",
        "        if array[mid] == mid:\n",
        "            return mid\n",
        "            #if array[mid] == mid:\n",
        "            #    return True\n",
        "        elif array[mid] > mid:\n",
        "            end = mid - 1\n",
        "        elif array[mid] < mid:\n",
        "            start = mid + 1\n",
        "    return None\n",
        "\n",
        "#n = int(input())\n",
        "#data = list(map(int, input().split()))\n",
        "\n",
        "data = list(range(100000))\n",
        "for i in range(len(data)):\n",
        "    data[i] -= 1\n",
        "data[-1] += 1\n",
        "n = len(data)\n",
        "\n",
        "start_time = time.time()\n",
        "\n",
        "result = binary_search(data, 0, n - 1)\n",
        "if result == None:\n",
        "    print(-1)\n",
        "else:\n",
        "    print(result)\n",
        "\n",
        "end_time = time.time()\n",
        "\n",
        "print(f'실행시간 : {end_time - start_time}')"
      ],
      "metadata": {
        "colab": {
          "base_uri": "https://localhost:8080/"
        },
        "id": "YtJ7yNQbXiUX",
        "outputId": "27f5b849-6fc3-4ccf-f6d9-fc52b83bf8f7"
      },
      "execution_count": 3,
      "outputs": [
        {
          "output_type": "stream",
          "name": "stdout",
          "text": [
            "99999\n",
            "실행시간 : 0.0015516281127929688\n"
          ]
        }
      ]
    }
  ]
}