{
  "nbformat": 4,
  "nbformat_minor": 0,
  "metadata": {
    "colab": {
      "name": "Untitled56.ipynb",
      "provenance": [],
      "authorship_tag": "ABX9TyM/3KPs88se3wvffmqvyd4G",
      "include_colab_link": true
    },
    "kernelspec": {
      "name": "python3",
      "display_name": "Python 3"
    },
    "language_info": {
      "name": "python"
    }
  },
  "cells": [
    {
      "cell_type": "markdown",
      "metadata": {
        "id": "view-in-github",
        "colab_type": "text"
      },
      "source": [
        "<a href=\"https://colab.research.google.com/github/MuHyeonSon/algorithm/blob/main/summercoding1.ipynb\" target=\"_parent\"><img src=\"https://colab.research.google.com/assets/colab-badge.svg\" alt=\"Open In Colab\"/></a>"
      ]
    },
    {
      "cell_type": "code",
      "execution_count": 1,
      "metadata": {
        "id": "iiaRPDg3e137"
      },
      "outputs": [],
      "source": [
        "def solution(atmos):\n",
        "    #atmos =[[80 35],[70,38],[100,41],[75,30],]\n",
        "    num_mask = 0\n",
        "    day = 0\n",
        "    \n",
        "    for i in range(len(atmos)):\n",
        "        #미세먼지나 초미세먼지의 농도가 어느 하나라도 나쁨이상이면\n",
        "        if (atmos[i][0] >= 81 ) or (atmos[i][1] >= 36):\n",
        "            if day == 0:\n",
        "                num_mask += 1 #새로운 마스크 사용\n",
        "                day += 1 #사용일 수 추가\n",
        "            elif day == 1:\n",
        "                day += 1 #사용일 수 추가\n",
        "            elif day == 2:\n",
        "                day = 1 #폐기 후 새로운 마스크 사용\n",
        "                num_mask += 1\n",
        "        # 둘 다 매우 나쁨 -> 그날까지만 쓰고 폐기\n",
        "        elif (atmos[i][0] >= 151) and (atmos[i][1] >= 76):\n",
        "            if day == 0:\n",
        "                num_mask += 1 #새로운 마스크 사용\n",
        "                day = 0 #이 날까지만 사용\n",
        "            elif day == 1:\n",
        "                day = 0 #기존 마스크는 이날까지만 사용\n",
        "            elif day == 2:\n",
        "                day = 0 #새마스크 사용(그 날만 사용)\n",
        "                num_mask += 1\n",
        "        #좋음이거나 보통인 날\n",
        "        elif (atmos[i][0] <= 80) and (atmos[i][1] <= 35):\n",
        "            if day == 0:\n",
        "                num_mask += 0 #마스크 사용x\n",
        "            elif day == 1:\n",
        "                day += 1\n",
        "            elif day == 2:\n",
        "                day = 0 #  이틀 지나서 마스크 폐기       \n",
        "    return num_mask"
      ]
    },
    {
      "cell_type": "code",
      "source": [
        "a = [[80, 35], [70, 38], [100, 41], [75,30], [160,80], [77, 29], [181, 68], [151, 76]]\n",
        "solution(a)"
      ],
      "metadata": {
        "colab": {
          "base_uri": "https://localhost:8080/"
        },
        "id": "0Di3YP6pe7dR",
        "outputId": "90bbe543-a30e-4ccd-8763-50b0c3fe6d03"
      },
      "execution_count": 2,
      "outputs": [
        {
          "output_type": "execute_result",
          "data": {
            "text/plain": [
              "3"
            ]
          },
          "metadata": {},
          "execution_count": 2
        }
      ]
    }
  ]
}