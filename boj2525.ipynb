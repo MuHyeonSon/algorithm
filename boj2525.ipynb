{
  "nbformat": 4,
  "nbformat_minor": 0,
  "metadata": {
    "colab": {
      "name": "Untitled48.ipynb",
      "provenance": [],
      "authorship_tag": "ABX9TyPhdFEiX4FJzN7uh6HOxCV2",
      "include_colab_link": true
    },
    "kernelspec": {
      "name": "python3",
      "display_name": "Python 3"
    },
    "language_info": {
      "name": "python"
    }
  },
  "cells": [
    {
      "cell_type": "markdown",
      "metadata": {
        "id": "view-in-github",
        "colab_type": "text"
      },
      "source": [
        "<a href=\"https://colab.research.google.com/github/MuHyeonSon/algorithm/blob/main/boj2525.ipynb\" target=\"_parent\"><img src=\"https://colab.research.google.com/assets/colab-badge.svg\" alt=\"Open In Colab\"/></a>"
      ]
    },
    {
      "cell_type": "code",
      "execution_count": 10,
      "metadata": {
        "colab": {
          "base_uri": "https://localhost:8080/"
        },
        "id": "0YLQTFCwITH7",
        "outputId": "f0fa7c47-2b24-4fd8-868e-57ddcd9be6d1"
      },
      "outputs": [
        {
          "output_type": "stream",
          "name": "stdout",
          "text": [
            "23 48\n",
            "25\n",
            "0 13\n"
          ]
        }
      ],
      "source": [
        "#boj 2525\n",
        "#수정필요\n",
        "#첫째 줄에는 현재 시각이 나온다. 현재 시각은\n",
        "#시 A (0 ≤ A ≤ 23) 와 분 B (0 ≤ B ≤ 59)가 정수로 빈칸을 사이에 두고 \n",
        "#순서대로 주어진다. 두 번째 줄에는 요리하는 데\n",
        "#필요한 시간 C (0 ≤ C ≤ 1,000)가 분 단위로 주어진다. \n",
        "#출력\n",
        "#첫째 줄에 종료되는 시각의 시와 분을 공백을 사이에 두고 출력한다.\n",
        "#(단, 시는 0부터 23까지의 정수, 분은 0부터 59까지의 정수이다.\n",
        "#디지털 시계는 23시 59분에서 1분이 지나면 0시 0분이 된다.)\n",
        "#예제 입력 1 \n",
        "#14 30\n",
        "#20\n",
        "#예제 출력 1 \n",
        "#14 50\n",
        "#예제 입력 2 \n",
        "#17 40\n",
        "#80\n",
        "#예제 출력 2 \n",
        "#19 0\n",
        "#예제 입력 3 \n",
        "#23 48\n",
        "#25\n",
        "#예제 출력 3 \n",
        "#0 13\n",
        "\n",
        "h,m = map(int,input().split())\n",
        "c = int(input())\n",
        "m = c + m\n",
        "M = m\n",
        "if m > 59:\n",
        "    m = m % 60\n",
        "    h = h + (M//60)\n",
        "    if h > 23:\n",
        "        h = 0\n",
        "else :\n",
        "    print(h,m)\n",
        "\n",
        "print(h,m)"
      ]
    }
  ]
}