{
  "nbformat": 4,
  "nbformat_minor": 0,
  "metadata": {
    "colab": {
      "provenance": [],
      "authorship_tag": "ABX9TyM+goG6OVxZCOmei4+L9+NP"
    },
    "kernelspec": {
      "name": "python3",
      "display_name": "Python 3"
    },
    "language_info": {
      "name": "python"
    }
  },
  "cells": [
    {
      "cell_type": "code",
      "execution_count": null,
      "metadata": {
        "id": "K2j6sCl_Fnqc"
      },
      "outputs": [],
      "source": [
        "손무현\n",
        "\"\"\"입력\n",
        "첫째 줄에는 전체 반의 학생 수 n이 주어진다. 이때 n은 100이하의 정수이다. 그 다음 n개의 줄에는 각 줄마다 학생의 번호와 그 학생이 전화번호를 가지고 있는 학생들의 번호가 하나의 빈칸을 상이에 두고 주어진다.\n",
        "\n",
        "출력\n",
        "첫째 줄에 비상 연락에 걸리는 총 시간을 분 단위로 출력하고 다음 줄부터 순서대로 매분마다 연락이 이루어지는 송신자 번호와 수신자 번호의 순서쌍들을 한 줄에 출력한다.\n",
        "\n",
        "예를 들어, 연락계획 A에서 통화시각 2에 연락이 이루어지는 쌍은 (1,3)과 (4,6)이다. 이에 대한 출력은 아래와 같이 첫 칸에 시작하여 하나의 빈칸을 사이에 두고 '1 3 4 6' 또는  '4 6 1 3' 과 같이 출력한다.\n",
        "\n",
        "예제 입력 1 \n",
        "9\n",
        "1 2 3 4\n",
        "2\n",
        "3 5\n",
        "4 6\n",
        "5 7 8 9\n",
        "6 8 9\n",
        "7\n",
        "8\n",
        "9\n",
        "예제 출력 1 \n",
        "4\n",
        "1 4\n",
        "1 3 4 6\n",
        "1 2 3 5 6 9\n",
        "5 7 6 8\"\"\"\n",
        "\n",
        "n = int(input())\n",
        "plan = []\n",
        "for i in range n:\n",
        "  l = list(map(int,input().split()))\n",
        "  if\n",
        "  plan.append(l)\n",
        "\n",
        "  \n",
        "\n"
      ]
    }
  ]
}