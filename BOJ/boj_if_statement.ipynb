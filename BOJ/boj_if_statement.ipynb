{
  "nbformat": 4,
  "nbformat_minor": 0,
  "metadata": {
    "colab": {
      "name": "Untitled47.ipynb",
      "provenance": [],
      "collapsed_sections": []
    },
    "kernelspec": {
      "name": "python3",
      "display_name": "Python 3"
    },
    "language_info": {
      "name": "python"
    }
  },
  "cells": [
    {
      "cell_type": "code",
      "execution_count": null,
      "metadata": {
        "id": "NHtXNu9raqE9"
      },
      "outputs": [],
      "source": [
        "#boj 1330\n",
        "\n",
        "#A가 B보다 큰 경우에는 '>'를 출력한다.\n",
        "#A가 B보다 작은 경우에는 '<'를 출력한다.\n",
        "#A와 B가 같은 경우에는 '=='를 출력한다.\n",
        "A,B = map(int,input().split())\n",
        "\n",
        "if(A > B):\n",
        "    print('>')\n",
        "elif(A < B):\n",
        "    print('<')\n",
        "elif(A == B):\n",
        "    print('==')\n",
        "else: return0 ;"
      ]
    },
    {
      "cell_type": "code",
      "source": [
        "#boj 9498\n",
        "\n",
        "#문제\n",
        "#시험 점수를 입력받아 90 ~ 100점은 A, 80 ~ 89점은 B, 70 ~ 79점은 C, 60 ~ 69점은 D, 나머지 점수는 F를 출력하는 프로그램을 작성하시오.\n",
        "#입력\n",
        "#첫째 줄에 시험 점수가 주어진다. 시험 점수는 0보다 크거나 같고, 100보다 작거나 같은 정수이다.\n",
        "#출력\n",
        "#시험 성적을 출력한다.\n",
        "\n",
        "score = int(input())\n",
        "\n",
        "if score >= 90 and score <=100:\n",
        "    print('A')\n",
        "elif score >= 80 and score <=89:\n",
        "    print('B')\n",
        "elif score >= 70 and score <=79:\n",
        "    print('C')\n",
        "elif score >= 60 and score <=69:\n",
        "    print('D')\n",
        "elif score < 60:\n",
        "    print('F')"
      ],
      "metadata": {
        "id": "wHynQXeob9bn"
      },
      "execution_count": null,
      "outputs": []
    },
    {
      "cell_type": "code",
      "source": [
        "#boj 2753\n",
        "\n",
        "#연도가 주어졌을 때, 윤년이면 1, 아니면 0을 출력하는 프로그램을 작성하시오.\n",
        "#윤년은 연도가 4의 배수이면서, 100의 배수가 아닐 때 또는 400의 배수일 때이다.\n",
        "#예를 들어, 2012년은 4의 배수이면서 100의 배수가 아니라서 윤년이다. 1900년은 100의 배수이고 400의 배수는 아니기 때문에 윤년이 아니다. 하지만, 2000년은 400의 배수이기 때문에 윤년이다.\n",
        "#입력\n",
        "#첫째 줄에 연도가 주어진다. 연도는 1보다 크거나 같고, 4000보다 작거나 같은 자연수이다.\n",
        "#출력\n",
        "#첫째 줄에 윤년이면 1, 아니면 0을 출력한다\n",
        "\n",
        "# 연도 입력받음\n",
        "year = int(input())\n",
        "\n",
        "# 윤년일 조건 정의\n",
        "condition_y = (year%4 == 0) and (year%100 != 0 or year%400 == 0) \n",
        "\n",
        "#윤년이면 1, 아니면 0 출력\n",
        "if condition_y :\n",
        "    print('1')\n",
        "else:\n",
        "    print('0')"
      ],
      "metadata": {
        "id": "J47TsFPib_PC"
      },
      "execution_count": null,
      "outputs": []
    },
    {
      "cell_type": "code",
      "source": [
        "#예를 들어, 좌표가 (12, 5)인 점 A는 x좌표와 y좌표가 모두 양수이므로 제1사분면에 속한다. 점 B는 x좌표가 음수이고 y좌표가 양수이므로 제2사분면에 속한다.\n",
        "#점의 좌표를 입력받아 그 점이 어느 사분면에 속하는지 알아내는 프로그램을 작성하시오. 단, x좌표와 y좌표는 모두 양수나 음수라고 가정한다.\n",
        "#입력\n",
        "#첫 줄에는 정수 x가 주어진다. (−1000 ≤ x ≤ 1000; x ≠ 0) 다음 줄에는 정수 y가 주어진다. (−1000 ≤ y ≤ 1000; y ≠ 0)\n",
        "#출력\n",
        "#점 (x, y)의 사분면 번호(1, 2, 3, 4 중 하나)를 출력한다.\n",
        "\n",
        "#boj 14681\n",
        "\n",
        "x = int(input())\n",
        "y = int(input())\n",
        "\n",
        "if(x>=1 and y>=1):\n",
        "    print('1')\n",
        "elif(x<=-1 and y>=1):\n",
        "    print('2')\n",
        "elif(x<=-1 and y<=-1):\n",
        "    print('3')\n",
        "elif(x>=1 and y<=-1):\n",
        "    print('4')\n",
        "else: return0;"
      ],
      "metadata": {
        "id": "k8QH8CnKdxBh"
      },
      "execution_count": null,
      "outputs": []
    },
    {
      "cell_type": "code",
      "source": [
        "#입력\n",
        "#첫째 줄에 두 정수 H와 M이 주어진다.\n",
        "#(0 ≤ H ≤ 23, 0 ≤ M ≤ 59) 그리고 이것은 현재 상근이가 설정한 놓은 알람 시간 H시 M분을 의미한다.\n",
        "#입력 시간은 24시간 표현을 사용한다.\n",
        "#24시간 표현에서 하루의 시작은 0:0(자정)이고, 끝은 23:59(다음날 자정 1분 전)이다. 시간을 나타낼 때, 불필요한 0은 사용하지 않는다.\n",
        "#출력\n",
        "#첫째 줄에 상근이가 창영이의 방법을 사용할 때,\n",
        "#설정해야 하는 알람 시간을 출력한다. (입력과 같은 형태로 출력하면 된다.)\n",
        "\n",
        "#boj 2884\n",
        "\n",
        "H,M = map(int,input().split())\n",
        "if(H>=0 and H<=23)and(M>=0 and M<=59):\n",
        "    M -= 45\n",
        "    if(M<0):\n",
        "        H -= 1\n",
        "        M = 60 + M\n",
        "    if(H<0):\n",
        "        H = 24 + H \n",
        "print(f'{H} {M}')"
      ],
      "metadata": {
        "colab": {
          "base_uri": "https://localhost:8080/"
        },
        "id": "RHK60v2r8d6T",
        "outputId": "041b9fe1-3f9b-41c8-ecbe-386be53479ac"
      },
      "execution_count": 3,
      "outputs": [
        {
          "output_type": "stream",
          "name": "stdout",
          "text": [
            "5 39\n",
            "4 54\n"
          ]
        }
      ]
    }
  ]
}