{
  "nbformat": 4,
  "nbformat_minor": 0,
  "metadata": {
    "colab": {
      "name": "boj_for_statement.ipynb",
      "provenance": [],
      "collapsed_sections": []
    },
    "kernelspec": {
      "name": "python3",
      "display_name": "Python 3"
    },
    "language_info": {
      "name": "python"
    }
  },
  "cells": [
    {
      "cell_type": "code",
      "execution_count": 1,
      "metadata": {
        "colab": {
          "base_uri": "https://localhost:8080/"
        },
        "id": "6jjDL7ReOl1B",
        "outputId": "248e2d64-8e13-40b2-b731-37af1a925208"
      },
      "outputs": [
        {
          "output_type": "stream",
          "name": "stdout",
          "text": [
            "3\n",
            "3 * 1 = 3\n",
            "3 * 2 = 6\n",
            "3 * 3 = 9\n",
            "3 * 4 = 12\n",
            "3 * 5 = 15\n",
            "3 * 6 = 18\n",
            "3 * 7 = 21\n",
            "3 * 8 = 24\n",
            "3 * 9 = 27\n"
          ]
        }
      ],
      "source": [
        "#boj 2739\n",
        "\n",
        "n = int(input())\n",
        "if(n>=1 and n<=9):\n",
        "    for i in range(1,10):\n",
        "        print(f'{n} * {i} = {n*i}')\n",
        "else: return0"
      ]
    },
    {
      "cell_type": "code",
      "source": [
        "#boj 10950\n",
        "\n",
        "#문제\n",
        "#두 정수 A와 B를 입력받은 다음, A+B를 출력하는 프로그램을 작성하시오.\n",
        "#입력\n",
        "#첫째 줄에 테스트 케이스의 개수 T가 주어진다.\n",
        "#각 테스트 케이스는 한 줄로 이루어져 있으며, 각 줄에 A와 B가 주어진다. (0 < A, B < 10)\n",
        "#출력\n",
        "#각 테스트 케이스마다 A+B를 출력한다.\n",
        "#예제 입력 1 \n",
        "#5\n",
        "#1 1\n",
        "#2 3\n",
        "#3 4\n",
        "#9 8\n",
        "#5 2\n",
        "#예제 출력 1 \n",
        "#2\n",
        "#5\n",
        "#7\n",
        "#17\n",
        "#7\n",
        "T = int(input())\n",
        "for i in range(T):\n",
        "    A,B = map(int,input().split())\n",
        "    if (A>0 and A<10) and (B>0 and B<10) :\n",
        "        print(A+B)\n",
        "    "
      ],
      "metadata": {
        "colab": {
          "base_uri": "https://localhost:8080/"
        },
        "id": "QYUxWjb-SS3X",
        "outputId": "371c771b-284d-4724-9d7f-8b683b252db0"
      },
      "execution_count": 3,
      "outputs": [
        {
          "output_type": "stream",
          "name": "stdout",
          "text": [
            "1\n",
            "1 3\n",
            "4\n"
          ]
        }
      ]
    },
    {
      "cell_type": "code",
      "source": [
        "#boj 8393\n",
        "\n",
        "#문제\n",
        "#n이 주어졌을 때, 1부터 n까지 합을 구하는 프로그램을 작성하시오.\n",
        "#입력\n",
        "#첫째 줄에 n (1 ≤ n ≤ 10,000)이 주어진다.\n",
        "\n",
        "n = int(input())\n",
        "s = 0\n",
        "if(n >= 1 and n <= 10000):\n",
        "    for i in range(1,n+1):\n",
        "        s = s + i\n",
        "print(s)"
      ],
      "metadata": {
        "colab": {
          "base_uri": "https://localhost:8080/"
        },
        "id": "t6QMDJE2SYuI",
        "outputId": "4342dabb-3e46-4f1a-ad4e-9d2953e75e55"
      },
      "execution_count": 5,
      "outputs": [
        {
          "output_type": "stream",
          "name": "stdout",
          "text": [
            "100\n",
            "5050\n"
          ]
        }
      ]
    },
    {
      "cell_type": "code",
      "source": [
        "#boj 15552\n",
        "\n",
        "#Python을 사용하고 있다면, input 대신 sys.stdin.readline을 사용할 수 있다.\n",
        "#단, 이때는 맨 끝의 개행문자까지 같이 입력받기 때문에 문자열을 저장하고 싶을 경우\n",
        "#.rstrip()을 추가로 해 주는 것이 좋다.\n",
        "\n",
        "import sys\n",
        "\n",
        "T = int(input())\n",
        "for i in range(T):\n",
        "    A,B = map(int,sys.stdin.readline().split())\n",
        "    print(A+B)"
      ],
      "metadata": {
        "id": "EQ8m7zXaWP40"
      },
      "execution_count": null,
      "outputs": []
    },
    {
      "cell_type": "code",
      "source": [
        "#boj 2741\n",
        "\n",
        "#첫째 줄에 100,000보다 작거나 같은 자연수 N이 주어진다.\n",
        "#출력\n",
        "#첫째 줄부터 N번째 줄 까지 차례대로 출력한다.\n",
        "\n",
        "N = int(input())\n",
        "\n",
        "for i in range(1,N+1):\n",
        "    print(i)"
      ],
      "metadata": {
        "id": "bMr9BcbLWgDP"
      },
      "execution_count": null,
      "outputs": []
    },
    {
      "cell_type": "code",
      "source": [
        "#boj 2742\n",
        "\n",
        "N = int(input())\n",
        "\n",
        "for i in range(N,0,-1):\n",
        "    print(i)"
      ],
      "metadata": {
        "colab": {
          "base_uri": "https://localhost:8080/"
        },
        "id": "YCP75ltPYJRa",
        "outputId": "c3d305c8-ef86-4486-d2b4-37069e1f644c"
      },
      "execution_count": 16,
      "outputs": [
        {
          "output_type": "stream",
          "name": "stdout",
          "text": [
            "2\n",
            "2\n",
            "1\n"
          ]
        }
      ]
    },
    {
      "cell_type": "code",
      "source": [
        "#boj 11021\n",
        "\n",
        "#두 정수 A와 B를 입력받은 다음, A+B를 출력하는 프로그램을 작성하시오.\n",
        "#입력\n",
        "#첫째 줄에 테스트 케이스의 개수 T가 주어진다.\n",
        "#각 테스트 케이스는 한 줄로 이루어져 있으며, 각 줄에 A와 B가 주어진다. (0 < A, B < 10)\n",
        "#출력\n",
        "#각 테스트 케이스마다 \"Case #x: \"를 출력한 다음, A+B를 출력한다. 테스트 케이스 번호는 1부터 시작한다.\n",
        "\n",
        "x = int(input())\n",
        "for i in range(1,x+1):\n",
        "    A,B = map(int,input().split())\n",
        "    if(A>0 and A<10) and (B>0 and B<10):\n",
        "        print(f'Case #{i}: {A+B}')"
      ],
      "metadata": {
        "colab": {
          "base_uri": "https://localhost:8080/"
        },
        "id": "1cHpkuWUYU3M",
        "outputId": "959cdb03-3f42-4452-e940-6af532659645"
      },
      "execution_count": 18,
      "outputs": [
        {
          "output_type": "stream",
          "name": "stdout",
          "text": [
            "1\n",
            "2 4\n",
            "Case #1: 6\n"
          ]
        }
      ]
    },
    {
      "cell_type": "code",
      "source": [
        "#boj 11022\n",
        "\n",
        "#Case #1: 1 + 1 = 2\n",
        "\n",
        "x = int(input())\n",
        "for i in range(1,x+1):\n",
        "    A,B = map(int,input().split())\n",
        "    if(A>0 and A<10) and (B>0 and B<10):\n",
        "        print(f'Case #{i}: {A} + {B} = {A+B}')\n"
      ],
      "metadata": {
        "id": "yTvJAhuGaoBU"
      },
      "execution_count": null,
      "outputs": []
    },
    {
      "cell_type": "code",
      "source": [
        "#boj 2438\n",
        "\n",
        "#첫째 줄에는 별 1개, 둘째 줄에는 별 2개, N번째 줄에는 별 N개를 찍는 문제\n",
        "#입력\n",
        "#첫째 줄에 N(1 ≤ N ≤ 100)이 주어진다.\n",
        "#출력\n",
        "#첫째 줄부터 N번째 줄까지 차례대로 별을 출력한다.\n",
        "#예제 입력 1 \n",
        "#5\n",
        "#예제 출력 1 \n",
        "#*\n",
        "#**\n",
        "#***\n",
        "#****\n",
        "#*****\n",
        "\n",
        "n = int(input())\n",
        "for i in range(1,n+1):\n",
        "    print('*'*i)"
      ],
      "metadata": {
        "colab": {
          "base_uri": "https://localhost:8080/"
        },
        "id": "t9KqThMVbOa3",
        "outputId": "10702271-41d3-4dcd-bc0f-da6b865c7fad"
      },
      "execution_count": 19,
      "outputs": [
        {
          "output_type": "stream",
          "name": "stdout",
          "text": [
            "5\n",
            "*\n",
            "**\n",
            "***\n",
            "****\n",
            "*****\n"
          ]
        }
      ]
    },
    {
      "cell_type": "code",
      "source": [
        "#boj 2439\n",
        "\n",
        "#첫째 줄에는 별 1개, 둘째 줄에는 별 2개, N번째 줄에는 별 N개를 찍는 문제\n",
        "#하지만, 오른쪽을 기준으로 정렬한 별(예제 참고)을 출력하시오.\n",
        "#입력\n",
        "#첫째 줄에 N(1 ≤ N ≤ 100)이 주어진다.\n",
        "#출력\n",
        "#첫째 줄부터 N번째 줄까지 차례대로 별을 출력한다.\n",
        "#예제 입력 1 \n",
        "#예제 출력 1 \n",
        "#    *\n",
        "#   **\n",
        "#  ***\n",
        "# ****\n",
        "#*****\n",
        "\n",
        "n = int(input())\n",
        "for i in range(1,n+1):\n",
        "    print(' '*(n-i) + '*'*(i))"
      ],
      "metadata": {
        "id": "r3darMigeIC0"
      },
      "execution_count": null,
      "outputs": []
    },
    {
      "cell_type": "code",
      "source": [
        "#boj 10871\n",
        "\n",
        "#문제\n",
        "#정수 N개로 이루어진 수열 A와 정수 X가 주어진다. 이때, A에서 X보다 작은 수를 모두 출력하는 프로그램을 작성하시오.\n",
        "#입력\n",
        "#첫째 줄에 N과 X가 주어진다. (1 ≤ N, X ≤ 10,000)\n",
        "#둘째 줄에 수열 A를 이루는 정수 N개가 주어진다. 주어지는 정수는 모두 1보다 크거나 같고, 10,000보다 작거나 같은 정수이다.\n",
        "#출력\n",
        "#X보다 작은 수를 입력받은 순서대로 공백으로 구분해 출력한다. X보다 작은 수는 적어도 하나 존재한다.\n",
        "#예제 입력 1 \n",
        "#10 5\n",
        "#1 10 4 9 2 3 8 5 7 6\n",
        "#예제 출력 1 \n",
        "#1 4 2 3\n",
        "\n",
        "N,X = map(int,input().split())\n",
        "A = list(map(int,input().split()))\n",
        "for i in A:\n",
        "    if i < X:\n",
        "        print(i,end=' ')"
      ],
      "metadata": {
        "colab": {
          "base_uri": "https://localhost:8080/"
        },
        "id": "UMrzRAh8hF30",
        "outputId": "dfbf7ed6-63a5-4c32-f5ef-31e014d10099"
      },
      "execution_count": 21,
      "outputs": [
        {
          "output_type": "stream",
          "name": "stdout",
          "text": [
            "10 5\n",
            "1 10 4 9 2 3 8 5 7 6\n",
            "1 4 2 3 "
          ]
        }
      ]
    }
  ]
}