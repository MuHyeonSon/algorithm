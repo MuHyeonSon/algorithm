{
  "cells": [
    {
      "cell_type": "code",
      "source": [
        "#boj 1008\n",
        "\n",
        "A,B = input().split()\n",
        "print(\"%.9f\"%(int(A)/int(B)))"
      ],
      "metadata": {
        "id": "-Tj4oecoRjxz",
        "outputId": "a187bad4-2ba8-40c7-890b-4d17e8cc978a",
        "colab": {
          "base_uri": "https://localhost:8080/"
        }
      },
      "execution_count": null,
      "outputs": [
        {
          "output_type": "stream",
          "name": "stdout",
          "text": [
            "10 3\n",
            "3.333333333\n"
          ]
        }
      ]
    },
    {
      "cell_type": "code",
      "source": [
        "#boj 10869\n",
        "\n",
        "A,B = map(int,input().split())\n",
        "print(A+B)\n",
        "print(A-B)\n",
        "print(A*B)\n",
        "print(int(A/B))\n",
        "print(A%B)    "
      ],
      "metadata": {
        "id": "YXyFOzEgTxjx",
        "outputId": "dafa50c2-b3e8-47d8-854d-c42b8945f6d0",
        "colab": {
          "base_uri": "https://localhost:8080/"
        }
      },
      "execution_count": null,
      "outputs": [
        {
          "output_type": "stream",
          "name": "stdout",
          "text": [
            "7 3\n",
            "10\n",
            "4\n",
            "21\n",
            "2\n",
            "1\n"
          ]
        }
      ]
    },
    {
      "cell_type": "code",
      "source": [
        "#boj 10926\n",
        "\n",
        "id = str(input())\n",
        "print(f'{id}??!')"
      ],
      "metadata": {
        "id": "kVorZ8BAxb6_",
        "outputId": "672cc696-0378-46a8-d712-c218be46d57f",
        "colab": {
          "base_uri": "https://localhost:8080/"
        }
      },
      "execution_count": null,
      "outputs": [
        {
          "output_type": "stream",
          "name": "stdout",
          "text": [
            "joonas\n",
            "joonas??!\n"
          ]
        }
      ]
    },
    {
      "cell_type": "code",
      "source": [
        "#boj 18108\n",
        "\n",
        "ad = int(input())\n",
        "td = ad-543\n",
        "print(td)"
      ],
      "metadata": {
        "id": "tAEDe27xyOTv",
        "outputId": "edd42c1f-8079-4ac6-a1e2-4d3329566ce6",
        "colab": {
          "base_uri": "https://localhost:8080/"
        }
      },
      "execution_count": null,
      "outputs": [
        {
          "output_type": "stream",
          "name": "stdout",
          "text": [
            "2541\n",
            "1998\n"
          ]
        }
      ]
    },
    {
      "cell_type": "code",
      "source": [
        "#boj 10430\n",
        "\n",
        "A,B,C = map(int,input().split())\n",
        "print((A+B)%C)\n",
        "print(((A%C)+(B%C))%C)\n",
        "print((A*B)%C)\n",
        "print(((A%C)*(B%C))%C)"
      ],
      "metadata": {
        "id": "-1-trNxJ0ebI"
      },
      "execution_count": null,
      "outputs": []
    },
    {
      "cell_type": "code",
      "source": [
        "#boj 38833658\n",
        "\n",
        "a = input()\n",
        "b = input()\n",
        "c = int(a)*int(b[2])\n",
        "d = int(a)*int(b[1])\n",
        "e = int(a)*int(b[0])\n",
        "\n",
        "print(c)\n",
        "print(d)\n",
        "print(e)\n",
        "print(c+(d*10)+(e*100))"
      ],
      "metadata": {
        "id": "1KZ2Vc0W0ko2",
        "outputId": "0e714a59-6321-4775-c3a3-74f3304a0e3f",
        "colab": {
          "base_uri": "https://localhost:8080/"
        }
      },
      "execution_count": null,
      "outputs": [
        {
          "output_type": "stream",
          "name": "stdout",
          "text": [
            "472\n",
            "385\n",
            "2360\n",
            "37760\n",
            "141600\n",
            "7552\n"
          ]
        }
      ]
    },
    {
      "cell_type": "code",
      "source": [
        ""
      ],
      "metadata": {
        "id": "As_f-DxO6ECn"
      },
      "execution_count": null,
      "outputs": []
    }
  ],
  "metadata": {
    "colab": {
      "collapsed_sections": [],
      "name": "boj_input_ouput.ipynb",
      "toc_visible": true,
      "provenance": []
    },
    "kernelspec": {
      "display_name": "Python 3",
      "name": "python3"
    }
  },
  "nbformat": 4,
  "nbformat_minor": 0
}