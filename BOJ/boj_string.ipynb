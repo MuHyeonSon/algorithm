{
  "nbformat": 4,
  "nbformat_minor": 0,
  "metadata": {
    "colab": {
      "name": "boj_string.ipynb",
      "provenance": [],
      "authorship_tag": "ABX9TyPOwFbBT7xj9ZMhsVDnPlP+",
      "include_colab_link": true
    },
    "kernelspec": {
      "name": "python3",
      "display_name": "Python 3"
    },
    "language_info": {
      "name": "python"
    }
  },
  "cells": [
    {
      "cell_type": "markdown",
      "metadata": {
        "id": "view-in-github",
        "colab_type": "text"
      },
      "source": [
        "<a href=\"https://colab.research.google.com/github/MuHyeonSon/algorithm/blob/main/BOJ/boj_string.ipynb\" target=\"_parent\"><img src=\"https://colab.research.google.com/assets/colab-badge.svg\" alt=\"Open In Colab\"/></a>"
      ]
    },
    {
      "cell_type": "code",
      "execution_count": null,
      "metadata": {
        "id": "l-VouHcLAevK"
      },
      "outputs": [],
      "source": [
        "#boj 11654\n",
        "i = input()\n",
        "print(ord(i))"
      ]
    },
    {
      "cell_type": "code",
      "source": [
        "#boj 11720\n",
        "n = input()\n",
        "number = input()\n",
        "s = 0\n",
        "for i in number:\n",
        "    s = s + int(i)\n",
        "print(s)    "
      ],
      "metadata": {
        "id": "UFkNSOsABJec"
      },
      "execution_count": null,
      "outputs": []
    },
    {
      "cell_type": "code",
      "source": [
        "#boj 10809\n",
        "a = list(chr(x) for x in range(97,123))\n",
        "s = input()\n",
        "l = []\n",
        "for i in a:\n",
        "  if i in s :\n",
        "    l.append(s.index(i))\n",
        "  else :\n",
        "    l.append(-1)\n",
        "\n",
        "for i in l:\n",
        "    print(i,end=' ')"
      ],
      "metadata": {
        "colab": {
          "base_uri": "https://localhost:8080/"
        },
        "id": "PUktA1bpF0Km",
        "outputId": "8d785468-1aa1-4d9b-86fa-de10bdc25344"
      },
      "execution_count": 24,
      "outputs": [
        {
          "output_type": "stream",
          "name": "stdout",
          "text": [
            "baekjoon\n",
            "1 0 -1 -1 2 -1 -1 -1 -1 4 3 -1 -1 7 5 -1 -1 -1 -1 -1 -1 -1 -1 -1 -1 -1 "
          ]
        }
      ]
    },
    {
      "cell_type": "code",
      "source": [
        "#0 1 -1 -1 4 -1 -1 -1 -1 9 10 -1 -1 13 14 -1 -1 -1 -1 -1 -1 -1 -1 -1 -1 -1 \n",
        "#1 0 -1 -1 2 -1 -1 -1 -1 4 3 -1 -1 7 5 -1 -1 -1 -1 -1 -1 -1 -1 -1 -1 -1 \n",
        "#1 0 -1 -1 2 -1 -1 -1 -1 4 3 -1 -1 7 5 -1 -1 -1 -1 -1 -1 -1 -1 -1 -1 -1\n",
        "#r = [1,2,3,4,5,6]\n",
        "#print(r.index(3))\n",
        "\n",
        "s = 'asd'\n",
        "print('i' in s)"
      ],
      "metadata": {
        "colab": {
          "base_uri": "https://localhost:8080/"
        },
        "id": "y-jY_FoyJD-H",
        "outputId": "0340caea-d289-4eec-ee65-e102b8694751"
      },
      "execution_count": 15,
      "outputs": [
        {
          "output_type": "stream",
          "name": "stdout",
          "text": [
            "False\n"
          ]
        }
      ]
    },
    {
      "cell_type": "code",
      "source": [
        "#boj 2675\n",
        "#2\n",
        "#3 ABC\n",
        "#5 /HTP\n",
        "#예제 출력 1 \n",
        "#AAABBBCCC\n",
        "#/////HHHHHTTTTTPPPPP\n",
        "#QR Code \"alphanumeric\" 문자는 0123456789ABCDEFGHIJKLMNOPQRSTUVWXYZ\\$%*+-./: 이다\n",
        "T = int(input())\n",
        "\n",
        "for i in range(T):\n",
        "  R,S = input().split()\n",
        "  for i in S:\n",
        "    print(i*int(R),end='')\n",
        "  print()  "
      ],
      "metadata": {
        "colab": {
          "base_uri": "https://localhost:8080/"
        },
        "id": "3wbb3QgvO_mn",
        "outputId": "ed79d1a4-e5d5-49b6-fcb8-d0215f56cccc"
      },
      "execution_count": 22,
      "outputs": [
        {
          "output_type": "stream",
          "name": "stdout",
          "text": [
            "2\n",
            "3 ABC\n",
            "AAABBBCCC\n",
            "5 /HTP\n",
            "/////HHHHHTTTTTPPPPP\n"
          ]
        }
      ]
    },
    {
      "cell_type": "code",
      "source": [
        "#boj 1157\n",
        "\n",
        "#알파벳 대소문자로 된 단어가 주어지면, \n",
        "#이 단어에서 가장 많이 사용된 알파벳이 무엇인지 알아내는 프로그램을 작성하시오.\n",
        "#단, 대문자와 소문자를 구분하지 않는다.\n",
        "#입력\n",
        "#첫째 줄에 알파벳 대소문자로 이루어진 단어가 주어진다.\n",
        "#주어지는 단어의 길이는 1,000,000을 넘지 않는다.\n",
        "#출력\n",
        "#첫째 줄에 이 단어에서 가장 많이 사용된 알파벳을 대문자로 출력한다.\n",
        "#단, 가장 많이 사용된 알파벳이 여러 개 존재하는 경우에는 ?를 출력한다.\n",
        "\n",
        "\n",
        "#Mississipi\n",
        "#예제 출력 1 \n",
        "#?\n",
        "#예제 입력 2 \n",
        "#zZa\n",
        "#예제 출력 2 \n",
        "#Z\n",
        "#예제 입력 3 \n",
        "#z\n",
        "#예제 출력 3 \n",
        "#Z\n",
        "#예제 입력 4 \n",
        "#baaa\n",
        "#예제 출력 4 \n",
        "#A\n",
        "\n",
        "s = input().upper() # 유저로부터 단어 입력 받음\n",
        "s_list = s     #입력받은 단어를 구성하고 있는 알파벳을 저장하기 위한 변수 선언\n",
        "s_list = list(set(s_list)) # set으로 중복되는 문자를 제거 한 뒤, 남은 문자들을 리스트로 만듬\n",
        "l = [x for x in s] #입력받은 단어의 문자들을 하나씩 리스트의 한 원소로 하는 리스트를 만듬\n",
        "s_listnum = [] #입력받은 단어의 문자들의 알파벳이 각 몇 번 나오는지 저장하기 위한 리스트\n",
        "for i in s_list: #중복되지 않는 문자를 하나씩 불러옴\n",
        "    s_listnum.append(l.count(i)) #그 문자가 포함되어 있는 개수를 리스트의 원소로 추가\n",
        "if s_listnum.count(max(s_listnum)) > 1: #가장 많이 사용된 알파벳이 여러 개 존재하는 경우\n",
        "    print('?')               # '?' 출력\n",
        "else :\n",
        "    max_s_index = s_listnum.index(max(s_listnum))\n",
        "    print(s_list[max_s_index]) #"
      ],
      "metadata": {
        "colab": {
          "base_uri": "https://localhost:8080/"
        },
        "id": "iGxcsyabzivX",
        "outputId": "3f474b2c-3474-41d8-9436-393f3bcd7aa1"
      },
      "execution_count": 15,
      "outputs": [
        {
          "output_type": "stream",
          "name": "stdout",
          "text": [
            "Mississipi\n",
            "?\n"
          ]
        }
      ]
    },
    {
      "cell_type": "code",
      "source": [
        "#boj 1152\n",
        "#The Curious Case of Benjamin Button\n",
        "#예제 출력 1 \n",
        "#6\n",
        "\n",
        "voc = input().split()\n",
        "print(len(voc))"
      ],
      "metadata": {
        "colab": {
          "base_uri": "https://localhost:8080/"
        },
        "id": "MGm_lgWc6OlQ",
        "outputId": "386126a1-848b-47d9-93ec-38b8af680ac4"
      },
      "execution_count": 35,
      "outputs": [
        {
          "output_type": "stream",
          "name": "stdout",
          "text": [
            "The Curious Case of Benjamin Button\n",
            "6\n"
          ]
        }
      ]
    }
  ]
}