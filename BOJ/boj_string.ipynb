{
  "nbformat": 4,
  "nbformat_minor": 0,
  "metadata": {
    "colab": {
      "name": "boj_string.ipynb",
      "provenance": [],
      "authorship_tag": "ABX9TyMlrF4c+231glUwSl3vhrvP",
      "include_colab_link": true
    },
    "kernelspec": {
      "name": "python3",
      "display_name": "Python 3"
    },
    "language_info": {
      "name": "python"
    }
  },
  "cells": [
    {
      "cell_type": "markdown",
      "metadata": {
        "id": "view-in-github",
        "colab_type": "text"
      },
      "source": [
        "<a href=\"https://colab.research.google.com/github/MuHyeonSon/algorithm/blob/main/BOJ/boj_string.ipynb\" target=\"_parent\"><img src=\"https://colab.research.google.com/assets/colab-badge.svg\" alt=\"Open In Colab\"/></a>"
      ]
    },
    {
      "cell_type": "code",
      "execution_count": null,
      "metadata": {
        "id": "l-VouHcLAevK",
        "colab": {
          "base_uri": "https://localhost:8080/"
        },
        "outputId": "bb5346db-5252-4d75-ccb2-0151a26a027d"
      },
      "outputs": [
        {
          "output_type": "stream",
          "name": "stdout",
          "text": [
            "A\n",
            "65\n"
          ]
        }
      ],
      "source": [
        "#boj 11654\n",
        "i = input()\n",
        "print(ord(i))"
      ]
    },
    {
      "cell_type": "code",
      "source": [
        "#boj 11720\n",
        "n = input()\n",
        "number = input()\n",
        "s = 0\n",
        "for i in number:\n",
        "    s = s + int(i)\n",
        "print(s)    "
      ],
      "metadata": {
        "id": "UFkNSOsABJec"
      },
      "execution_count": null,
      "outputs": []
    },
    {
      "cell_type": "code",
      "source": [
        "#boj 10809\n",
        "a = list(chr(x) for x in range(97,123))\n",
        "s = input()\n",
        "l = []\n",
        "for i in a:\n",
        "  if i in s :\n",
        "    l.append(s.index(i))\n",
        "  else :\n",
        "    l.append(-1)\n",
        "\n",
        "for i in l:\n",
        "    print(i,end=' ')"
      ],
      "metadata": {
        "colab": {
          "base_uri": "https://localhost:8080/"
        },
        "id": "PUktA1bpF0Km",
        "outputId": "8d785468-1aa1-4d9b-86fa-de10bdc25344"
      },
      "execution_count": null,
      "outputs": [
        {
          "output_type": "stream",
          "name": "stdout",
          "text": [
            "baekjoon\n",
            "1 0 -1 -1 2 -1 -1 -1 -1 4 3 -1 -1 7 5 -1 -1 -1 -1 -1 -1 -1 -1 -1 -1 -1 "
          ]
        }
      ]
    },
    {
      "cell_type": "code",
      "source": [
        "#0 1 -1 -1 4 -1 -1 -1 -1 9 10 -1 -1 13 14 -1 -1 -1 -1 -1 -1 -1 -1 -1 -1 -1 \n",
        "#1 0 -1 -1 2 -1 -1 -1 -1 4 3 -1 -1 7 5 -1 -1 -1 -1 -1 -1 -1 -1 -1 -1 -1 \n",
        "#1 0 -1 -1 2 -1 -1 -1 -1 4 3 -1 -1 7 5 -1 -1 -1 -1 -1 -1 -1 -1 -1 -1 -1\n",
        "#r = [1,2,3,4,5,6]\n",
        "#print(r.index(3))\n",
        "\n",
        "s = 'asd'\n",
        "print('i' in s)"
      ],
      "metadata": {
        "colab": {
          "base_uri": "https://localhost:8080/"
        },
        "id": "y-jY_FoyJD-H",
        "outputId": "0340caea-d289-4eec-ee65-e102b8694751"
      },
      "execution_count": null,
      "outputs": [
        {
          "output_type": "stream",
          "name": "stdout",
          "text": [
            "False\n"
          ]
        }
      ]
    },
    {
      "cell_type": "code",
      "source": [
        "#boj 2675\n",
        "#2\n",
        "#3 ABC\n",
        "#5 /HTP\n",
        "#예제 출력 1 \n",
        "#AAABBBCCC\n",
        "#/////HHHHHTTTTTPPPPP\n",
        "#QR Code \"alphanumeric\" 문자는 0123456789ABCDEFGHIJKLMNOPQRSTUVWXYZ\\$%*+-./: 이다\n",
        "T = int(input())\n",
        "\n",
        "for i in range(T):\n",
        "  R,S = input().split()\n",
        "  for i in S:\n",
        "    print(i*int(R),end='')\n",
        "  print()  "
      ],
      "metadata": {
        "colab": {
          "base_uri": "https://localhost:8080/"
        },
        "id": "3wbb3QgvO_mn",
        "outputId": "ed79d1a4-e5d5-49b6-fcb8-d0215f56cccc"
      },
      "execution_count": null,
      "outputs": [
        {
          "output_type": "stream",
          "name": "stdout",
          "text": [
            "2\n",
            "3 ABC\n",
            "AAABBBCCC\n",
            "5 /HTP\n",
            "/////HHHHHTTTTTPPPPP\n"
          ]
        }
      ]
    },
    {
      "cell_type": "code",
      "source": [
        "#boj 1157\n",
        "\n",
        "#알파벳 대소문자로 된 단어가 주어지면, \n",
        "#이 단어에서 가장 많이 사용된 알파벳이 무엇인지 알아내는 프로그램을 작성하시오.\n",
        "#단, 대문자와 소문자를 구분하지 않는다.\n",
        "#입력\n",
        "#첫째 줄에 알파벳 대소문자로 이루어진 단어가 주어진다.\n",
        "#주어지는 단어의 길이는 1,000,000을 넘지 않는다.\n",
        "#출력\n",
        "#첫째 줄에 이 단어에서 가장 많이 사용된 알파벳을 대문자로 출력한다.\n",
        "#단, 가장 많이 사용된 알파벳이 여러 개 존재하는 경우에는 ?를 출력한다.\n",
        "\n",
        "\n",
        "#Mississipi\n",
        "#예제 출력 1 \n",
        "#?\n",
        "#예제 입력 2 \n",
        "#zZa\n",
        "#예제 출력 2 \n",
        "#Z\n",
        "#예제 입력 3 \n",
        "#z\n",
        "#예제 출력 3 \n",
        "#Z\n",
        "#예제 입력 4 \n",
        "#baaa\n",
        "#예제 출력 4 \n",
        "#A\n",
        "\n",
        "s = input().upper() # 유저로부터 단어 입력 받음\n",
        "s_list = s     #입력받은 단어를 구성하고 있는 알파벳을 저장하기 위한 변수 선언\n",
        "s_list = list(set(s_list)) # set으로 중복되는 문자를 제거 한 뒤, 남은 문자들을 리스트로 만듬\n",
        "l = [x for x in s] #입력받은 단어의 문자들을 하나씩 리스트의 한 원소로 하는 리스트를 만듬\n",
        "s_listnum = [] #입력받은 단어의 문자들의 알파벳이 각 몇 번 나오는지 저장하기 위한 리스트\n",
        "for i in s_list: #중복되지 않는 문자를 하나씩 불러옴\n",
        "    s_listnum.append(l.count(i)) #그 문자가 포함되어 있는 개수를 리스트의 원소로 추가\n",
        "if s_listnum.count(max(s_listnum)) > 1: #가장 많이 사용된 알파벳이 여러 개 존재하는 경우\n",
        "    print('?')               # '?' 출력\n",
        "else :\n",
        "    max_s_index = s_listnum.index(max(s_listnum))\n",
        "    print(s_list[max_s_index]) #"
      ],
      "metadata": {
        "colab": {
          "base_uri": "https://localhost:8080/"
        },
        "id": "iGxcsyabzivX",
        "outputId": "3f474b2c-3474-41d8-9436-393f3bcd7aa1"
      },
      "execution_count": null,
      "outputs": [
        {
          "output_type": "stream",
          "name": "stdout",
          "text": [
            "Mississipi\n",
            "?\n"
          ]
        }
      ]
    },
    {
      "cell_type": "code",
      "source": [
        "#boj 1152\n",
        "#The Curious Case of Benjamin Button\n",
        "#예제 출력 1 \n",
        "#6\n",
        "\n",
        "voc = input().split()\n",
        "print(voc)\n",
        "print(type(voc))\n",
        "print(len(voc))"
      ],
      "metadata": {
        "colab": {
          "base_uri": "https://localhost:8080/"
        },
        "id": "MGm_lgWc6OlQ",
        "outputId": "19d79cfb-80cc-4801-e365-55f92dd00778"
      },
      "execution_count": null,
      "outputs": [
        {
          "output_type": "stream",
          "name": "stdout",
          "text": [
            "The Curious Case of Benjamin Button\n",
            "['The', 'Curious', 'Case', 'of', 'Benjamin', 'Button']\n",
            "<class 'list'>\n",
            "6\n"
          ]
        }
      ]
    },
    {
      "cell_type": "code",
      "source": [
        "#boj2908\n",
        "#상근이의 동생 상수는 수학을 정말 못한다. 상수는 숫자를 읽는데 문제가 있다.\n",
        "#이렇게 수학을 못하는 상수를 위해서 상근이는 수의 크기를 비교하는 문제를 내주었다.\n",
        "#상근이는 세 자리 수 두 개를 칠판에 써주었다.\n",
        "#그 다음에 크기가 큰 수를 말해보라고 했다.\n",
        "#상수는 수를 다른 사람과 다르게 거꾸로 읽는다.\n",
        "#예를 들어, 734와 893을 칠판에 적었다면, 상수는 이 수를 437과 398로 읽는다.\n",
        "#따라서, 상수는 두 수중 큰 수인 437을 큰 수라고 말할 것이다.\n",
        "#두 수가 주어졌을 때, 상수의 대답을 출력하는 프로그램을 작성하시오.\n",
        "#입력\n",
        "#첫째 줄에 상근이가 칠판에 적은 두 수 A와 B가 주어진다. 두 수는 같지 않은 세 자리 수이며, 0이 포함되어 있지 않다.\n",
        "#출력\n",
        "#첫째 줄에 상수의 대답을 출력한다.\n",
        "#예제 입력 1 \n",
        "#734 893\n",
        "#예제 출력 1 \n",
        "#437\n",
        "\n",
        "A,B = input().split()\n",
        "A = \"\".join(reversed(A))\n",
        "B = \"\".join(reversed(B))\n",
        "\n",
        "if A > B :\n",
        "    print(A)\n",
        "else:\n",
        "    print(B)\n",
        "    "
      ],
      "metadata": {
        "colab": {
          "base_uri": "https://localhost:8080/"
        },
        "id": "oCd0dJGxkmix",
        "outputId": "b264fc0f-7671-48db-88d1-f2b17dd28dd1"
      },
      "execution_count": null,
      "outputs": [
        {
          "output_type": "stream",
          "name": "stdout",
          "text": [
            "734 893\n",
            "437\n"
          ]
        }
      ]
    },
    {
      "cell_type": "code",
      "source": [
        "#boj 5622\n",
        "\n",
        "#전화를 걸고 싶은 번호가 있다면, 숫자를 하나를 누른 다음에 금속 핀이 있는 곳 까지 시계방향으로 돌려야 한다.\n",
        "# 숫자를 하나 누르면 다이얼이 처음 위치로 돌아가고, 다음 숫자를 누르려면 다이얼을 처음 위치에서 다시 돌려야 한다.\n",
        "#숫자 1을 걸려면 총 2초가 필요하다. 1보다 큰 수를 거는데 걸리는 시간은 이보다 더 걸리며, 한 칸 옆에 있는 숫자를 걸기 위해선 1초씩 더 걸린다.\n",
        "#상근이의 할머니는 전화 번호를 각 숫자에 해당하는 문자로 외운다. 즉, 어떤 단어를 걸 때, 각 알파벳에 해당하는 숫자를 걸면 된다.\n",
        "# 예를 들어, UNUCIC는 868242와 같다.\n",
        "#할머니가 외운 단어가 주어졌을 때, 이 전화를 걸기 위해서 필요한 최소 시간을 구하는 프로그램을 작성하시오.\n",
        "#입력\n",
        "#첫째 줄에 알파벳 대문자로 이루어진 단어가 주어진다. 단어의 길이는 2보다 크거나 같고, 15보다 작거나 같다.\n",
        "#출력\n",
        "#첫째 줄에 다이얼을 걸기 위해서 필요한 최소 시간을 출력한다.\n",
        "#예제 입력 1 \n",
        "#WA\n",
        "#예제 출력 1 \n",
        "#13\n",
        "\n",
        "s = input()\n",
        "time = 0\n",
        "for i in s:\n",
        "  if i == 'A' or i == 'B' or i == 'C':\n",
        "    time += 3\n",
        "  elif i == 'D' or i == 'E' or i == 'F':\n",
        "    time += 4\n",
        "  elif i == 'G' or i == 'H' or i == 'I':\n",
        "    time += 5  \n",
        "  elif i == 'J' or i == 'K' or i == 'L':\n",
        "    time += 6\n",
        "  elif i == 'M' or i == 'N' or i == 'O':\n",
        "    time += 7\n",
        "  elif i == 'P' or i == 'Q'  or i == 'R' or i == 'S' :\n",
        "    time += 8\n",
        "  elif i == 'T' or i == 'U' or i == 'V':\n",
        "    time += 9\n",
        "  elif i == 'W' or i == 'X' or i == 'Y' or i == 'Z':\n",
        "    time += 10\n",
        "print(time)  "
      ],
      "metadata": {
        "colab": {
          "base_uri": "https://localhost:8080/"
        },
        "id": "oW-MkBJSpTGr",
        "outputId": "562cec95-9d54-46c8-ff2a-b01d719e3b32"
      },
      "execution_count": null,
      "outputs": [
        {
          "output_type": "stream",
          "name": "stdout",
          "text": [
            "WA\n",
            "13\n"
          ]
        }
      ]
    },
    {
      "cell_type": "code",
      "source": [
        "#boj 2941\n",
        "\n",
        "#크로아티아 알파벳\t변경\n",
        "#č\tc=\n",
        "#ć\tc-\n",
        "#dž\tdz=\n",
        "#đ\td-\n",
        "#lj\tlj\n",
        "#nj\tnj\n",
        "#š\ts=\n",
        "#ž\tz=\n",
        "#예를 들어, ljes=njak은 크로아티아 알파벳 6개(lj, e, š, nj, a, k)로 이루어져 있다.\n",
        "# 단어가 주어졌을 때, 몇 개의 크로아티아 알파벳으로 이루어져 있는지 출력한다.\n",
        "#dž는 무조건 하나의 알파벳으로 쓰이고, d와 ž가 분리된 것으로 보지 않는다.\n",
        "# lj와 nj도 마찬가지이다. 위 목록에 없는 알파벳은 한 글자씩 센다.\n",
        "#입력\n",
        "#첫째 줄에 최대 100글자의 단어가 주어진다. 알파벳 소문자와 '-', '='로만 이루어져 있다.\n",
        "#단어는 크로아티아 알파벳으로 이루어져 있다. 문제 설명의 표에 나와있는 알파벳은 변경된 형태로 입력된다.\n",
        "#출력\n",
        "#입력으로 주어진 단어가 몇 개의 크로아티아 알파벳으로 이루어져 있는지 출력한다.\n",
        "#예제 입력 1 \n",
        "#ljes=njak\n",
        "#예제 출력 1 \n",
        "#6\n",
        "\n",
        "croatian = ['c=','c-','dz=','d-','lj','nj','s=','z=']\n",
        "s = input()\n",
        "\n",
        "for i in croatian:\n",
        "  s = s.replace(i,'!')\n",
        "\n",
        "print(len(s))\n"
      ],
      "metadata": {
        "colab": {
          "base_uri": "https://localhost:8080/"
        },
        "id": "VQMCgSQcuWl3",
        "outputId": "5e198e34-186f-49db-9a75-8ae88ecf3a74"
      },
      "execution_count": null,
      "outputs": [
        {
          "output_type": "stream",
          "name": "stdout",
          "text": [
            "ljes=njak\n",
            "!e!!ak\n",
            "6\n"
          ]
        }
      ]
    },
    {
      "cell_type": "code",
      "source": [
        "#boj 1316\n",
        "#문제\n",
        "#그룹 단어란 단어에 존재하는 모든 문자에 대해서, 각 문자가 연속해서 나타나는 경우만을 말한다. 예를 들면, ccazzzzbb는 c, a, z, b가 모두 연속해서 나타나고, kin도 k, i, n이 연속해서 나타나기 때문에 그룹 단어이지만, aabbbccb는 b가 떨어져서 나타나기 때문에 그룹 단어가 아니다.\n",
        "#단어 N개를 입력으로 받아 그룹 단어의 개수를 출력하는 프로그램을 작성하시오.\n",
        "#입력\n",
        "#첫째 줄에 단어의 개수 N이 들어온다. N은 100보다 작거나 같은 자연수이다. 둘째 줄부터 N개의 줄에 단어가 들어온다. 단어는 알파벳 소문자로만 되어있고 중복되지 않으며, 길이는 최대 100이다.\n",
        "#출력\n",
        "#첫째 줄에 그룹 단어의 개수를 출력한다.\n",
        "#예제 입력 1 \n",
        "#3\n",
        "#happy\n",
        "#new\n",
        "#year\n",
        "#예제 출력 1 \n",
        "#3\n",
        "num_w = int(input())\n",
        "num_groupword = 0\n",
        "\n",
        "\n",
        "for i in range(num_w):\n",
        "  word = input()\n",
        "  error = 0\n",
        "  for index in range(len(word)-1):\n",
        "    if word[index] != word[index+1]:\n",
        "      new_word = word[index+1:]\n",
        "      if word[index] in new_word:\n",
        "        error += 1\n",
        "  if error == 0 :\n",
        "    num_groupword += 1\n",
        "\n",
        "print(num_groupword)\n",
        "          \n",
        "      \n"
      ],
      "metadata": {
        "colab": {
          "base_uri": "https://localhost:8080/"
        },
        "id": "C6JQbELv5Vv2",
        "outputId": "a43d6b02-d52c-4681-f84d-f8f26ee507ba"
      },
      "execution_count": null,
      "outputs": [
        {
          "output_type": "stream",
          "name": "stdout",
          "text": [
            "3\n",
            "happy\n",
            "new\n",
            "year\n",
            "3\n"
          ]
        }
      ]
    },
    {
      "cell_type": "code",
      "source": [
        "# boj 1712\n",
        "# 월드전자는 노트북을 제조하고 판매하는 회사이다.\n",
        "# 노트북 판매 대수에 상관없이 매년 임대료, 재산세, 보험료, 급여 등 A만원의 고정 비용이 들며,\n",
        "# 한 대의 노트북을 생산하는 데에는 재료비와 인건비 등 총 B만원의 가변 비용이 든다고 한다.\n",
        "\n",
        "#예를 들어 A=1,000, B=70이라고 하자. 이 경우 노트북을 한 대 생산하는 데는 총 1,070만원이 들며, 열 대 생산하는 데는 총 1,700만원이 든다.\n",
        "\n",
        "#노트북 가격이 C만원으로 책정되었다고 한다. \n",
        "#일반적으로 생산 대수를 늘려 가다 보면 어느 순간 총 수입(판매비용)이 총 비용(=고정비용+가변비용)보다 많아지게 된다. \n",
        "#최초로 총 수입이 총 비용보다 많아져 이익이 발생하는 지점을 손익분기점(BREAK-EVEN POINT)이라고 한다.\n",
        "\n",
        "#A, B, C가 주어졌을 때, 손익분기점을 구하는 프로그램을 작성하시오.\n",
        "\n",
        "#입력\n",
        "#첫째 줄에 A, B, C가 빈 칸을 사이에 두고 순서대로 주어진다. A, B, C는 21억 이하의 자연수이다.\n",
        "\n",
        "#출력\n",
        "#첫 번째 줄에 손익분기점 즉 최초로 이익이 발생하는 판매량을 출력한다. 손익분기점이 존재하지 않으면 -1을 출력한다.\n",
        "\n",
        "#예제 입력 1 \n",
        "#1000 70 170\n",
        "#예제 출력 1 \n",
        "#11\n",
        "\n",
        "\n",
        "A,B,C = map(int,input().split())\n",
        "\n",
        "if B >= C :\n",
        "  print(-1)\n",
        "else:\n",
        "  print(A//(C-B)+1)"
      ],
      "metadata": {
        "colab": {
          "base_uri": "https://localhost:8080/"
        },
        "id": "Md4bZWyH9ClK",
        "outputId": "30ce2cd5-7eef-4217-e83f-f2efdcb8f6df"
      },
      "execution_count": null,
      "outputs": [
        {
          "output_type": "stream",
          "name": "stdout",
          "text": [
            "1000 70 170\n",
            "11\n"
          ]
        }
      ]
    },
    {
      "cell_type": "code",
      "source": [
        "#boj 2292\n",
        "\n",
        "#위의 그림과 같이 육각형으로 이루어진 벌집이 있다.\n",
        "# 그림에서 보는 바와 같이 중앙의 방 1부터 시작해서 이웃하는 방에 돌아가면서 1씩 증가하는 번호를 주소로 매길 수 있다.\n",
        "# 숫자 N이 주어졌을 때, 벌집의 중앙 1에서 N번 방까지 최소 개수의 방을 지나서 갈 때\n",
        "# 몇 개의 방을 지나가는지(시작과 끝을 포함하여)를 계산하는 프로그램을 작성하시오. 예를 들면, 13까지는 3개, 58까지는 5개를 지난다.\n",
        "\n",
        "#입력\n",
        "#첫째 줄에 N(1 ≤ N ≤ 1,000,000,000)이 주어진다.\n",
        "#출력\n",
        "#입력으로 주어진 방까지 최소 개수의 방을 지나서 갈 때 몇 개의 방을 지나는지 출력한다.\n",
        "#예제 입력 1 \n",
        "#13\n",
        "#예제 출력 1\n",
        "#3\n",
        "\n",
        "N = int(input())\n",
        "\n",
        "c = 1\n",
        "c_six = 6\n",
        "cnt = 1\n",
        "\n",
        "while N>cnt :\n",
        "  c += 1\n",
        "  cnt += c_six\n",
        "  c_six += 6\n",
        "\n",
        "print(c) \n"
      ],
      "metadata": {
        "colab": {
          "base_uri": "https://localhost:8080/"
        },
        "id": "tL9KKA5Rq7XZ",
        "outputId": "e37d28d6-0bc6-4916-a2cd-686cb1386450"
      },
      "execution_count": 7,
      "outputs": [
        {
          "output_type": "stream",
          "name": "stdout",
          "text": [
            "13\n",
            "3\n"
          ]
        }
      ]
    }
  ]
}