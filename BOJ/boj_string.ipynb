{
  "nbformat": 4,
  "nbformat_minor": 0,
  "metadata": {
    "colab": {
      "name": "boj_string.ipynb",
      "provenance": [],
      "authorship_tag": "ABX9TyPWPN3ftYKo2xl2xVXNtrlN",
      "include_colab_link": true
    },
    "kernelspec": {
      "name": "python3",
      "display_name": "Python 3"
    },
    "language_info": {
      "name": "python"
    }
  },
  "cells": [
    {
      "cell_type": "markdown",
      "metadata": {
        "id": "view-in-github",
        "colab_type": "text"
      },
      "source": [
        "<a href=\"https://colab.research.google.com/github/MuHyeonSon/algorithm/blob/main/BOJ/boj_string.ipynb\" target=\"_parent\"><img src=\"https://colab.research.google.com/assets/colab-badge.svg\" alt=\"Open In Colab\"/></a>"
      ]
    },
    {
      "cell_type": "code",
      "execution_count": null,
      "metadata": {
        "id": "l-VouHcLAevK"
      },
      "outputs": [],
      "source": [
        "#boj 11654\n",
        "i = input()\n",
        "print(ord(i))"
      ]
    },
    {
      "cell_type": "code",
      "source": [
        "#boj 11720\n",
        "n = input()\n",
        "number = input()\n",
        "s = 0\n",
        "for i in number:\n",
        "    s = s + int(i)\n",
        "print(s)    "
      ],
      "metadata": {
        "id": "UFkNSOsABJec"
      },
      "execution_count": null,
      "outputs": []
    },
    {
      "cell_type": "code",
      "source": [
        "#boj 10809\n",
        "a = list(chr(x) for x in range(97,123))\n",
        "s = input()\n",
        "l = []\n",
        "for i in a:\n",
        "  if i in s :\n",
        "    l.append(s.index(i))\n",
        "  else :\n",
        "    l.append(-1)\n",
        "\n",
        "for i in l:\n",
        "    print(i,end=' ')"
      ],
      "metadata": {
        "colab": {
          "base_uri": "https://localhost:8080/"
        },
        "id": "PUktA1bpF0Km",
        "outputId": "8d785468-1aa1-4d9b-86fa-de10bdc25344"
      },
      "execution_count": 24,
      "outputs": [
        {
          "output_type": "stream",
          "name": "stdout",
          "text": [
            "baekjoon\n",
            "1 0 -1 -1 2 -1 -1 -1 -1 4 3 -1 -1 7 5 -1 -1 -1 -1 -1 -1 -1 -1 -1 -1 -1 "
          ]
        }
      ]
    },
    {
      "cell_type": "code",
      "source": [
        "#0 1 -1 -1 4 -1 -1 -1 -1 9 10 -1 -1 13 14 -1 -1 -1 -1 -1 -1 -1 -1 -1 -1 -1 \n",
        "#1 0 -1 -1 2 -1 -1 -1 -1 4 3 -1 -1 7 5 -1 -1 -1 -1 -1 -1 -1 -1 -1 -1 -1 \n",
        "#1 0 -1 -1 2 -1 -1 -1 -1 4 3 -1 -1 7 5 -1 -1 -1 -1 -1 -1 -1 -1 -1 -1 -1\n",
        "#r = [1,2,3,4,5,6]\n",
        "#print(r.index(3))\n",
        "\n",
        "s = 'asd'\n",
        "print('i' in s)"
      ],
      "metadata": {
        "colab": {
          "base_uri": "https://localhost:8080/"
        },
        "id": "y-jY_FoyJD-H",
        "outputId": "0340caea-d289-4eec-ee65-e102b8694751"
      },
      "execution_count": 15,
      "outputs": [
        {
          "output_type": "stream",
          "name": "stdout",
          "text": [
            "False\n"
          ]
        }
      ]
    },
    {
      "cell_type": "code",
      "source": [
        "#boj 2675\n",
        "#2\n",
        "#3 ABC\n",
        "#5 /HTP\n",
        "#예제 출력 1 \n",
        "#AAABBBCCC\n",
        "#/////HHHHHTTTTTPPPPP\n",
        "#QR Code \"alphanumeric\" 문자는 0123456789ABCDEFGHIJKLMNOPQRSTUVWXYZ\\$%*+-./: 이다\n",
        "T = int(input())\n",
        "\n",
        "for i in range(T):\n",
        "  R,S = input().split()\n",
        "  for i in S:\n",
        "    print(i*int(R),end='')\n",
        "  print()  "
      ],
      "metadata": {
        "colab": {
          "base_uri": "https://localhost:8080/"
        },
        "id": "3wbb3QgvO_mn",
        "outputId": "ed79d1a4-e5d5-49b6-fcb8-d0215f56cccc"
      },
      "execution_count": 22,
      "outputs": [
        {
          "output_type": "stream",
          "name": "stdout",
          "text": [
            "2\n",
            "3 ABC\n",
            "AAABBBCCC\n",
            "5 /HTP\n",
            "/////HHHHHTTTTTPPPPP\n"
          ]
        }
      ]
    }
  ]
}