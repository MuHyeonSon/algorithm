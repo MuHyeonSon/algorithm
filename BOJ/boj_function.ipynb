{
  "nbformat": 4,
  "nbformat_minor": 0,
  "metadata": {
    "colab": {
      "name": "boj_function.ipynb",
      "provenance": [],
      "authorship_tag": "ABX9TyMRNvjtuqxIeHCj84cuJfM+",
      "include_colab_link": true
    },
    "kernelspec": {
      "name": "python3",
      "display_name": "Python 3"
    },
    "language_info": {
      "name": "python"
    }
  },
  "cells": [
    {
      "cell_type": "markdown",
      "metadata": {
        "id": "view-in-github",
        "colab_type": "text"
      },
      "source": [
        "<a href=\"https://colab.research.google.com/github/MuHyeonSon/algorithm/blob/main/BOJ/boj_function.ipynb\" target=\"_parent\"><img src=\"https://colab.research.google.com/assets/colab-badge.svg\" alt=\"Open In Colab\"/></a>"
      ]
    },
    {
      "cell_type": "code",
      "execution_count": 3,
      "metadata": {
        "id": "ZCHF12eD-WUW"
      },
      "outputs": [],
      "source": [
        "#boj 15596\n",
        "def solve(a):\n",
        "    ans = 0\n",
        "    for i in a:\n",
        "        ans = ans + i\n",
        "    return ans"
      ]
    },
    {
      "cell_type": "code",
      "source": [
        "#boj 4673\n",
        "\n",
        "natural_num = set(range(1,10001))\n",
        "generator = set()\n",
        "\n",
        "for i in range(1,10001):\n",
        "  for j in str(i):\n",
        "    i = i + int(j)\n",
        "  if i <10001:\n",
        "    generator.add(i)\n",
        "\n",
        "self_num = sorted(natural_num - generator)\n",
        "\n",
        "for i in self_num:\n",
        "  print(i)"
      ],
      "metadata": {
        "colab": {
          "base_uri": "https://localhost:8080/"
        },
        "id": "fZWaQFLkEHpe",
        "outputId": "59b3db99-c34b-4258-8552-c3d716ccffe8"
      },
      "execution_count": 13,
      "outputs": [
        {
          "output_type": "stream",
          "name": "stdout",
          "text": [
            "1\n",
            "3\n",
            "5\n",
            "7\n",
            "9\n"
          ]
        }
      ]
    }
  ]
}