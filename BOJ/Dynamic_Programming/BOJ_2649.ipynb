{
  "nbformat": 4,
  "nbformat_minor": 0,
  "metadata": {
    "colab": {
      "provenance": [],
      "authorship_tag": "ABX9TyO6N27eGlJmUCMTQZSWq8pc",
      "include_colab_link": true
    },
    "kernelspec": {
      "name": "python3",
      "display_name": "Python 3"
    },
    "language_info": {
      "name": "python"
    }
  },
  "cells": [
    {
      "cell_type": "markdown",
      "metadata": {
        "id": "view-in-github",
        "colab_type": "text"
      },
      "source": [
        "<a href=\"https://colab.research.google.com/github/MuHyeonSon/algorithm/blob/main/BOJ/Dynamic_Programming/BOJ_2649.ipynb\" target=\"_parent\"><img src=\"https://colab.research.google.com/assets/colab-badge.svg\" alt=\"Open In Colab\"/></a>"
      ]
    },
    {
      "cell_type": "code",
      "source": [
        "# 아주 그냥 2022-1 학기 알고리즘에서 다룬 DP 예제 복습해보자\n",
        "# 이 망할놈의 BOJ 2649는 재귀 알고리즘을 DP 알고리즘을 바꾸는 거니까 손 코딩 코딩 다시 해보면서 해볼 거임\n",
        "\n",
        "# ex1) 피보나치수 계산\n",
        "\n",
        "## 재귀알고리즘\n",
        "\n",
        "def fibo_r(n):\n",
        "  if n <= 1: return n\n",
        "  return fibo_r(n-1) + fibo_r(n-2)\n",
        "\n",
        "## DP알고리즘\n",
        "\n",
        "def fibo_DP(n):\n",
        "  if n <= 1: return n\n",
        "  F = [0,1]\n",
        "  for i in range(2,n+1):\n",
        "    F.append(F[i-1] + F[i-2])\n",
        "  return F[n]\n",
        "\n",
        "## F 는 부문제의 답을 기록한 테이블(DP 테이블)이 되고, i=2 ... i = n까지 차례대로 식을 계산하여 테이블 채우면 됨.\n",
        "## 문제의 해답은 결국 F[n] 위치에 저장되므로 F[n] 값을 리턴하면 됨\n",
        "\n",
        "# ex2) 계단 오르는 경우의 수  바닥 : 1층 n개의 계단, 한 계단 or 두 계단 씩만 오를 수 있음, 1층에서 n층까지 갈 수 있는 서로 다른 경우의 수\n",
        "\n",
        "## A[0] : ''\n",
        "## A[1] : 1\n",
        "## A[2] : 1\n",
        "## A[3] : 2 #(바닥까지 가는 경우와 2계단까지 가는 경우의 수)\n",
        "## A[4] : 3 #(2계단까지 가는 경우와 3계단까지 가는 경우)\n",
        "## 1층에서 n층까지 가는 경우 한 가지를 생각해보면 n층에 도달하기 위해서는 n-1층에서 한 계단 올라가는 것과 n-2층에서 두 계단 올라가는 경우까지 해서 두 가지 경우 뿐임\n",
        "## (1) 해답의 구조 생각\n",
        "## n-1층까지 올라와서 한 칸 올라가는 경우의 수와  n-2층까지 올라와서 두 칸 올라오는 경우의 수를 더하면 됨\n",
        "## 1층에서 n층까지 올라오는 경우의수 = 1층에서 n-1층까지 올라오는 경우의 수 + 1층에서 n-2층까지 올라오는 경우의 수\n",
        "## A[n] = A[n-1] + A[n-2]\n",
        "## (2) 부문제로 분할하여 목표 답을 부문제의 답으로 표현하는 단계\n",
        "## 결국은 피보나치 수 함수랑 동일하네\n",
        "\n",
        "## DP알고리즘 구현\n",
        "\n",
        "def Stair(n) :\n",
        "  S = [0,1,1]\n",
        "  if n <= 2: return S[n]\n",
        "  for i in range(3,n+1):\n",
        "    S.append(S[i-1] + S[i-2])\n",
        "  return S[n]\n",
        "\n",
        "# ex3) 도미노 타일링\n",
        "\n",
        "# ex4) 최대 합 계산하기 <--- 품 이해O\n",
        "\n",
        "## 아니 이걸 어떻게 바로 생각해내냐고 그냥 외워야돼?? 이런 비슷한 문제가 나온다면 이런 방식이 있다는 것을?? \n",
        "## 아니면 떠올릴 수 있어야 되는 거?? 장난하는 것도 아니고\n",
        "## 알고리즘 연구하는 석박사들이나 이렇게 코테에서 바로 떠올릴 수 있는거 아니야? \n",
        "\n",
        "## 정수 n개의 수열이 A[0],...,A[n-1] 처럼 주어질 때, 이 수열에서 A[i] + ... A[j]의 합이 최대가 되는 인덱스 i,j (i<=j)를 계산해서 값 출력하라\n",
        "## 부문제 분할\n",
        "## *******최대합이 A[i]+...+A[j]라고 할 때 A[i]+...+A[j-1]은 A[j-1]로 끝나는 구간 중에 합이 최대인 구간이어야 된다.************\n",
        "## 왜냐면 A[i]+..+A[j]가 최대합인데 A[i]+...+A[j-1]이 A[j-1]로 끝나는 구간들 중에서 최대 합이 아니라면 A[j]를 더했을 때 A[i]+...+A[j]보다 더 큰 합을 만들 수 있는 거잖아?\n",
        "## 근데 최대구간합이 단 하나의 숫자로만 구성될 수도 있으니까\n",
        "## A[i]+...A[j-1]+A[j] or A[j](i==j 이렇게 할 수 있지 않을까) 둘 중에 하나가 최대구간합이 될거여\n",
        "## S라는 DP table을 만들고 A에서 j위치에서의 최대구간의 합 값을 저장 (j는 1부터 n-1까지 (파이썬 리스트 기준으로))\n",
        "\n",
        "def find_max_sum(A):\n",
        "  S = [0]*len(A)\n",
        "  S[0] = A[0] # 첫번째 위치에서의 최대구간의 합은 그 값 자기 자신이니까\n",
        "  for i in range(1,len(A)):\n",
        "    S[i] = max(S[i-1]+A[i],A[i])\n",
        "  return max(S)\n",
        "\n",
        "\n",
        "# ex5) zig-zag 수열 계산하기\n",
        "\n",
        "# ex6) LCS 계산하기\n",
        "\n",
        "# ex7) 편집거리\n",
        "\n",
        "# ex8) 괄호 만들기 (행렬 여러개를 최소비용으로 곱셈하는 문제)\n",
        "\n",
        "# ex9) LIS 문제 (최장 증가부수열 문제)"
      ],
      "metadata": {
        "id": "KMquT6ZKkWj7"
      },
      "execution_count": 5,
      "outputs": []
    },
    {
      "cell_type": "code",
      "source": [
        "A = [1,-1,3,-4,5,-4,6,-2]\n",
        "print(find_max_sum(A))"
      ],
      "metadata": {
        "colab": {
          "base_uri": "https://localhost:8080/"
        },
        "id": "q4524JvPGqAg",
        "outputId": "fd580778-4cf9-499e-cc03-708deaf8b136"
      },
      "execution_count": 6,
      "outputs": [
        {
          "output_type": "stream",
          "name": "stdout",
          "text": [
            "7\n"
          ]
        }
      ]
    },
    {
      "cell_type": "code",
      "source": [
        "for i in range(0,10):\n",
        "  print(fibo_DP(i))\n",
        "  print(fibo_r(i))\n",
        "  print(Stair(i))"
      ],
      "metadata": {
        "colab": {
          "base_uri": "https://localhost:8080/"
        },
        "id": "E408WqnZnq-W",
        "outputId": "626183c1-b95e-465f-b512-d6c8b20aad23"
      },
      "execution_count": 13,
      "outputs": [
        {
          "output_type": "stream",
          "name": "stdout",
          "text": [
            "0\n",
            "0\n",
            "0\n",
            "1\n",
            "1\n",
            "1\n",
            "1\n",
            "1\n",
            "1\n",
            "2\n",
            "2\n",
            "2\n",
            "3\n",
            "3\n",
            "3\n",
            "5\n",
            "5\n",
            "5\n",
            "8\n",
            "8\n",
            "8\n",
            "13\n",
            "13\n",
            "13\n",
            "21\n",
            "21\n",
            "21\n",
            "34\n",
            "34\n",
            "34\n"
          ]
        }
      ]
    },
    {
      "cell_type": "code",
      "source": [
        "import numpy as np"
      ],
      "metadata": {
        "id": "mmxQ7Bohv2kP"
      },
      "execution_count": 6,
      "outputs": []
    },
    {
      "cell_type": "code",
      "execution_count": null,
      "metadata": {
        "colab": {
          "base_uri": "https://localhost:8080/"
        },
        "id": "K2j6sCl_Fnqc",
        "outputId": "878835c9-187f-4fee-bade-a8106e865d53"
      },
      "outputs": [
        {
          "output_type": "stream",
          "name": "stdout",
          "text": [
            "5\n",
            "5 3\n"
          ]
        }
      ],
      "source": [
        "#boj 24416 손무현\n",
        "\"\"\"\n",
        "fib(n) {\n",
        "    if (n = 1 or n = 2)\n",
        "    then return 1;  # 코드1\n",
        "    else return (fib(n - 1) + fib(n - 2));\n",
        "}\n",
        "피보나치 수 동적 프로그래밍 의사 코드는 다음과 같다.\n",
        "\n",
        "fibonacci(n) {\n",
        "    f[1] <- f[2] <- 1;\n",
        "    for i <- 3 to n\n",
        "        f[i] <- f[i - 1] + f[i - 2];  # 코드2\n",
        "    return f[n];\n",
        "}\n",
        "입력\n",
        "첫째 줄에 n(5 ≤ n ≤ 40)이 주어진다.\n",
        "\n",
        "출력\n",
        "코드1 코드2 실행 횟수를 한 줄에 출력한다.\n",
        "\n",
        "예제 입력 1 \n",
        "5\n",
        "예제 출력 1 \n",
        "5 3\n",
        "\"\"\"\n",
        "\n",
        "count_code1 = 0\n",
        "count_code2 = 0\n",
        "\n",
        "def fibonacci_recursive(n): # 재귀호출을 이용한 피보나치 수 계산 함수\n",
        "  global count_code1\n",
        "\n",
        "  if (n == 1) or (n == 2):\n",
        "    count_code1 += 1 \n",
        "    return 1 #코드1\n",
        "  else : \n",
        "    return (fibonacci_recursive(n-1) + fibonacci_recursive(n-2))\n",
        "\n",
        "def fibonacci_DP(n): # Dynamic programming을 이용한 피보나치 수 계산\n",
        "  global count_code2\n",
        "  global f\n",
        "\n",
        "  for i in range(2,n):\n",
        "    f[i] = f[i - 1] + f[i - 2]  # 코드2\n",
        "    count_code2 += 1\n",
        "  \n",
        "#main\n",
        "\n",
        "n = int(input())\n",
        "\n",
        "f = [1]*n\n",
        "\n",
        "fibonacci_recursive(n) # 재귀함수를 이용한 피보나치 수 계산\n",
        "fibonacci_DP(n) # Dynamic programming을 이용한 피보나치 수 계산\n",
        "\n",
        "print(count_code1,count_code2) # 코드1과 코드2 실행 횟수 출력"
      ]
    },
    {
      "cell_type": "code",
      "source": [
        "#boj 9184 손무현\n",
        "#재귀함수 호출 방식의 알고리즘을 DP 방식의 알고리즘으로 바꾸는게 문제인 것 같은데\n",
        "#어떻게 접근해야할까? \n",
        "\"\"\"\n",
        "DP\n",
        "1, 큰 문제 -> 작은 문제 분할 (해답의 구조를 파악해 어떻게 부문제로 나눌 지 결정한다.)\n",
        "2. 큰 문제의 해 -> 작은 해의 점화식 (부문제의 해답을 어떻게 조합해 더 큰 문제의 해답을 만들 수 있는지 식을 마련(보통은 점화식))\n",
        "3. DP 테이블 정의 (작은 문제에서 큰 문제로 적당한 순서에 따라 해답을 계산하여 테이블에 저장(과정에서 재사용하여 답을 계산))\n",
        "4. 정확성 증명 (위의 단계들이 원래 문제의 답을 항상 출력함을 증명하고 답을 증명하고 출력)\n",
        "\"\"\"\n",
        "# 3차원 리스트 생성??...  -> 맞을거야 LCS 계산문제를 떠올려보면 LCS table 채우기 위해 이중 for문 돌렸었잖아? 이거는 3중 for문 돌려서 풀어보자!!!\n",
        "# w라는 함수는 세가지 매개변수의 조건에 따라 어떠한 출력 값을 계산하여 return 한다.\n",
        "# 이것을 어떻게 작은 문제로 분할 할 수 있을까??\n",
        "# w(a,b,c) 얘에 대해 어떠한 공식에 의해 미리 계산된 DP테이블이 있어야 되지 않을까? 그리고 그 DP테이블은 for문을 통해 계속해서 채워지는 형태 ???  \n",
        "\n",
        "################################################ DP 테이블에는 [a][b][c]에 해당하는 위치에 w(a,b,c) 값이 위치하게 해야되지??################################################################ \n",
        "\n",
        "\"\"\"\n",
        "다음과 같은 재귀함수 w(a, b, c)가 있다.\n",
        "\n",
        "\n",
        "if a <= 0 or b <= 0 or c <= 0, then w(a, b, c) returns:   # 바닥조건??? 실제 인덱스의 범위는 [0,100], a,b,c의 범위는 [-50,50] 따라서 실제 인덱스가 a<=50 or b<=50 or c<=50인 곳은 다 1넣어야 됨\n",
        "    1\n",
        "\n",
        "if a > 20 or b > 20 or c > 20, then w(a, b, c) returns:   # a > 70 or b > 70 or c > 70 가 성립 되는 위치의 원소는 70,70,70 인덱스 값으로 채워 \n",
        "    w(20, 20, 20)\n",
        "\n",
        "if a < b and b < c, then w(a, b, c) returns:              # \n",
        "    w(a, b, c-1) + w(a, b-1, c-1) - w(a, b-1, c)\n",
        "\n",
        "otherwise it returns:\n",
        "    w(a-1, b, c) + w(a-1, b-1, c) + w(a-1, b, c-1) - w(a-1, b-1, c-1)\n",
        "\n",
        "\n",
        "위의 함수를 구현하는 것은 매우 쉽다. 하지만, 그대로 구현하면 값을 구하는데 매우 오랜 시간이 걸린다. (예를 들면, a=15, b=15, c=15)\n",
        "\n",
        "#### 왜 더 오래 걸려? 즉, 왜 재귀호출 방법이 오래 걸릴까? : 솔루션들을 계산할 때 이미 이전에 계산 했던 결과를 사용하지 않고 다시 계산하기 때문이다\n",
        "#### 하지만 DP의 경우 내가 앞으로 필요한 솔루션들의 값들을 for문을 돌면서 순서에 맞게 미리 리스트에 저장해놓고 나중에 더 큰 문제의 솔루션을 구하기 위해 작은 문제의 솔루션이 필요하면\n",
        "그 리스트에 가서 그 값을 가져와서 조합하면 되기 때문에 더 빠른 것이다.\n",
        "\n",
        "DP와 DC 의 차이는 : \n",
        "\n",
        "a, b, c가 주어졌을 때, w(a, b, c)를 출력하는 프로그램을 작성하시오.\n",
        "\n",
        "입력\n",
        "입력은 세 정수 a, b, c로 이루어져 있으며, 한 줄에 하나씩 주어진다. 입력의 마지막은 -1 -1 -1로 나타내며, 세 정수가 모두 -1인 경우는 입력의 마지막을 제외하면 없다.\n",
        "\n",
        "출력\n",
        "입력으로 주어진 각각의 a, b, c에 대해서, w(a, b, c)를 출력한다.\n",
        "\n",
        "제한\n",
        "-50 ≤ a, b, c ≤ 50\n",
        "\n",
        "예제 입력 1 \n",
        "1 1 1\n",
        "2 2 2\n",
        "10 4 6\n",
        "50 50 50\n",
        "-1 7 18\n",
        "-1 -1 -1\n",
        "예제 출력 1 \n",
        "w(1, 1, 1) = 2\n",
        "w(2, 2, 2) = 4\n",
        "w(10, 4, 6) = 523\n",
        "w(50, 50, 50) = 1048576\n",
        "w(-1, 7, 18) = 1\n",
        "\"\"\"\n",
        "\n",
        "\n",
        "\n",
        "def w(a,b,c):\n",
        "  \n",
        "input_list = [1,1,1]\n",
        "while(input_list[0] == -1 and input_list[1] == -1 and input_list[2] == -1):\n",
        "  global input_list\n",
        "  input_list = list(map(int,input().split()))\n",
        "\n"
      ],
      "metadata": {
        "id": "9F5GyBe3JkDx"
      },
      "execution_count": null,
      "outputs": []
    },
    {
      "cell_type": "code",
      "source": [
        "a,b,c = 0\n",
        "\n",
        "while(True):\n",
        "  a,b,c = (map(int,input().split()))\n",
        "  if (a != -1) and (b != -1) and (c != -1) :\n",
        "    break\n",
        "  else:\n",
        "    if a <= 0 or b <= 0 or c <= 0, then w(a, b, c) returns:\n",
        "      1\n",
        "    \n",
        "    if a > 20 or b > 20 or c > 20, then w(a, b, c) returns:\n",
        "      w(20, 20, 20)\n",
        "\n",
        "    if a < b and b < c, then w(a, b, c) returns:\n",
        "      w(a, b, c-1) + w(a, b-1, c-1) - w(a, b-1, c)\n",
        "\n",
        "\n",
        "print(input_list)"
      ],
      "metadata": {
        "colab": {
          "base_uri": "https://localhost:8080/"
        },
        "id": "nx098mdQJow0",
        "outputId": "4bad7105-8011-43e2-e917-9dee5a648f7b"
      },
      "execution_count": null,
      "outputs": [
        {
          "output_type": "stream",
          "name": "stdout",
          "text": [
            "-1 -1 -1\n",
            "[-1, -1, -1]\n"
          ]
        }
      ]
    },
    {
      "cell_type": "code",
      "source": [
        "dp = [[[]*100]*100]*100\n"
      ],
      "metadata": {
        "id": "GOz608oZuX0T"
      },
      "execution_count": null,
      "outputs": []
    },
    {
      "cell_type": "code",
      "source": [
        "dp = [[[0 for col in range(100)] for row in range(100)] for depth in range(100)] # DP table 선언 및 초기화 (3차원 리스트)\n",
        "\n",
        "for a in range(100):\n",
        "  for b in range(100):\n",
        "    for c in range(100):\n",
        "      if a <= 50 or b <= 50 or c <= 50: #then w(a, b, c) returns:  # 바닥조건??? 실제 인덱스의 범위는 [0,100], a,b,c의 범위는 [-50,50] 따라서 실제 인덱스가 a<=50 or b<=50 or c<=50인 곳은 다 1넣어야 됨\n",
        "          dp[a][b][c] = 1\n",
        "\n",
        "      elif a > 20 or b > 20 or c > 20: #then w(a, b, c) returns:   # a > 70 or b > 70 or c > 70 가 성립 되는 위치의 원소는 70,70,70 인덱스 값으로 채워 \n",
        "          dp[a][b][c] = dp[70][70][70] # w(20, 20, 20)\n",
        "\n",
        "      elif a < b and b < c: #then w(a, b, c) returns:               \n",
        "          dp[a][b][c] = dp[a][b][c-1] + dp[a][b-1][c-1] - dp[a][b-1][c]   # w(a, b, c-1) + w(a, b-1, c-1) - w(a, b-1, c)\n",
        "\n",
        "      else:\n",
        "          dp[a][b][c] = dp[a-1][b][c] + dp[a-1][b-1][c] + dp[a-1][b][c-1] - dp[a-1][b-1][c-1]    #w(a-1, b, c) + w(a-1, b-1, c) + w(a-1, b, c-1) - w(a-1, b-1, c-1)\n",
        "  \n",
        "  # 함수와 리스트의 차이지 않을까 (왜 배운 내용이 적용이 안되는지에 대한 이유가)\n",
        "  \n",
        "      \n",
        "      "
      ],
      "metadata": {
        "id": "o-XsJUp2ulyE"
      },
      "execution_count": 13,
      "outputs": []
    },
    {
      "cell_type": "code",
      "source": [
        "#시도 2 elif로 했던 것을 그대로 if로 납둬보자\n",
        "dp = [[[0 for col in range(100)] for row in range(100)] for depth in range(100)] # DP table 선언 및 초기화 (3차원 리스트)\n",
        "\n",
        "for a in range(100):\n",
        "  for b in range(100):\n",
        "    for c in range(100):\n",
        "      a = 0\n",
        "      if a <= 50 or b <= 50 or c <= 50: #then w(a, b, c) returns:  # 바닥조건??? 실제 인덱스의 범위는 [0,100], a,b,c의 범위는 [-50,50] 따라서 실제 인덱스가 a<=50 or b<=50 or c<=50인 곳은 다 1넣어야 됨\n",
        "          dp[a][b][c] = 1\n",
        "          a += 1\n",
        "          #continue           # 아래 코드를 실행하지 않고 건너뜀\n",
        "\n",
        "      if a > 20 or b > 20 or c > 20: #then w(a, b, c) returns:   # a > 70 or b > 70 or c > 70 가 성립 되는 위치의 원소는 70,70,70 인덱스 값으로 채워 \n",
        "          dp[a][b][c] = dp[70][70][70] # w(20, 20, 20)\n",
        "          a += 1\n",
        "          #continue           # 아래 코드를 실행하지 않고 건너뜀\n",
        "\n",
        "      if a < b and b < c: #then w(a, b, c) returns:               \n",
        "          dp[a][b][c] = dp[a][b][c-1] + dp[a][b-1][c-1] - dp[a][b-1][c]   # w(a, b, c-1) + w(a, b-1, c-1) - w(a, b-1, c)\n",
        "          a += 1\n",
        "          #continue           # 아래 코드를 실행하지 않고 건너뜀\n",
        "      \n",
        "      if a == 0:\n",
        "        dp[a][b][c] = dp[a-1][b][c] + dp[a-1][b-1][c] + dp[a-1][b][c-1] - dp[a-1][b-1][c-1]    #w(a-1, b, c) + w(a-1, b-1, c) + w(a-1, b, c-1) - w(a-1, b-1, c-1)\n",
        "  \n",
        "  # 함수와 리스트의 차이지 않을까 (왜 배운 내용이 적용이 안되는지에 대한 이유가)\n",
        "  \n",
        "      "
      ],
      "metadata": {
        "id": "wBx4Zw3x08vA"
      },
      "execution_count": 28,
      "outputs": []
    },
    {
      "cell_type": "code",
      "source": [
        "print(dp[51][51][51])"
      ],
      "metadata": {
        "colab": {
          "base_uri": "https://localhost:8080/"
        },
        "id": "6LhiZHSzwkeW",
        "outputId": "9c2e17af-1a58-483b-c8aa-c986f7a3143d"
      },
      "execution_count": 29,
      "outputs": [
        {
          "output_type": "stream",
          "name": "stdout",
          "text": [
            "0\n"
          ]
        }
      ]
    },
    {
      "cell_type": "code",
      "source": [
        "dp_n = np.array(dp)"
      ],
      "metadata": {
        "id": "cV5zfzDsvjCP"
      },
      "execution_count": 30,
      "outputs": []
    },
    {
      "cell_type": "code",
      "source": [
        "dp_n"
      ],
      "metadata": {
        "colab": {
          "base_uri": "https://localhost:8080/"
        },
        "id": "Yc0kyxY6v7N3",
        "outputId": "86ebef55-d576-4b3d-ce8a-6a6ff2bf48bd"
      },
      "execution_count": 31,
      "outputs": [
        {
          "output_type": "execute_result",
          "data": {
            "text/plain": [
              "array([[[1, 1, 1, ..., 1, 1, 1],\n",
              "        [1, 1, 1, ..., 1, 1, 1],\n",
              "        [1, 1, 1, ..., 1, 1, 1],\n",
              "        ...,\n",
              "        [1, 1, 1, ..., 1, 1, 1],\n",
              "        [1, 1, 1, ..., 1, 1, 1],\n",
              "        [1, 1, 1, ..., 1, 1, 1]],\n",
              "\n",
              "       [[0, 0, 0, ..., 0, 0, 0],\n",
              "        [0, 0, 0, ..., 0, 0, 0],\n",
              "        [0, 0, 0, ..., 0, 0, 0],\n",
              "        ...,\n",
              "        [0, 0, 0, ..., 0, 0, 0],\n",
              "        [0, 0, 0, ..., 0, 0, 0],\n",
              "        [0, 0, 0, ..., 0, 0, 0]],\n",
              "\n",
              "       [[0, 0, 0, ..., 0, 0, 0],\n",
              "        [0, 0, 0, ..., 0, 0, 0],\n",
              "        [0, 0, 0, ..., 0, 0, 0],\n",
              "        ...,\n",
              "        [0, 0, 0, ..., 0, 0, 0],\n",
              "        [0, 0, 0, ..., 0, 0, 0],\n",
              "        [0, 0, 0, ..., 0, 0, 0]],\n",
              "\n",
              "       ...,\n",
              "\n",
              "       [[0, 0, 0, ..., 0, 0, 0],\n",
              "        [0, 0, 0, ..., 0, 0, 0],\n",
              "        [0, 0, 0, ..., 0, 0, 0],\n",
              "        ...,\n",
              "        [0, 0, 0, ..., 0, 0, 0],\n",
              "        [0, 0, 0, ..., 0, 0, 0],\n",
              "        [0, 0, 0, ..., 0, 0, 0]],\n",
              "\n",
              "       [[0, 0, 0, ..., 0, 0, 0],\n",
              "        [0, 0, 0, ..., 0, 0, 0],\n",
              "        [0, 0, 0, ..., 0, 0, 0],\n",
              "        ...,\n",
              "        [0, 0, 0, ..., 0, 0, 0],\n",
              "        [0, 0, 0, ..., 0, 0, 0],\n",
              "        [0, 0, 0, ..., 0, 0, 0]],\n",
              "\n",
              "       [[0, 0, 0, ..., 0, 0, 0],\n",
              "        [0, 0, 0, ..., 0, 0, 0],\n",
              "        [0, 0, 0, ..., 0, 0, 0],\n",
              "        ...,\n",
              "        [0, 0, 0, ..., 0, 0, 0],\n",
              "        [0, 0, 0, ..., 0, 0, 0],\n",
              "        [0, 0, 0, ..., 0, 0, 0]]])"
            ]
          },
          "metadata": {},
          "execution_count": 31
        }
      ]
    }
  ]
}