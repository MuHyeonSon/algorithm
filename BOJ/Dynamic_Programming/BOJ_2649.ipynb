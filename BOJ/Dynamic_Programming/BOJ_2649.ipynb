{
  "nbformat": 4,
  "nbformat_minor": 0,
  "metadata": {
    "colab": {
      "provenance": [],
      "authorship_tag": "ABX9TyNyqhfkhhcgzWV83XFaVBvI",
      "include_colab_link": true
    },
    "kernelspec": {
      "name": "python3",
      "display_name": "Python 3"
    },
    "language_info": {
      "name": "python"
    }
  },
  "cells": [
    {
      "cell_type": "markdown",
      "metadata": {
        "id": "view-in-github",
        "colab_type": "text"
      },
      "source": [
        "<a href=\"https://colab.research.google.com/github/MuHyeonSon/algorithm/blob/main/BOJ/Dynamic_Programming/BOJ_2649.ipynb\" target=\"_parent\"><img src=\"https://colab.research.google.com/assets/colab-badge.svg\" alt=\"Open In Colab\"/></a>"
      ]
    },
    {
      "cell_type": "code",
      "source": [
        "import numpy as np"
      ],
      "metadata": {
        "id": "mmxQ7Bohv2kP"
      },
      "execution_count": 6,
      "outputs": []
    },
    {
      "cell_type": "code",
      "execution_count": null,
      "metadata": {
        "colab": {
          "base_uri": "https://localhost:8080/"
        },
        "id": "K2j6sCl_Fnqc",
        "outputId": "878835c9-187f-4fee-bade-a8106e865d53"
      },
      "outputs": [
        {
          "output_type": "stream",
          "name": "stdout",
          "text": [
            "5\n",
            "5 3\n"
          ]
        }
      ],
      "source": [
        "#boj 24416 손무현\n",
        "\"\"\"\n",
        "fib(n) {\n",
        "    if (n = 1 or n = 2)\n",
        "    then return 1;  # 코드1\n",
        "    else return (fib(n - 1) + fib(n - 2));\n",
        "}\n",
        "피보나치 수 동적 프로그래밍 의사 코드는 다음과 같다.\n",
        "\n",
        "fibonacci(n) {\n",
        "    f[1] <- f[2] <- 1;\n",
        "    for i <- 3 to n\n",
        "        f[i] <- f[i - 1] + f[i - 2];  # 코드2\n",
        "    return f[n];\n",
        "}\n",
        "입력\n",
        "첫째 줄에 n(5 ≤ n ≤ 40)이 주어진다.\n",
        "\n",
        "출력\n",
        "코드1 코드2 실행 횟수를 한 줄에 출력한다.\n",
        "\n",
        "예제 입력 1 \n",
        "5\n",
        "예제 출력 1 \n",
        "5 3\n",
        "\"\"\"\n",
        "\n",
        "count_code1 = 0\n",
        "count_code2 = 0\n",
        "\n",
        "def fibonacci_recursive(n): # 재귀호출을 이용한 피보나치 수 계산 함수\n",
        "  global count_code1\n",
        "\n",
        "  if (n == 1) or (n == 2):\n",
        "    count_code1 += 1 \n",
        "    return 1 #코드1\n",
        "  else : \n",
        "    return (fibonacci_recursive(n-1) + fibonacci_recursive(n-2))\n",
        "\n",
        "def fibonacci_DP(n): # Dynamic programming을 이용한 피보나치 수 계산\n",
        "  global count_code2\n",
        "  global f\n",
        "\n",
        "  for i in range(2,n):\n",
        "    f[i] = f[i - 1] + f[i - 2]  # 코드2\n",
        "    count_code2 += 1\n",
        "  \n",
        "#main\n",
        "\n",
        "n = int(input())\n",
        "\n",
        "f = [1]*n\n",
        "\n",
        "fibonacci_recursive(n) # 재귀함수를 이용한 피보나치 수 계산\n",
        "fibonacci_DP(n) # Dynamic programming을 이용한 피보나치 수 계산\n",
        "\n",
        "print(count_code1,count_code2) # 코드1과 코드2 실행 횟수 출력"
      ]
    },
    {
      "cell_type": "code",
      "source": [
        "#boj 9184 손무현\n",
        "#재귀함수 호출 방식의 알고리즘을 DP 방식의 알고리즘으로 바꾸는게 문제인 것 같은데\n",
        "#어떻게 접근해야할까? \n",
        "\"\"\"\n",
        "DP\n",
        "1, 큰 문제 -> 작은 문제 분할\n",
        "2. 큰 문제의 해 ->작은 해의 점화식\n",
        "3. DP 테이블 정의\n",
        "4. 정확성 증명\n",
        "\"\"\"\n",
        "# 3차원 리스트 생성??...  -> 맞을거야 LCS 계산문제를 떠올려보면 LCS table 채우기 위해 이중 for문 돌렸었잖아? 이거는 3중 for문 돌려서 풀어보자!!!\n",
        "# w라는 함수는 세가지 매개변수의 조건에 따라 어떠한 출력 값을 계산하여 return 한다.\n",
        "# 이것을 어떻게 작은 문제로 분할 할 수 있을까??\n",
        "# w(a,b,c) 얘에 대해 어떠한 공식에 의해 미리 계산된 DP테이블이 있어야 되지 않을까? 그리고 그 DP테이블은 for문을 통해 계속해서 채워지는 형태 ???  \n",
        "\"\"\"\n",
        "다음과 같은 재귀함수 w(a, b, c)가 있다.\n",
        "\n",
        "\n",
        "if a <= 0 or b <= 0 or c <= 0, then w(a, b, c) returns:   # 바닥조건??? 실제 인덱스의 범위는 [0,100], a,b,c의 범위는 [-50,50] 따라서 실제 인덱스가 a<=50 or b<=50 or c<=50인 곳은 다 1넣어야 됨\n",
        "    1\n",
        "\n",
        "elif a > 20 or b > 20 or c > 20, then w(a, b, c) returns:   # a > 70 or b > 70 or c > 70 가 성립 되는 위치의 원소는 70,70,70 인덱스 값으로 채워 \n",
        "    w(20, 20, 20)\n",
        "\n",
        "elif a < b and b < c, then w(a, b, c) returns:              # \n",
        "    w(a, b, c-1) + w(a, b-1, c-1) - w(a, b-1, c)\n",
        "\n",
        "otherwise it returns:\n",
        "    w(a-1, b, c) + w(a-1, b-1, c) + w(a-1, b, c-1) - w(a-1, b-1, c-1)\n",
        "\n",
        "\n",
        "위의 함수를 구현하는 것은 매우 쉽다. 하지만, 그대로 구현하면 값을 구하는데 매우 오랜 시간이 걸린다. (예를 들면, a=15, b=15, c=15)\n",
        "\n",
        "#### 왜 더 오래 걸려? 즉, 왜 재귀호출 방법이 오래 걸릴까? : 솔루션들을 계산할 때 이미 이전에 계산 했던 결과를 사용하지 않고 다시 계산하기 때문이다\n",
        "#### 하지만 DP의 경우 내가 앞으로 필요한 솔루션들의 값들을 for문을 돌면서 순서에 맞게 미리 리스트에 저장해놓고 나중에 더 큰 문제의 솔루션을 구하기 위해 작은 문제의 솔루션이 필요하면\n",
        "그 리스트에 가서 그 값을 가져와서 조합하면 되기 때문에 더 빠른 것이다.\n",
        "\n",
        "DP와 DC 의 차이는 : \n",
        "\n",
        "a, b, c가 주어졌을 때, w(a, b, c)를 출력하는 프로그램을 작성하시오.\n",
        "\n",
        "입력\n",
        "입력은 세 정수 a, b, c로 이루어져 있으며, 한 줄에 하나씩 주어진다. 입력의 마지막은 -1 -1 -1로 나타내며, 세 정수가 모두 -1인 경우는 입력의 마지막을 제외하면 없다.\n",
        "\n",
        "출력\n",
        "입력으로 주어진 각각의 a, b, c에 대해서, w(a, b, c)를 출력한다.\n",
        "\n",
        "제한\n",
        "-50 ≤ a, b, c ≤ 50\n",
        "\n",
        "예제 입력 1 \n",
        "1 1 1\n",
        "2 2 2\n",
        "10 4 6\n",
        "50 50 50\n",
        "-1 7 18\n",
        "-1 -1 -1\n",
        "예제 출력 1 \n",
        "w(1, 1, 1) = 2\n",
        "w(2, 2, 2) = 4\n",
        "w(10, 4, 6) = 523\n",
        "w(50, 50, 50) = 1048576\n",
        "w(-1, 7, 18) = 1\n",
        "\"\"\"\n",
        "\n",
        "\n",
        "\n",
        "def w(a,b,c):\n",
        "  \n",
        "input_list = [1,1,1]\n",
        "while(input_list[0] == -1 and input_list[1] == -1 and input_list[2] == -1):\n",
        "  global input_list\n",
        "  input_list = list(map(int,input().split()))\n",
        "\n"
      ],
      "metadata": {
        "id": "9F5GyBe3JkDx"
      },
      "execution_count": null,
      "outputs": []
    },
    {
      "cell_type": "code",
      "source": [
        "a,b,c = 0\n",
        "\n",
        "while(True):\n",
        "  a,b,c = (map(int,input().split()))\n",
        "  if (a != -1) and (b != -1) and (c != -1) :\n",
        "    break\n",
        "  else:\n",
        "    if a <= 0 or b <= 0 or c <= 0, then w(a, b, c) returns:\n",
        "      1\n",
        "    \n",
        "    if a > 20 or b > 20 or c > 20, then w(a, b, c) returns:\n",
        "      w(20, 20, 20)\n",
        "\n",
        "    if a < b and b < c, then w(a, b, c) returns:\n",
        "      w(a, b, c-1) + w(a, b-1, c-1) - w(a, b-1, c)\n",
        "\n",
        "\n",
        "print(input_list)"
      ],
      "metadata": {
        "colab": {
          "base_uri": "https://localhost:8080/"
        },
        "id": "nx098mdQJow0",
        "outputId": "4bad7105-8011-43e2-e917-9dee5a648f7b"
      },
      "execution_count": null,
      "outputs": [
        {
          "output_type": "stream",
          "name": "stdout",
          "text": [
            "-1 -1 -1\n",
            "[-1, -1, -1]\n"
          ]
        }
      ]
    },
    {
      "cell_type": "code",
      "source": [
        "dp = [[[]*100]*100]*100\n"
      ],
      "metadata": {
        "id": "GOz608oZuX0T"
      },
      "execution_count": null,
      "outputs": []
    },
    {
      "cell_type": "code",
      "source": [
        "dp = [[[0 for col in range(100)] for row in range(100)] for depth in range(100)] # DP table 선언 및 초기화 (3차원 리스트)\n",
        "\n",
        "for a in range(100):\n",
        "  for b in range(100):\n",
        "    for c in range(100):\n",
        "      if a <= 50 or b <= 50 or c <= 50: #then w(a, b, c) returns:  # 바닥조건??? 실제 인덱스의 범위는 [0,100], a,b,c의 범위는 [-50,50] 따라서 실제 인덱스가 a<=50 or b<=50 or c<=50인 곳은 다 1넣어야 됨\n",
        "          dp[a][b][c] = 1\n",
        "\n",
        "      elif a > 20 or b > 20 or c > 20: #then w(a, b, c) returns:   # a > 70 or b > 70 or c > 70 가 성립 되는 위치의 원소는 70,70,70 인덱스 값으로 채워 \n",
        "          dp[a][b][c] = dp[70][70][70] # w(20, 20, 20)\n",
        "\n",
        "      elif a < b and b < c: #then w(a, b, c) returns:               \n",
        "          dp[a][b][c] = dp[a][b][c-1] + dp[a][b-1][c-1] - dp[a][b-1][c]   # w(a, b, c-1) + w(a, b-1, c-1) - w(a, b-1, c)\n",
        "\n",
        "      else:\n",
        "          dp[a][b][c] = dp[a-1][b][c] + dp[a-1][b-1][c] + dp[a-1][b][c-1] - dp[a-1][b-1][c-1]    #w(a-1, b, c) + w(a-1, b-1, c) + w(a-1, b, c-1) - w(a-1, b-1, c-1)\n",
        "      \n",
        "      "
      ],
      "metadata": {
        "id": "o-XsJUp2ulyE"
      },
      "execution_count": 13,
      "outputs": []
    },
    {
      "cell_type": "code",
      "source": [
        "print(dp[40:60][40:60][40:60])"
      ],
      "metadata": {
        "colab": {
          "base_uri": "https://localhost:8080/"
        },
        "id": "6LhiZHSzwkeW",
        "outputId": "1a94116b-ab52-4546-fe2d-2e93a3f9a4ea"
      },
      "execution_count": 25,
      "outputs": [
        {
          "output_type": "stream",
          "name": "stdout",
          "text": [
            "[]\n"
          ]
        }
      ]
    },
    {
      "cell_type": "code",
      "source": [
        "dp_n = np.array(dp)"
      ],
      "metadata": {
        "id": "cV5zfzDsvjCP"
      },
      "execution_count": 14,
      "outputs": []
    },
    {
      "cell_type": "code",
      "source": [
        "dp_n"
      ],
      "metadata": {
        "colab": {
          "base_uri": "https://localhost:8080/"
        },
        "id": "Yc0kyxY6v7N3",
        "outputId": "d09ffa40-b68e-420f-d525-9ce2ab2ae55a"
      },
      "execution_count": 26,
      "outputs": [
        {
          "output_type": "execute_result",
          "data": {
            "text/plain": [
              "array([[[1, 1, 1, ..., 1, 1, 1],\n",
              "        [1, 1, 1, ..., 1, 1, 1],\n",
              "        [1, 1, 1, ..., 1, 1, 1],\n",
              "        ...,\n",
              "        [1, 1, 1, ..., 1, 1, 1],\n",
              "        [1, 1, 1, ..., 1, 1, 1],\n",
              "        [1, 1, 1, ..., 1, 1, 1]],\n",
              "\n",
              "       [[1, 1, 1, ..., 1, 1, 1],\n",
              "        [1, 1, 1, ..., 1, 1, 1],\n",
              "        [1, 1, 1, ..., 1, 1, 1],\n",
              "        ...,\n",
              "        [1, 1, 1, ..., 1, 1, 1],\n",
              "        [1, 1, 1, ..., 1, 1, 1],\n",
              "        [1, 1, 1, ..., 1, 1, 1]],\n",
              "\n",
              "       [[1, 1, 1, ..., 1, 1, 1],\n",
              "        [1, 1, 1, ..., 1, 1, 1],\n",
              "        [1, 1, 1, ..., 1, 1, 1],\n",
              "        ...,\n",
              "        [1, 1, 1, ..., 1, 1, 1],\n",
              "        [1, 1, 1, ..., 1, 1, 1],\n",
              "        [1, 1, 1, ..., 1, 1, 1]],\n",
              "\n",
              "       ...,\n",
              "\n",
              "       [[1, 1, 1, ..., 1, 1, 1],\n",
              "        [1, 1, 1, ..., 1, 1, 1],\n",
              "        [1, 1, 1, ..., 1, 1, 1],\n",
              "        ...,\n",
              "        [1, 1, 1, ..., 0, 0, 0],\n",
              "        [1, 1, 1, ..., 0, 0, 0],\n",
              "        [1, 1, 1, ..., 0, 0, 0]],\n",
              "\n",
              "       [[1, 1, 1, ..., 1, 1, 1],\n",
              "        [1, 1, 1, ..., 1, 1, 1],\n",
              "        [1, 1, 1, ..., 1, 1, 1],\n",
              "        ...,\n",
              "        [1, 1, 1, ..., 0, 0, 0],\n",
              "        [1, 1, 1, ..., 0, 0, 0],\n",
              "        [1, 1, 1, ..., 0, 0, 0]],\n",
              "\n",
              "       [[1, 1, 1, ..., 1, 1, 1],\n",
              "        [1, 1, 1, ..., 1, 1, 1],\n",
              "        [1, 1, 1, ..., 1, 1, 1],\n",
              "        ...,\n",
              "        [1, 1, 1, ..., 0, 0, 0],\n",
              "        [1, 1, 1, ..., 0, 0, 0],\n",
              "        [1, 1, 1, ..., 0, 0, 0]]])"
            ]
          },
          "metadata": {},
          "execution_count": 26
        }
      ]
    }
  ]
}