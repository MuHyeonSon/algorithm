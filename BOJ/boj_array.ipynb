{
  "nbformat": 4,
  "nbformat_minor": 0,
  "metadata": {
    "colab": {
      "name": "boj_array.ipynb",
      "provenance": [],
      "authorship_tag": "ABX9TyOv8KjvhWV0jK8CYmErrym8",
      "include_colab_link": true
    },
    "kernelspec": {
      "name": "python3",
      "display_name": "Python 3"
    },
    "language_info": {
      "name": "python"
    }
  },
  "cells": [
    {
      "cell_type": "markdown",
      "metadata": {
        "id": "view-in-github",
        "colab_type": "text"
      },
      "source": [
        "<a href=\"https://colab.research.google.com/github/MuHyeonSon/algorithm/blob/main/BOJ/boj_array.ipynb\" target=\"_parent\"><img src=\"https://colab.research.google.com/assets/colab-badge.svg\" alt=\"Open In Colab\"/></a>"
      ]
    },
    {
      "cell_type": "code",
      "source": [
        "#boj 10818\n",
        "#문제\n",
        "#N개의 정수가 주어진다. 이때, 최솟값과 최댓값을 구하는 프로그램을 작성하시오.\n",
        "#입력\n",
        "#첫째 줄에 정수의 개수 N (1 ≤ N ≤ 1,000,000)이 주어진다. 둘째 줄에는 N개의 정수를 공백으로 구분해서 주어진다.\n",
        "#모든 정수는 -1,000,000보다 크거나 같고, 1,000,000보다 작거나 같은 정수이다.\n",
        "#출력\n",
        "#첫째 줄에 주어진 정수 N개의 최솟값과 최댓값을 공백으로 구분해 출력한다.\n",
        "#예제 입력 1 \n",
        "#5\n",
        "#20 10 35 30 7\n",
        "#예제 출력 1 \n",
        "#7 35\n",
        "n = input()\n",
        "a = list(map(int,input().split()))\n",
        "a.sort()\n",
        "print(f'{a[0]} {a[-1]}')"
      ],
      "metadata": {
        "colab": {
          "base_uri": "https://localhost:8080/"
        },
        "id": "byzO4FXggR5-",
        "outputId": "be51f142-cfa3-419b-df34-3b53f40d4ead"
      },
      "execution_count": 2,
      "outputs": [
        {
          "output_type": "stream",
          "name": "stdout",
          "text": [
            "5\n",
            "20 10 35 30 7\n",
            "7 35\n"
          ]
        }
      ]
    }
  ]
}