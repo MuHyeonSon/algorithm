{
  "nbformat": 4,
  "nbformat_minor": 0,
  "metadata": {
    "colab": {
      "name": "boj_basic_math.ipynb",
      "provenance": [],
      "authorship_tag": "ABX9TyNmIrq7DS/2FCov/7Hz0vYU",
      "include_colab_link": true
    },
    "kernelspec": {
      "name": "python3",
      "display_name": "Python 3"
    },
    "language_info": {
      "name": "python"
    }
  },
  "cells": [
    {
      "cell_type": "markdown",
      "metadata": {
        "id": "view-in-github",
        "colab_type": "text"
      },
      "source": [
        "<a href=\"https://colab.research.google.com/github/MuHyeonSon/algorithm/blob/main/BOJ/boj_basic_math.ipynb\" target=\"_parent\"><img src=\"https://colab.research.google.com/assets/colab-badge.svg\" alt=\"Open In Colab\"/></a>"
      ]
    },
    {
      "cell_type": "code",
      "source": [
        "# boj 1712\n",
        "# 월드전자는 노트북을 제조하고 판매하는 회사이다.\n",
        "# 노트북 판매 대수에 상관없이 매년 임대료, 재산세, 보험료, 급여 등 A만원의 고정 비용이 들며,\n",
        "# 한 대의 노트북을 생산하는 데에는 재료비와 인건비 등 총 B만원의 가변 비용이 든다고 한다.\n",
        "\n",
        "#예를 들어 A=1,000, B=70이라고 하자. 이 경우 노트북을 한 대 생산하는 데는 총 1,070만원이 들며, 열 대 생산하는 데는 총 1,700만원이 든다.\n",
        "\n",
        "#노트북 가격이 C만원으로 책정되었다고 한다. \n",
        "#일반적으로 생산 대수를 늘려 가다 보면 어느 순간 총 수입(판매비용)이 총 비용(=고정비용+가변비용)보다 많아지게 된다. \n",
        "#최초로 총 수입이 총 비용보다 많아져 이익이 발생하는 지점을 손익분기점(BREAK-EVEN POINT)이라고 한다.\n",
        "\n",
        "#A, B, C가 주어졌을 때, 손익분기점을 구하는 프로그램을 작성하시오.\n",
        "\n",
        "#입력\n",
        "#첫째 줄에 A, B, C가 빈 칸을 사이에 두고 순서대로 주어진다. A, B, C는 21억 이하의 자연수이다.\n",
        "\n",
        "#출력\n",
        "#첫 번째 줄에 손익분기점 즉 최초로 이익이 발생하는 판매량을 출력한다. 손익분기점이 존재하지 않으면 -1을 출력한다.\n",
        "\n",
        "#예제 입력 1 \n",
        "#1000 70 170\n",
        "#예제 출력 1 \n",
        "#11\n",
        "\n",
        "\n",
        "A,B,C = map(int,input().split())\n",
        "\n",
        "if B >= C :\n",
        "  print(-1)\n",
        "else:\n",
        "  print(A//(C-B)+1)"
      ],
      "metadata": {
        "colab": {
          "base_uri": "https://localhost:8080/"
        },
        "id": "Md4bZWyH9ClK",
        "outputId": "30ce2cd5-7eef-4217-e83f-f2efdcb8f6df"
      },
      "execution_count": null,
      "outputs": [
        {
          "output_type": "stream",
          "name": "stdout",
          "text": [
            "1000 70 170\n",
            "11\n"
          ]
        }
      ]
    },
    {
      "cell_type": "code",
      "source": [
        "#boj 2292\n",
        "\n",
        "#위의 그림과 같이 육각형으로 이루어진 벌집이 있다.\n",
        "# 그림에서 보는 바와 같이 중앙의 방 1부터 시작해서 이웃하는 방에 돌아가면서 1씩 증가하는 번호를 주소로 매길 수 있다.\n",
        "# 숫자 N이 주어졌을 때, 벌집의 중앙 1에서 N번 방까지 최소 개수의 방을 지나서 갈 때\n",
        "# 몇 개의 방을 지나가는지(시작과 끝을 포함하여)를 계산하는 프로그램을 작성하시오. 예를 들면, 13까지는 3개, 58까지는 5개를 지난다.\n",
        "\n",
        "#입력\n",
        "#첫째 줄에 N(1 ≤ N ≤ 1,000,000,000)이 주어진다.\n",
        "#출력\n",
        "#입력으로 주어진 방까지 최소 개수의 방을 지나서 갈 때 몇 개의 방을 지나는지 출력한다.\n",
        "#예제 입력 1 \n",
        "#13\n",
        "#예제 출력 1\n",
        "#3\n",
        "\n",
        "N = int(input())\n",
        "\n",
        "c = 1\n",
        "c_six = 6\n",
        "cnt = 1\n",
        "\n",
        "while N>cnt :\n",
        "  c += 1\n",
        "  cnt += c_six\n",
        "  c_six += 6\n",
        "\n",
        "print(c) \n"
      ],
      "metadata": {
        "colab": {
          "base_uri": "https://localhost:8080/"
        },
        "id": "tL9KKA5Rq7XZ",
        "outputId": "e37d28d6-0bc6-4916-a2cd-686cb1386450"
      },
      "execution_count": 7,
      "outputs": [
        {
          "output_type": "stream",
          "name": "stdout",
          "text": [
            "13\n",
            "3\n"
          ]
        }
      ]
    },
    {
      "cell_type": "code",
      "source": [
        "#boj 1193\n",
        "\n",
        "#무한히 큰 배열에 다음과 같이 분수들이 적혀있다.\n",
        "\n",
        "# 1/1\t1/2\t1/3\t1/4\t1/5\t…   1 2\n",
        "# 2/1\t2/2\t2/3\t2/4\t…\t…    3 5\n",
        "# 3/1\t3/2\t3/3\t…\t…\t…     4\n",
        "# 4/1\t4/2\t…\t…\t…\t…      \n",
        "# 5/1\t…\t…\t…\t…\t…\n",
        "# …\t…\t…\t…\t…\t…\n",
        "# 이와 같이 나열된 분수들을 1/1 → 1/2 → 2/1 → 3/1 → 2/2 → … 과 같은 지그재그 순서로 차례대로 1번, 2번, 3번, 4번, 5번, … 분수라고 하자.\n",
        "\n",
        "# X가 주어졌을 때, X번째 분수를 구하는 프로그램을 작성하시오.\n",
        "\n",
        "# 입력\n",
        "# 첫째 줄에 X(1 ≤ X ≤ 10,000,000)가 주어진다.\n",
        "\n",
        "# 출력\n",
        "# 첫째 줄에 분수를 출력한다.\n",
        "\n",
        "# 예제 입력 1 \n",
        "# 1\n",
        "# 예제 출력 1 \n",
        "# 1/1\n",
        "\n",
        "X = int(input())\n",
        "n = 0  # i번째 대각선까지의 총 분수의 개수\n",
        "i = 0  # 대각선이 몇 번째 대각선인지에 대한 정보를 할당할 변수 (i번째 대각선)\n",
        "while X > n: \n",
        "  i += 1\n",
        "  n += i\n",
        "\n",
        "if i%2 == 0:      # 짝수 번째 대각선이면\n",
        "  a = (X + i) - n\n",
        "  b = (n - X) + 1 \n",
        "else:             # 홀수 번째 대각선이면\n",
        "  a = (n - X) + 1 \n",
        "  b = (X + i) - n \n",
        "\n",
        "print(f'{a}/{b}')"
      ],
      "metadata": {
        "colab": {
          "base_uri": "https://localhost:8080/"
        },
        "id": "mxfWYAvf8Q1s",
        "outputId": "b6c31227-13c8-4e11-9296-827dd1dca0e4"
      },
      "execution_count": 2,
      "outputs": [
        {
          "output_type": "stream",
          "name": "stdout",
          "text": [
            "8\n",
            "2/3\n"
          ]
        }
      ]
    },
    {
      "cell_type": "code",
      "source": [
        "#boj 2869\n",
        "#문제\n",
        "#땅 위에 달팽이가 있다. 이 달팽이는 높이가 V미터인 나무 막대를 올라갈 것이다.\n",
        "\n",
        "#달팽이는 낮에 A미터 올라갈 수 있다. 하지만, 밤에 잠을 자는 동안 B미터 미끄러진다. 또, 정상에 올라간 후에는 미끄러지지 않는다.\n",
        "\n",
        "#달팽이가 나무 막대를 모두 올라가려면, 며칠이 걸리는지 구하는 프로그램을 작성하시오.\n",
        "\n",
        "#입력\n",
        "#첫째 줄에 세 정수 A, B, V가 공백으로 구분되어서 주어진다. (1 ≤ B < A ≤ V ≤ 1,000,000,000)\n",
        "\n",
        "#출력\n",
        "#첫째 줄에 달팽이가 나무 막대를 모두 올라가는데 며칠이 걸리는지 출력한다.\n",
        "\n",
        "#예제 입력 1 \n",
        "#2 1 5\n",
        "#예제 출력 1 \n",
        "#4\n",
        "\n",
        "A, B, V = map(int,input().split())\n",
        "\n",
        "#V = day(A - B)\n",
        "day = V/(A - B)\n",
        "print(day)"
      ],
      "metadata": {
        "colab": {
          "base_uri": "https://localhost:8080/"
        },
        "id": "PG-hYHQxhGpX",
        "outputId": "0222eb09-0810-4992-c9f9-809e4a784cd3"
      },
      "execution_count": 4,
      "outputs": [
        {
          "output_type": "stream",
          "name": "stdout",
          "text": [
            "2 1 5\n",
            "5.0\n"
          ]
        }
      ]
    }
  ]
}