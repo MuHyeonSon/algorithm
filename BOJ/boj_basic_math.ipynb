{
  "nbformat": 4,
  "nbformat_minor": 0,
  "metadata": {
    "colab": {
      "name": "boj_basic_math.ipynb",
      "provenance": [],
      "authorship_tag": "ABX9TyONKio0vr74min9GP6WbvXd",
      "include_colab_link": true
    },
    "kernelspec": {
      "name": "python3",
      "display_name": "Python 3"
    },
    "language_info": {
      "name": "python"
    }
  },
  "cells": [
    {
      "cell_type": "markdown",
      "metadata": {
        "id": "view-in-github",
        "colab_type": "text"
      },
      "source": [
        "<a href=\"https://colab.research.google.com/github/MuHyeonSon/algorithm/blob/main/BOJ/boj_basic_math.ipynb\" target=\"_parent\"><img src=\"https://colab.research.google.com/assets/colab-badge.svg\" alt=\"Open In Colab\"/></a>"
      ]
    },
    {
      "cell_type": "code",
      "source": [
        "# boj 1712\n",
        "# 월드전자는 노트북을 제조하고 판매하는 회사이다.\n",
        "# 노트북 판매 대수에 상관없이 매년 임대료, 재산세, 보험료, 급여 등 A만원의 고정 비용이 들며,\n",
        "# 한 대의 노트북을 생산하는 데에는 재료비와 인건비 등 총 B만원의 가변 비용이 든다고 한다.\n",
        "\n",
        "#예를 들어 A=1,000, B=70이라고 하자. 이 경우 노트북을 한 대 생산하는 데는 총 1,070만원이 들며, 열 대 생산하는 데는 총 1,700만원이 든다.\n",
        "\n",
        "#노트북 가격이 C만원으로 책정되었다고 한다. \n",
        "#일반적으로 생산 대수를 늘려 가다 보면 어느 순간 총 수입(판매비용)이 총 비용(=고정비용+가변비용)보다 많아지게 된다. \n",
        "#최초로 총 수입이 총 비용보다 많아져 이익이 발생하는 지점을 손익분기점(BREAK-EVEN POINT)이라고 한다.\n",
        "\n",
        "#A, B, C가 주어졌을 때, 손익분기점을 구하는 프로그램을 작성하시오.\n",
        "\n",
        "#입력\n",
        "#첫째 줄에 A, B, C가 빈 칸을 사이에 두고 순서대로 주어진다. A, B, C는 21억 이하의 자연수이다.\n",
        "\n",
        "#출력\n",
        "#첫 번째 줄에 손익분기점 즉 최초로 이익이 발생하는 판매량을 출력한다. 손익분기점이 존재하지 않으면 -1을 출력한다.\n",
        "\n",
        "#예제 입력 1 \n",
        "#1000 70 170\n",
        "#예제 출력 1 \n",
        "#11\n",
        "\n",
        "\n",
        "A,B,C = map(int,input().split())\n",
        "\n",
        "if B >= C :\n",
        "  print(-1)\n",
        "else:\n",
        "  print(A//(C-B)+1)"
      ],
      "metadata": {
        "colab": {
          "base_uri": "https://localhost:8080/"
        },
        "id": "Md4bZWyH9ClK",
        "outputId": "30ce2cd5-7eef-4217-e83f-f2efdcb8f6df"
      },
      "execution_count": null,
      "outputs": [
        {
          "output_type": "stream",
          "name": "stdout",
          "text": [
            "1000 70 170\n",
            "11\n"
          ]
        }
      ]
    },
    {
      "cell_type": "code",
      "source": [
        "#boj 2292\n",
        "\n",
        "#위의 그림과 같이 육각형으로 이루어진 벌집이 있다.\n",
        "# 그림에서 보는 바와 같이 중앙의 방 1부터 시작해서 이웃하는 방에 돌아가면서 1씩 증가하는 번호를 주소로 매길 수 있다.\n",
        "# 숫자 N이 주어졌을 때, 벌집의 중앙 1에서 N번 방까지 최소 개수의 방을 지나서 갈 때\n",
        "# 몇 개의 방을 지나가는지(시작과 끝을 포함하여)를 계산하는 프로그램을 작성하시오. 예를 들면, 13까지는 3개, 58까지는 5개를 지난다.\n",
        "\n",
        "#입력\n",
        "#첫째 줄에 N(1 ≤ N ≤ 1,000,000,000)이 주어진다.\n",
        "#출력\n",
        "#입력으로 주어진 방까지 최소 개수의 방을 지나서 갈 때 몇 개의 방을 지나는지 출력한다.\n",
        "#예제 입력 1 \n",
        "#13\n",
        "#예제 출력 1\n",
        "#3\n",
        "\n",
        "N = int(input())\n",
        "\n",
        "c = 1\n",
        "c_six = 6\n",
        "cnt = 1\n",
        "\n",
        "while N>cnt :\n",
        "  c += 1\n",
        "  cnt += c_six\n",
        "  c_six += 6\n",
        "\n",
        "print(c) \n"
      ],
      "metadata": {
        "colab": {
          "base_uri": "https://localhost:8080/"
        },
        "id": "tL9KKA5Rq7XZ",
        "outputId": "e37d28d6-0bc6-4916-a2cd-686cb1386450"
      },
      "execution_count": 7,
      "outputs": [
        {
          "output_type": "stream",
          "name": "stdout",
          "text": [
            "13\n",
            "3\n"
          ]
        }
      ]
    },
    {
      "cell_type": "code",
      "source": [
        "#boj 1193\n",
        "\n",
        "#무한히 큰 배열에 다음과 같이 분수들이 적혀있다.\n",
        "\n",
        "# 1/1\t1/2\t1/3\t1/4\t1/5\t…   1 2\n",
        "# 2/1\t2/2\t2/3\t2/4\t…\t…    3 5\n",
        "# 3/1\t3/2\t3/3\t…\t…\t…     4\n",
        "# 4/1\t4/2\t…\t…\t…\t…      \n",
        "# 5/1\t…\t…\t…\t…\t…\n",
        "# …\t…\t…\t…\t…\t…\n",
        "# 이와 같이 나열된 분수들을 1/1 → 1/2 → 2/1 → 3/1 → 2/2 → … 과 같은 지그재그 순서로 차례대로 1번, 2번, 3번, 4번, 5번, … 분수라고 하자.\n",
        "\n",
        "# X가 주어졌을 때, X번째 분수를 구하는 프로그램을 작성하시오.\n",
        "\n",
        "# 입력\n",
        "# 첫째 줄에 X(1 ≤ X ≤ 10,000,000)가 주어진다.\n",
        "\n",
        "# 출력\n",
        "# 첫째 줄에 분수를 출력한다.\n",
        "\n",
        "# 예제 입력 1 \n",
        "# 1\n",
        "# 예제 출력 1 \n",
        "# 1/1\n",
        "\n",
        "X = int(input())\n",
        "n = 0  # i번째 대각선까지의 총 분수의 개수\n",
        "i = 0  # 대각선이 몇 번째 대각선인지에 대한 정보를 할당할 변수 (i번째 대각선)\n",
        "while X > n: \n",
        "  i += 1\n",
        "  n += i\n",
        "\n",
        "if i%2 == 0:      # 짝수 번째 대각선이면\n",
        "  a = (X + i) - n\n",
        "  b = (n - X) + 1 \n",
        "else:             # 홀수 번째 대각선이면\n",
        "  a = (n - X) + 1 \n",
        "  b = (X + i) - n \n",
        "\n",
        "print(f'{a}/{b}')"
      ],
      "metadata": {
        "colab": {
          "base_uri": "https://localhost:8080/"
        },
        "id": "mxfWYAvf8Q1s",
        "outputId": "b6c31227-13c8-4e11-9296-827dd1dca0e4"
      },
      "execution_count": 2,
      "outputs": [
        {
          "output_type": "stream",
          "name": "stdout",
          "text": [
            "8\n",
            "2/3\n"
          ]
        }
      ]
    },
    {
      "cell_type": "code",
      "source": [
        "#boj 2869\n",
        "#문제\n",
        "#땅 위에 달팽이가 있다. 이 달팽이는 높이가 V미터인 나무 막대를 올라갈 것이다.\n",
        "\n",
        "#달팽이는 낮에 A미터 올라갈 수 있다. 하지만, 밤에 잠을 자는 동안 B미터 미끄러진다. 또, 정상에 올라간 후에는 미끄러지지 않는다.\n",
        "\n",
        "#달팽이가 나무 막대를 모두 올라가려면, 며칠이 걸리는지 구하는 프로그램을 작성하시오.\n",
        "\n",
        "#입력\n",
        "#첫째 줄에 세 정수 A, B, V가 공백으로 구분되어서 주어진다. (1 ≤ B < A ≤ V ≤ 1,000,000,000)\n",
        "\n",
        "#출력\n",
        "#첫째 줄에 달팽이가 나무 막대를 모두 올라가는데 며칠이 걸리는지 출력한다.\n",
        "\n",
        "#예제 입력 1 \n",
        "#2 1 5\n",
        "#예제 출력 1 \n",
        "#4\n",
        "\n",
        "#A, B, V = map(int,input().split())\n",
        "#h = 0    # 총 올라간 높이\n",
        "#day = 1  # 소요된 일수\n",
        "#while True:\n",
        "#  h += A     # 낮에 A미터 올라감\n",
        "#  if h == V: # 정상에 올라가면\n",
        "#    break\n",
        "#  h -= B     # 밤에 B미터 미끄러짐\n",
        "#  day += 1   # 소요시간 하루 추가\n",
        "\n",
        "#print(day)\n",
        "\n",
        "import math\n",
        "\n",
        "A, B, V = map(int,input().split())\n",
        "day = 0\n",
        "#V - B = day(A - B)   #정상에 올려가면 떨어지지 않는 점을 고려해주기 위해 V에서 -B를 더해줌  \n",
        "day = (V - B) / (A - B)       \n",
        "print(math.ceil(day))\n"
      ],
      "metadata": {
        "colab": {
          "base_uri": "https://localhost:8080/"
        },
        "id": "PG-hYHQxhGpX",
        "outputId": "5ef13d50-0db8-4b5c-a3f2-348d208d49ec"
      },
      "execution_count": 2,
      "outputs": [
        {
          "output_type": "stream",
          "name": "stdout",
          "text": [
            "2 1 5\n",
            "4\n"
          ]
        }
      ]
    },
    {
      "cell_type": "code",
      "source": [
        "#boj 10250\n",
        "\n",
        "#그림 1. H = 6 이고 W = 12 인 H × W 호텔을 간략하게 나타낸 그림\n",
        "\n",
        "# 방 번호는 YXX 나 YYXX 형태인데 여기서 Y 나 YY 는 층 수를 나타내고 XX 는 엘리베이터에서부터 세었을 때의 번호를 나타낸다.\n",
        "# 즉, 그림 1 에서 빗금으로 표시한 방은 305 호가 된다.\n",
        "\n",
        "# 손님은 엘리베이터를 타고 이동하는 거리는 신경 쓰지 않는다. 다만 걷는 거리가 같을 때에는 아래층의 방을 더 선호한다.\n",
        "# 예를 들면 102 호 방보다는 301 호 방을 더 선호하는데, 102 호는 거리 2 만큼 걸어야 하지만 301 호는 거리 1 만큼만 걸으면 되기 때문이다.\n",
        "# 같은 이유로 102 호보다 2101 호를 더 선호한다.\n",
        "\n",
        "# 여러분이 작성할 프로그램은 초기에 모든 방이 비어있다고 가정하에 이 정책에 따라 N 번째로 도착한 손님에게 배정될 방 번호를 계산하는 프로그램이다.\n",
        "# 첫 번째 손님은 101 호, 두 번째 손님은 201 호 등과 같이 배정한다. 그림 1 의 경우를 예로 들면, H = 6이므로 10 번째 손님은 402 호에 배정해야 한다.\n",
        "\n",
        "# 입력\n",
        "# 프로그램은 표준 입력에서 입력 데이터를 받는다. 프로그램의 입력은 T 개의 테스트 데이터로 이루어져 있는데 T 는 입력의 맨 첫 줄에 주어진다.\n",
        "# 각 테스트 데이터는 한 행으로서 H, W, N, 세 정수를 포함하고 있으며 각각 호텔의 층 수,\n",
        "# 각 층의 방 수, 몇 번째 손님인지를 나타낸다(1 ≤ H, W ≤ 99, 1 ≤ N ≤ H × W). \n",
        "\n",
        "# 출력\n",
        "# 프로그램은 표준 출력에 출력한다. 각 테스트 데이터마다 정확히 한 행을 출력하는데, 내용은 N 번째 손님에게 배정되어야 하는 방 번호를 출력한다.\n",
        "\n",
        "# 예제 입력 \n",
        "# 2\n",
        "# 6 12 10\n",
        "# 30 50 72\n",
        "# 예제 출력 \n",
        "# 402\n",
        "# 1203\n",
        "\n",
        "T = int(input()) # T : test case 개수\n",
        "a = []\n",
        "for i in range(T):\n",
        "  h,w,n = map(int,input().split())\n",
        "  e = [h,w,n]\n",
        "  a.append(e)  \n",
        "\n",
        " # H : 층수, W : 각 층의 방 수, N : 몇 번째 손님인지\n",
        "for i in a:\n",
        "  H,W,N = i\n",
        "  num = 0\n",
        "  for j in range(1,W+1):\n",
        "    for k in range(1,H+1):\n",
        "      num += 1\n",
        "      if num == N:\n",
        "        print((k*100)+j)\n",
        "        break\n",
        "    if num == N:\n",
        "      break"
      ],
      "metadata": {
        "colab": {
          "base_uri": "https://localhost:8080/"
        },
        "id": "L2R6SM5n_dme",
        "outputId": "5127c38c-8d0a-40db-ae33-5d558474ebf0"
      },
      "execution_count": 20,
      "outputs": [
        {
          "output_type": "stream",
          "name": "stdout",
          "text": [
            "2\n",
            "6 12 10\n",
            "30 50 72\n",
            "402\n",
            "1203\n"
          ]
        }
      ]
    },
    {
      "cell_type": "code",
      "source": [
        "#boj 10250 다른풀이\n",
        "\n",
        "T = int(input()) # T : test case 개수\n",
        "\n",
        "for i in range(T):\n",
        "   H,W,N = map(int,input().split()) # H : 층수, W : 각 층의 방 수, N : 몇 번째 손님인지\n",
        "   if N % H == 0:   # N번째를 층수로 나누기 연산했을 때 나머지가 0이면\n",
        "     floor = H      # N번째 손님의 방 층수\n",
        "     num = N//H     # N번째 손님의 방 호수\n",
        "     print((floor*100)+num) \n",
        "\n",
        "   else :   \n",
        "     floor = N % H       # N번째 손님의 방 층수\n",
        "     num = (N // H) + 1  # N번째 손님의 방 호수\n",
        "     print((floor*100)+num)\n"
      ],
      "metadata": {
        "colab": {
          "base_uri": "https://localhost:8080/"
        },
        "id": "lmbvijTKkihv",
        "outputId": "efbf48d5-2903-4753-8427-351a2f283bc7"
      },
      "execution_count": 32,
      "outputs": [
        {
          "output_type": "stream",
          "name": "stdout",
          "text": [
            "2\n",
            "6 12 10\n",
            "402\n",
            "30 50 72\n",
            "1203\n"
          ]
        }
      ]
    }
  ]
}