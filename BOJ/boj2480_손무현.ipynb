{
  "nbformat": 4,
  "nbformat_minor": 0,
  "metadata": {
    "colab": {
      "provenance": [],
      "authorship_tag": "ABX9TyO8wzvAwd2JstL66RiVAJdU",
      "include_colab_link": true
    },
    "kernelspec": {
      "name": "python3",
      "display_name": "Python 3"
    },
    "language_info": {
      "name": "python"
    }
  },
  "cells": [
    {
      "cell_type": "markdown",
      "metadata": {
        "id": "view-in-github",
        "colab_type": "text"
      },
      "source": [
        "<a href=\"https://colab.research.google.com/github/MuHyeonSon/algorithm/blob/main/BOJ/boj2480_%EC%86%90%EB%AC%B4%ED%98%84.ipynb\" target=\"_parent\"><img src=\"https://colab.research.google.com/assets/colab-badge.svg\" alt=\"Open In Colab\"/></a>"
      ]
    },
    {
      "cell_type": "code",
      "execution_count": 3,
      "metadata": {
        "colab": {
          "base_uri": "https://localhost:8080/"
        },
        "id": "M2cTzQ_cYtxh",
        "outputId": "7cf5fd12-01db-40ea-cf35-ab41ffb31ecb"
      },
      "outputs": [
        {
          "output_type": "stream",
          "name": "stdout",
          "text": [
            "3 3 6\n",
            "1300\n"
          ]
        }
      ],
      "source": [
        "\"\"\"1에서부터 6까지의 눈을 가진 3개의 주사위를 던져서 다음과 같은 규칙에 따라 상금을 받는 게임이 있다. \n",
        "\n",
        "같은 눈이 3개가 나오면 10,000원+(같은 눈)×1,000원의 상금을 받게 된다. \n",
        "같은 눈이 2개만 나오는 경우에는 1,000원+(같은 눈)×100원의 상금을 받게 된다. \n",
        "모두 다른 눈이 나오는 경우에는 (그 중 가장 큰 눈)×100원의 상금을 받게 된다.  \n",
        "예를 들어, 3개의 눈 3, 3, 6이 주어지면 상금은 1,000+3×100으로 계산되어 1,300원을 받게 된다. 또 3개의 눈이 2, 2, 2로 주어지면 10,000+2×1,000 으로 계산되어 12,000원을 받게 된다. 3개의 눈이 6, 2, 5로 주어지면 그중 가장 큰 값이 6이므로 6×100으로 계산되어 600원을 상금으로 받게 된다.\n",
        "\n",
        "3개 주사위의 나온 눈이 주어질 때, 상금을 계산하는 프로그램을 작성 하시오.\n",
        "\n",
        "입력\n",
        "첫째 줄에 3개의 눈이 빈칸을 사이에 두고 각각 주어진다. \n",
        "\n",
        "출력\n",
        "첫째 줄에 게임의 상금을 출력 한다.\n",
        "\n",
        "예제 입력 1 \n",
        "3 3 6\n",
        "예제 출력 1 \n",
        "1300\n",
        "\"\"\"\n",
        "\n",
        "dice1, dice2, dice3 = map(int,input().split())\n",
        "price = 0\n",
        "if (dice1 == dice2) and (dice1 == dice3) and (dice2 == dice3):\n",
        "    prize = 10000 + (dice1)*1000\n",
        "elif (dice1 == dice2):\n",
        "    prize = 1000 + (dice1)*100\n",
        "elif (dice1 == dice3):\n",
        "    prize = 1000 + (dice1)*100\n",
        "elif (dice2 == dice3):\n",
        "    prize = 1000 + (dice2)*100\n",
        "else:\n",
        "    prize = max(dice1,dice2,dice3)*100\n",
        "    \n",
        "print(prize)"
      ]
    }
  ]
}